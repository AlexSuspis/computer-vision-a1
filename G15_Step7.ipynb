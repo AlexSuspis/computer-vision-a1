{
  "nbformat": 4,
  "nbformat_minor": 5,
  "metadata": {
    "kernelspec": {
      "display_name": "Python 3",
      "language": "python",
      "name": "python3"
    },
    "language_info": {
      "codemirror_mode": {
        "name": "ipython",
        "version": 3
      },
      "file_extension": ".py",
      "mimetype": "text/x-python",
      "name": "python",
      "nbconvert_exporter": "python",
      "pygments_lexer": "ipython3",
      "version": "3.8.8"
    },
    "colab": {
      "name": "G15-Step7",
      "provenance": [],
      "collapsed_sections": [
        "7cd61517"
      ]
    }
  },
  "cells": [
    {
      "cell_type": "code",
      "metadata": {
        "id": "1e7cce70"
      },
      "source": [
        "import numpy as np\n",
        "from numpy import all, any, array, arctan2, cos, sin, exp, dot, log, logical_and, roll, sqrt, stack, trace, unravel_index, pi, deg2rad, rad2deg, where, zeros, floor, full, nan, isnan, round, float32\n",
        "from numpy.linalg import det, lstsq, norm\n",
        "from sklearn.cluster import KMeans\n",
        "from sklearn.metrics import silhouette_score\n",
        "from sklearn.feature_extraction.image import extract_patches_2d\n",
        "from PIL import Image\n",
        "from functools import cmp_to_key\n",
        "import cv2\n",
        "from cv2 import resize, GaussianBlur, subtract, KeyPoint, INTER_LINEAR, INTER_NEAREST\n",
        "from google.colab.patches import cv2_imshow\n",
        "import matplotlib.pyplot as plt\n",
        "import argparse\n",
        "import math\n",
        "from math import sqrt\n",
        "from google.colab.patches import cv2_imshow\n",
        "import cv2\n",
        "import pandas as pd\n",
        "import seaborn as sns\n",
        "import glob"
      ],
      "id": "1e7cce70",
      "execution_count": 1,
      "outputs": []
    },
    {
      "cell_type": "markdown",
      "metadata": {
        "id": "3fac6152"
      },
      "source": [
        "## Global Variables ##"
      ],
      "id": "3fac6152"
    },
    {
      "cell_type": "code",
      "metadata": {
        "id": "3861782e"
      },
      "source": [
        "# Determines the length of floats the SIFT function will tolerate\n",
        "float_tolerance = 1e-7\n",
        "\n",
        "# Determines whether to run SIFT in verbose mode\n",
        "# (Prints out messages for debugging)\n",
        "VERBOSE_MODE = True"
      ],
      "id": "3861782e",
      "execution_count": 2,
      "outputs": []
    },
    {
      "cell_type": "markdown",
      "metadata": {
        "id": "7cd61517"
      },
      "source": [
        "# SIFT Implementation #"
      ],
      "id": "7cd61517"
    },
    {
      "cell_type": "markdown",
      "metadata": {
        "id": "c4c6941d"
      },
      "source": [
        "Please note: This implementation is largely based on the one originally created by Russ Islam, which can be found here:\n",
        "https://github.com/rmislam/PythonSIFT"
      ],
      "id": "c4c6941d"
    },
    {
      "cell_type": "markdown",
      "metadata": {
        "id": "09c4032b"
      },
      "source": [
        "## Image Pyramid Functions ##"
      ],
      "id": "09c4032b"
    },
    {
      "cell_type": "code",
      "metadata": {
        "id": "ad37ba18"
      },
      "source": [
        "# Generate the base image from the given input image\n",
        "# by upsampling by 2 in both directions and then applying\n",
        "# a Gaussian blur.\n",
        "def generateBaseImage(image, sigma, assumed_blur):\n",
        "    image = resize(image, (0, 0), fx=2, fy=2, interpolation=INTER_LINEAR)\n",
        "    sigma_diff = sqrt(max((sigma ** 2) - ((2 * assumed_blur) ** 2), 0.01))\n",
        "    \n",
        "    # The image blur is now sigma instead of assumed_blur\n",
        "    return GaussianBlur(image, (0, 0), sigmaX=sigma_diff, sigmaY=sigma_diff)  \n",
        "\n",
        "# Compute number of octaves in the image pyramid based\n",
        "# on the original OpenCV implementation.\n",
        "# (Function of base image shape)\n",
        "def computeOctaves(img_shape):\n",
        "    return int(round(log(min(img_shape)) / log(2)-1))\n",
        "\n",
        "# Generate a list of Gaussian Kernels at which to blur the image\n",
        "# Default values of sigma, intervals, and octaves are based on section 3\n",
        "# of David G. Lowe's paper.\n",
        "def generateGaussianKernels(sigma, intervals):\n",
        "    # Set number of intervals\n",
        "    images_per_octave = intervals + 3\n",
        "    k = 2 ** (1.0 / intervals) # Normalise\n",
        "    \n",
        "    # Scale of gaussian blur necessary to go from one blur scale to the next within an octave\n",
        "    gaussian_kernels = zeros(images_per_octave)\n",
        "    gaussian_kernels[0] = sigma\n",
        "\n",
        "    # For each image, work out the appropriate sigma value\n",
        "    for image_index in range(1, images_per_octave):\n",
        "        sigma_previous = (k ** (image_index - 1)) * sigma\n",
        "        sigma_total = k * sigma_previous\n",
        "        gaussian_kernels[image_index] = sqrt(sigma_total ** 2 - sigma_previous ** 2)\n",
        "    return gaussian_kernels\n",
        "\n",
        "# Generate the scale-space pyramid of Gaussian Images\n",
        "# See: Lecture 7 - Page 14\n",
        "def generateGaussianImages(img, octaves, kernels):\n",
        "    \n",
        "    gaussian_images = []\n",
        "    \n",
        "    for octave_index in range(octaves):\n",
        "        gaussian_images_in_octave = []\n",
        "        # First image in pyramid already has the correct blur\n",
        "        gaussian_images_in_octave.append(img)\n",
        "        \n",
        "        # Blur each image\n",
        "        for kernel in kernels[1:]:\n",
        "            #print(kernel) DEBUG\n",
        "            #img = gaussian_blur(img, 1, kernel) # ORIGINALLY 0\n",
        "            img = GaussianBlur(img, (0, 0), sigmaX=kernel, sigmaY=kernel)\n",
        "            gaussian_images_in_octave.append(img)\n",
        "        \n",
        "        # Append images to master array\n",
        "        gaussian_images.append(gaussian_images_in_octave)\n",
        "        octave_base = gaussian_images_in_octave[-3]\n",
        "        \n",
        "        # Resize image\n",
        "        img = resize(octave_base, (int(octave_base.shape[1] / 2), int(octave_base.shape[0] / 2)), interpolation=INTER_NEAREST)\n",
        "    \n",
        "    return array(gaussian_images, dtype=object)\n",
        "\n",
        "# Generate a Difference of Gaussian (DoG) image pyramid\n",
        "def generateDoGImages(gaussian_images):\n",
        "    \n",
        "    dog_images = []\n",
        "    \n",
        "    # Similar process to latter function\n",
        "    for gaussian_images_in_octave in gaussian_images:\n",
        "        dog_images_in_octave = []\n",
        "        \n",
        "        for first_image, second_image in zip(gaussian_images_in_octave, gaussian_images_in_octave[1:]):\n",
        "            # Ordinary subtraction will not work because the images are unsigned integers\n",
        "            dog_images_in_octave.append(subtract(second_image, first_image))\n",
        "        \n",
        "        dog_images.append(dog_images_in_octave)\n",
        "        \n",
        "    return array(dog_images, dtype=object)"
      ],
      "id": "ad37ba18",
      "execution_count": 3,
      "outputs": []
    },
    {
      "cell_type": "markdown",
      "metadata": {
        "id": "6a48e4e3"
      },
      "source": [
        "## Scale Space Extrema Functions ##"
      ],
      "id": "6a48e4e3"
    },
    {
      "cell_type": "code",
      "metadata": {
        "id": "8637f336"
      },
      "source": [
        "# Find the pixel positions of all Scale-Space Extrema in the image pyramid\n",
        "def findScaleSpaceExtrema(gaussian_images, dog_images, num_intervals, sigma, image_border_width, contrast_threshold=0.04):\n",
        "\n",
        "    # From OpenCV implementation\n",
        "    threshold = floor(0.5 * contrast_threshold / num_intervals * 255)  \n",
        "    keypoints = []\n",
        "\n",
        "    for octave_index, dog_images_in_octave in enumerate(dog_images):\n",
        "        for image_index, (first_image, second_image, third_image) in enumerate(zip(dog_images_in_octave, dog_images_in_octave[1:], dog_images_in_octave[2:])):\n",
        "            # (i, j) is the center of the 3x3 array\n",
        "            for i in range(image_border_width, first_image.shape[0] - image_border_width):\n",
        "                for j in range(image_border_width, first_image.shape[1] - image_border_width):\n",
        "                    # Checks for extrenum values\n",
        "                    if isPixelAnExtremum(first_image[i-1:i+2, j-1:j+2], second_image[i-1:i+2, j-1:j+2], third_image[i-1:i+2, j-1:j+2], threshold):\n",
        "                        localization_result = localizeExtremumViaQuadraticFit(i, j, image_index + 1, octave_index, num_intervals, dog_images_in_octave, sigma, contrast_threshold, image_border_width)\n",
        "                        if localization_result is not None:\n",
        "                            keypoint, localized_image_index = localization_result\n",
        "                            keypoints_with_orientations = computeKeypointsWithOrientations(keypoint, octave_index, gaussian_images[octave_index][localized_image_index])\n",
        "                            for keypoint_with_orientation in keypoints_with_orientations:\n",
        "                                keypoints.append(keypoint_with_orientation)\n",
        "    return keypoints\n",
        "\n",
        "# Returns true if the centre element of the 3x3x3 input array is strictly greater\n",
        "# than or less than all of its neighbours, and false otherwise\n",
        "def isPixelAnExtremum(first_subimage, second_subimage, third_subimage, threshold):\n",
        "  centre_pixel_value = second_subimage[1,1]\n",
        "\n",
        "  # Checks if pixel value is above the given threshold\n",
        "  if abs(centre_pixel_value) > threshold:\n",
        "    if centre_pixel_value > 0:\n",
        "      # Check pixel against its neighbours\n",
        "      return all(centre_pixel_value >= first_subimage) and \\\n",
        "                   all(centre_pixel_value >= third_subimage) and \\\n",
        "                   all(centre_pixel_value >= second_subimage[0, :]) and \\\n",
        "                   all(centre_pixel_value >= second_subimage[2, :]) and \\\n",
        "                   centre_pixel_value >= second_subimage[1,0] and \\\n",
        "                   centre_pixel_value >= second_subimage[1,2]\n",
        "    elif centre_pixel_value < 0:\n",
        "        return all(centre_pixel_value <= first_subimage) and \\\n",
        "                all(centre_pixel_value <= third_subimage) and \\\n",
        "                all(centre_pixel_value <= second_subimage[0, :]) and \\\n",
        "                all(centre_pixel_value <= second_subimage[2, :]) and \\\n",
        "                centre_pixel_value <= second_subimage[1,0] and \\\n",
        "                centre_pixel_value <= second_subimage[1,2]\n",
        "  return False\n",
        "\n",
        "# Iteratively refine pixel positions of Scale Space extrema\n",
        "# via quadratic fit around each extremum's neighbors\n",
        "def localizeExtremumViaQuadraticFit(i, j, image_index, octave_index, intervals, dog_images_in_octave, \n",
        "                                    sigma, contrast_threshold, image_border_width, \n",
        "                                    eigenvalue_ratio=10, attempts_until_convergence=5):\n",
        "  extremum_is_outside_image = False\n",
        "  image_shape = dog_images_in_octave[0].shape\n",
        "\n",
        "  for attempt_index in range(attempts_until_convergence):\n",
        "    # We need to convert from uint8 to float32 to compute derivatives\n",
        "    # after which we need to rescale pixel values to [0, 1] to apply Lowe's thresholds\n",
        "    first_image, second_image, third_image = dog_images_in_octave[image_index-1:image_index+2]\n",
        "    pixel_cube = stack([first_image[i-1:i+2, j-1:j+2],\n",
        "                        second_image[i-1:i+2, j-1:j+2],\n",
        "                        third_image[i-1:i+2, j-1:j+2]]).astype('float32') / 255.\n",
        "    # Compute the gradient and hessian values\n",
        "    gradient = computeGradientAtCentrePixel(pixel_cube)\n",
        "    hessian = computeHessianAtCentrePixel(pixel_cube)\n",
        "\n",
        "    # Compute the least-squares solution of the hessian and the gradient matrices\n",
        "    extremum_update = -lstsq(hessian, gradient, rcond=None)[0]\n",
        "    if abs(extremum_update[0]) < 0.5 and abs(extremum_update[1]) < 0.5 and abs(extremum_update[2]) < 0.5:\n",
        "        break\n",
        "    j += int(round(extremum_update[0]))\n",
        "    i += int(round(extremum_update[1]))\n",
        "    image_index += int(round(extremum_update[2]))\n",
        "\n",
        "    # Make sure the new pixel_cube will lie entirely within the image\n",
        "    if i < image_border_width or i >= image_shape[0] - image_border_width or j < image_border_width or j >= image_shape[1] - image_border_width or image_index < 1 or image_index > intervals:\n",
        "        extremum_is_outside_image = True\n",
        "        break\n",
        "\n",
        "  # Logging functions\n",
        "  if extremum_is_outside_image:\n",
        "      #logger.debug('Updated extremum moved outside of image before reaching convergence. Skipping...')\n",
        "      return None\n",
        "  if attempt_index >= attempts_until_convergence - 1:\n",
        "      #logger.debug('Exceeded maximum number of attempts without reaching convergence for this extremum. Skipping...')\n",
        "      return None\n",
        "\n",
        "  functionValueAtUpdatedExtremum = pixel_cube[1, 1, 1] + 0.5 * dot(gradient, extremum_update)\n",
        "  if abs(functionValueAtUpdatedExtremum) * intervals >= contrast_threshold:\n",
        "      xy_hessian = hessian[:2, :2]\n",
        "      xy_hessian_trace = trace(xy_hessian)\n",
        "      xy_hessian_det = det(xy_hessian)\n",
        "      if xy_hessian_det > 0 and eigenvalue_ratio * (xy_hessian_trace ** 2) < ((eigenvalue_ratio + 1) ** 2) * xy_hessian_det:\n",
        "          # Contrast check passed -- construct and return OpenCV KeyPoint object\n",
        "          # MAKE OWN KEYPOINT^^^\n",
        "          keypoint = KeyPoint()\n",
        "          keypoint.pt = ((j + extremum_update[0]) * (2 ** octave_index), (i + extremum_update[1]) * (2 ** octave_index))\n",
        "          keypoint.octave = octave_index + image_index * (2 ** 8) + int(round((extremum_update[2] + 0.5) * 255)) * (2 ** 16)\n",
        "          # Octave_index + 1 because the input image was doubled\n",
        "          keypoint.size = sigma * (2 ** ((image_index + extremum_update[2]) / float32(intervals))) * (2 ** (octave_index + 1)) \n",
        "          keypoint.response = abs(functionValueAtUpdatedExtremum)\n",
        "          return keypoint, image_index\n",
        "  return None\n",
        "\n",
        "# Approximate the gradient at the centre pixel (of 3x3x3 array)\n",
        "# by using the \"Central Difference\" formula (Order: O(h^2))\n",
        "# See: https://learn.lboro.ac.uk/archive/olmp/olmp_resources/pages/workbooks_1_50_jan2008/Workbook31/31_3_num_diff.pdf\n",
        "def computeGradientAtCentrePixel(pixel_array):\n",
        "  # Central Difference formula considering h (step size) of order O(h^2) for f'(x) \n",
        "  # is (f(x + h) - f(x - h)) / (2 * h)\n",
        "  # Since h=1 in this case, we get: f'(x) = (f(x + 1) - f(x - 1)) / 2\n",
        "  # NOTE: x corresponds to second array axis, y corresponds to first array axis, and s (scale) corresponds to third array axis\n",
        "  dx = 0.5 * (pixel_array[1, 1, 2] - pixel_array[1, 1, 0])\n",
        "  dy = 0.5 * (pixel_array[1, 2, 1] - pixel_array[1, 0, 1])\n",
        "  ds = 0.5 * (pixel_array[2, 1, 1] - pixel_array[0, 1, 1])\n",
        "\n",
        "  return array([dx, dy, ds])\n",
        "\n",
        "# Same principles as the function above\n",
        "def computeHessianAtCentrePixel(pixel_array):\n",
        "  \n",
        "  # Central Difference formula considering h (step size) of order O(h^2) for \n",
        "  # (d^2) f(x, y) / (dx dy) = (f(x + h, y + h) - f(x + h, y - h) - f(x - h, y + h) + f(x - h, y - h)) / (4 * h ^ 2)\n",
        "  # Since h=1 in this case, we get: \n",
        "  # (d^2) f(x, y) / (dx dy) = (f(x + 1, y + 1) - f(x + 1, y - 1) - f(x - 1, y + 1) + f(x - 1, y - 1)) / 4\n",
        "  \n",
        "  centre_pixel_value = pixel_array[1,1,1]\n",
        "\n",
        "  dxx = pixel_array[1,1,2] - 2 * centre_pixel_value + pixel_array[1,1,0]\n",
        "  dyy = pixel_array[1,2,1] - 2 * centre_pixel_value + pixel_array[1,0,1]\n",
        "  dss = pixel_array[2,1,1] - 2 * centre_pixel_value + pixel_array[0,1,1]\n",
        "\n",
        "  dxy = 0.25 * (pixel_array[1,2,2] - pixel_array[1,2,0] - pixel_array[1,0,2] + pixel_array[1,0,0])\n",
        "  dxs = 0.25 * (pixel_array[2,1,2] - pixel_array[2,1,0] - pixel_array[0,1,2] + pixel_array[0,1,0])\n",
        "  dys = 0.25 * (pixel_array[2,2,1] - pixel_array[2,0,1] - pixel_array[0,2,1] + pixel_array[0,0,1])\n",
        "  return array([[dxx, dxy, dxs], \n",
        "              [dxy, dyy, dys],\n",
        "              [dxs, dys, dss]])"
      ],
      "id": "8637f336",
      "execution_count": 4,
      "outputs": []
    },
    {
      "cell_type": "markdown",
      "metadata": {
        "id": "5e6367c2"
      },
      "source": [
        "## Keypoint Orientation Function ##"
      ],
      "id": "5e6367c2"
    },
    {
      "cell_type": "code",
      "metadata": {
        "id": "ab5806f8"
      },
      "source": [
        "# Computes the orientations of each keypoint\n",
        "def computeKeypointsWithOrientations(keypoint, octave_index, gaussian_image, radius_factor=3, \n",
        "                                     num_bins=36, peak_ratio=0.8, scale_factor=1.5):\n",
        "  keypoints_with_orientations = []\n",
        "  image_shape = gaussian_image.shape\n",
        "\n",
        "  # Comparison with keypoint.size computation in \"localizeExtremumViaQuadraticFit()\"\n",
        "  scale = scale_factor * keypoint.size / float32(2 ** (octave_index + 1))\n",
        "\n",
        "  # Prepare histogram values\n",
        "  radius = int(round(radius_factor * scale))\n",
        "  weight_factor = -0.5 / (scale ** 2)\n",
        "  raw_histogram = zeros(num_bins)\n",
        "  smooth_histogram = zeros(num_bins)\n",
        "\n",
        "  # Go through the Y-range\n",
        "  for i in range(-radius, radius + 1):\n",
        "        region_y = int(round(keypoint.pt[1] / float32(2 ** octave_index))) + i\n",
        "        if region_y > 0 and region_y < image_shape[0] - 1:\n",
        "            # Go through the X-range\n",
        "            for j in range(-radius, radius + 1):\n",
        "                region_x = int(round(keypoint.pt[0] / float32(2 ** octave_index))) + j\n",
        "                if region_x > 0 and region_x < image_shape[1] - 1:\n",
        "                    dx = gaussian_image[region_y, region_x + 1] - gaussian_image[region_y, region_x - 1]\n",
        "                    dy = gaussian_image[region_y - 1, region_x] - gaussian_image[region_y + 1, region_x]\n",
        "                    \n",
        "                    gradient_magnitude = sqrt(dx * dx + dy * dy)\n",
        "                    gradient_orientation = rad2deg(arctan2(dy, dx))\n",
        "                    \n",
        "                    # Constant in front of exponential can be dropped since peaks will be found later\n",
        "                    weight = exp(weight_factor * (i ** 2 + j ** 2))  \n",
        "                    histogram_index = int(round(gradient_orientation * num_bins / 360.))\n",
        "                    raw_histogram[histogram_index % num_bins] += weight * gradient_magnitude\n",
        "  \n",
        "  # Iterate through number of histogram bins\n",
        "  for n in range(num_bins):\n",
        "        smooth_histogram[n] = (6 * raw_histogram[n] + 4 * (raw_histogram[n - 1] + raw_histogram[(n + 1) % num_bins]) + raw_histogram[n - 2] + raw_histogram[(n + 2) % num_bins]) / 16.\n",
        "  \n",
        "  orientation_max = max(smooth_histogram)\n",
        "  orientation_peaks = where(logical_and(smooth_histogram > roll(smooth_histogram, 1), smooth_histogram > roll(smooth_histogram, -1)))[0]\n",
        "  \n",
        "  # For each peak value in orientation_peaks\n",
        "  for peak_index in orientation_peaks:\n",
        "      peak_value = smooth_histogram[peak_index]\n",
        "      if peak_value >= peak_ratio * orientation_max:\n",
        "          # Quadratic peak interpolation\n",
        "          # The interpolation update is given by equation (6.30) in:\n",
        "          # https://ccrma.stanford.edu/~jos/sasp/Quadratic_Interpolation_Spectral_Peaks.html\n",
        "\n",
        "          left_value = smooth_histogram[(peak_index - 1) % num_bins]\n",
        "          right_value = smooth_histogram[(peak_index + 1) % num_bins]\n",
        "          interpolated_peak_index = (peak_index + 0.5 * (left_value - right_value) / (left_value - 2 * peak_value + right_value)) % num_bins\n",
        "          orientation = 360. - interpolated_peak_index * 360. / num_bins\n",
        "          if abs(orientation - 360.) < float_tolerance:\n",
        "              orientation = 0\n",
        "          new_keypoint = KeyPoint(*keypoint.pt, keypoint.size, orientation, keypoint.response, keypoint.octave)\n",
        "          keypoints_with_orientations.append(new_keypoint)\n",
        "  return keypoints_with_orientations\n"
      ],
      "id": "ab5806f8",
      "execution_count": 5,
      "outputs": []
    },
    {
      "cell_type": "markdown",
      "metadata": {
        "id": "41d616bc"
      },
      "source": [
        "## Duplicate Keypoint Removal Functions ##"
      ],
      "id": "41d616bc"
    },
    {
      "cell_type": "code",
      "metadata": {
        "id": "ea75ad28"
      },
      "source": [
        "# Returns true if the first keypoint is \"less\" than the second\n",
        "# Used in the next function to remove duplicate keypoints\n",
        "def compareKeypoints(keypoint1, keypoint2):\n",
        "\n",
        "  # All attributes of the keypoints are compared\n",
        "  if keypoint1.pt[0] != keypoint2.pt[0]:\n",
        "    return keypoint1.pt[0] - keypoint2.pt[0]\n",
        "  if keypoint1.pt[1] != keypoint2.pt[1]:\n",
        "    return keypoint1.pt[1] - keypoint2.pt[1]\n",
        "  if keypoint1.size != keypoint2.size:\n",
        "    return keypoint2.size - keypoint1.size\n",
        "  if keypoint1.angle != keypoint2.angle:\n",
        "    return keypoint1.angle - keypoint2.angle\n",
        "  if keypoint1.response != keypoint2.response:\n",
        "    return keypoint2.response - keypoint1.response\n",
        "  if keypoint1.octave != keypoint2.octave:\n",
        "    return keypoint2.octave - keypoint1.octave\n",
        "  return keypoint2.class_id - keypoint1.class_id\n",
        "\n",
        "# Sorts the keypoints and then removes any duplicates\n",
        "def removeDuplicateKeypoints(keypoints):\n",
        "    # Checks if there is only 1 or no keypoints\n",
        "    if len(keypoints) < 2:\n",
        "        return keypoints\n",
        "    \n",
        "    # The sort method is called with a key pointing to the previous function.\n",
        "    # This allows the program to run the function on each element while it is sorting.\n",
        "    keypoints.sort(key=cmp_to_key(compareKeypoints))\n",
        "    unique_keypoints = [keypoints[0]]\n",
        "    \n",
        "    # Remove the duplicate keypoints\n",
        "    for next_keypoint in keypoints[1:]:\n",
        "        last_unique_keypoint = unique_keypoints[-1]\n",
        "        if last_unique_keypoint.pt[0] != next_keypoint.pt[0] or \\\n",
        "           last_unique_keypoint.pt[1] != next_keypoint.pt[1] or \\\n",
        "           last_unique_keypoint.size != next_keypoint.size or \\\n",
        "           last_unique_keypoint.angle != next_keypoint.angle:\n",
        "            unique_keypoints.append(next_keypoint)\n",
        "            \n",
        "    return unique_keypoints"
      ],
      "id": "ea75ad28",
      "execution_count": 6,
      "outputs": []
    },
    {
      "cell_type": "markdown",
      "metadata": {
        "id": "2387e750"
      },
      "source": [
        "## Keypoint Scale Conversion Function ##"
      ],
      "id": "2387e750"
    },
    {
      "cell_type": "code",
      "metadata": {
        "id": "bc12297c"
      },
      "source": [
        "# Converts the keypoint point, size, and octave to the size to the input image\n",
        "def convertKeypointsToInputImageSize(keypoints):\n",
        "\n",
        "  converted_keypoints = []\n",
        "\n",
        "  for keypoint in keypoints:\n",
        "    keypoint.pt = tuple(0.5 * array(keypoint.pt))\n",
        "    keypoint.size *= 0.5\n",
        "\n",
        "    # The \"~\" is the bitwise operator. It returns (-x) - 1 (e.g. ~4 = -5)\n",
        "    # The \"|\" operator is the union operator for sets, but here it is used\n",
        "    # as a standard binary operator <- CHECK!!!\n",
        "    keypoint.octave = (keypoint.octave & ~255) | ((keypoint.octave - 1) & 255)\n",
        "\n",
        "    # Add the newly converted keypoint to array\n",
        "    converted_keypoints.append(keypoint)\n",
        "  \n",
        "  return converted_keypoints"
      ],
      "id": "bc12297c",
      "execution_count": 7,
      "outputs": []
    },
    {
      "cell_type": "markdown",
      "metadata": {
        "id": "c4804952"
      },
      "source": [
        "## Descriptor Generation ##"
      ],
      "id": "c4804952"
    },
    {
      "cell_type": "code",
      "metadata": {
        "scrolled": true,
        "id": "656e0f5f"
      },
      "source": [
        "# Compute octave, layer, and scale from a keypoint\n",
        "def unpackOctave(keypoint):\n",
        "    octave = keypoint.octave & 255\n",
        "    layer = (keypoint.octave >> 8) & 255\n",
        "    if octave >= 128:\n",
        "        octave = octave | -128\n",
        "    scale = 1 / float32(1 << octave) if octave >= 0 else float32(1 << -octave)\n",
        "    return octave, layer, scale\n",
        "\n",
        "# Generates the descriptors for each keypoint\n",
        "def generateDescriptors(keypoints, gaussian_images, window_width=4, num_bins=8,\n",
        "                        scale_multiplier=3, descriptor_max_value=0.2):\n",
        "    \n",
        "    descriptors = []\n",
        "\n",
        "    # Iterate through each keypoint\n",
        "    for keypoint in keypoints:\n",
        "        \n",
        "        # Here, we will create a new gradient histogram for each\n",
        "        # keypoint. Then, we also calculate the gradient magnitude\n",
        "        # and orientation of each pixel.\n",
        "        \n",
        "        # Unpack the octave and begin histogram creation\n",
        "        octave, layer, scale = unpackOctave(keypoint)\n",
        "        gaussian_image = gaussian_images[octave + 1, layer]\n",
        "        num_rows, num_cols = gaussian_image.shape\n",
        "        point = round(scale * array(keypoint.pt)).astype('int')\n",
        "        bins_per_degree = num_bins / 360.\n",
        "        \n",
        "        # Work out the orientation\n",
        "        angle = 360. - keypoint.angle\n",
        "        cos_angle = cos(deg2rad(angle))\n",
        "        sin_angle = sin(deg2rad(angle))\n",
        "        weight_multiplier = -0.5 / ((0.5 * window_width) ** 2)\n",
        "        \n",
        "        # We don't actually \"draw\" the histograms, we simply keep track of the\n",
        "        # bin values and bin indexes.\n",
        "        row_bin_list = []\n",
        "        col_bin_list = []\n",
        "        magnitude_list = []\n",
        "        orientation_bin_list = []\n",
        "        \n",
        "        # The first two dimensions are increased by 2 to account for border effects\n",
        "        histogram_tensor = zeros((window_width + 2, window_width + 2, num_bins))   \n",
        "\n",
        "        # Descriptor window size (described by half_width) follows OpenCV convention\n",
        "        hist_width = scale_multiplier * 0.5 * scale * keypoint.size\n",
        "        \n",
        "        # sqrt(2) corresponds to diagonal length of a pixel\n",
        "        half_width = int(round(hist_width * sqrt(2) * (window_width + 1) * 0.5))\n",
        "        \n",
        "        # Ensure half_width lies within image\n",
        "        half_width = int(min(half_width, sqrt(num_rows ** 2 + num_cols ** 2)))     \n",
        "\n",
        "        # Calculating each pixel's (hence iteration) gradient magnitude and orientation\n",
        "        for row in range(-half_width, half_width + 1):\n",
        "            for col in range(-half_width, half_width + 1):\n",
        "                row_rot = col * sin_angle + row * cos_angle\n",
        "                col_rot = col * cos_angle - row * sin_angle\n",
        "                row_bin = (row_rot / hist_width) + 0.5 * window_width - 0.5\n",
        "                col_bin = (col_rot / hist_width) + 0.5 * window_width - 0.5\n",
        "                if row_bin > -1 and row_bin < window_width and col_bin > -1 and col_bin < window_width:\n",
        "                    window_row = int(round(point[1] + row))\n",
        "                    window_col = int(round(point[0] + col))\n",
        "                    if window_row > 0 and window_row < num_rows - 1 and window_col > 0 and window_col < num_cols - 1:\n",
        "                        dx = gaussian_image[window_row, window_col + 1] - gaussian_image[window_row, window_col - 1]\n",
        "                        dy = gaussian_image[window_row - 1, window_col] - gaussian_image[window_row + 1, window_col]\n",
        "                        gradient_magnitude = sqrt(dx * dx + dy * dy)\n",
        "                        gradient_orientation = rad2deg(arctan2(dy, dx)) % 360\n",
        "                        weight = exp(weight_multiplier * ((row_rot / hist_width) ** 2 + (col_rot / hist_width) ** 2))\n",
        "                        row_bin_list.append(row_bin)\n",
        "                        col_bin_list.append(col_bin)\n",
        "                        magnitude_list.append(weight * gradient_magnitude)\n",
        "                        orientation_bin_list.append((gradient_orientation - angle) * bins_per_degree)\n",
        "\n",
        "        for row_bin, col_bin, magnitude, orientation_bin in zip(row_bin_list, col_bin_list, magnitude_list, orientation_bin_list):\n",
        "            \n",
        "            # Smoothing via trilinear interpolation\n",
        "            # Notations follows https://en.wikipedia.org/wiki/Trilinear_interpolation\n",
        "            # Note that we are really doing the inverse of trilinear interpolation here (we take the center value of the cube and distribute it among its eight neighbors)\n",
        "            row_bin_floor, col_bin_floor, orientation_bin_floor = floor([row_bin, col_bin, orientation_bin]).astype(int)\n",
        "            row_fraction, col_fraction, orientation_fraction = row_bin - row_bin_floor, col_bin - col_bin_floor, orientation_bin - orientation_bin_floor\n",
        "            if orientation_bin_floor < 0:\n",
        "                orientation_bin_floor += num_bins\n",
        "            if orientation_bin_floor >= num_bins:\n",
        "                orientation_bin_floor -= num_bins\n",
        "\n",
        "            c1 = magnitude * row_fraction\n",
        "            c0 = magnitude * (1 - row_fraction)\n",
        "            c11 = c1 * col_fraction\n",
        "            c10 = c1 * (1 - col_fraction)\n",
        "            c01 = c0 * col_fraction\n",
        "            c00 = c0 * (1 - col_fraction)\n",
        "            c111 = c11 * orientation_fraction\n",
        "            c110 = c11 * (1 - orientation_fraction)\n",
        "            c101 = c10 * orientation_fraction\n",
        "            c100 = c10 * (1 - orientation_fraction)\n",
        "            c011 = c01 * orientation_fraction\n",
        "            c010 = c01 * (1 - orientation_fraction)\n",
        "            c001 = c00 * orientation_fraction\n",
        "            c000 = c00 * (1 - orientation_fraction)\n",
        "\n",
        "            histogram_tensor[row_bin_floor + 1, col_bin_floor + 1, orientation_bin_floor] += c000\n",
        "            histogram_tensor[row_bin_floor + 1, col_bin_floor + 1, (orientation_bin_floor + 1) % num_bins] += c001\n",
        "            histogram_tensor[row_bin_floor + 1, col_bin_floor + 2, orientation_bin_floor] += c010\n",
        "            histogram_tensor[row_bin_floor + 1, col_bin_floor + 2, (orientation_bin_floor + 1) % num_bins] += c011\n",
        "            histogram_tensor[row_bin_floor + 2, col_bin_floor + 1, orientation_bin_floor] += c100\n",
        "            histogram_tensor[row_bin_floor + 2, col_bin_floor + 1, (orientation_bin_floor + 1) % num_bins] += c101\n",
        "            histogram_tensor[row_bin_floor + 2, col_bin_floor + 2, orientation_bin_floor] += c110\n",
        "            histogram_tensor[row_bin_floor + 2, col_bin_floor + 2, (orientation_bin_floor + 1) % num_bins] += c111\n",
        "\n",
        "        descriptor_vector = histogram_tensor[1:-1, 1:-1, :].flatten()  # Remove histogram borders\n",
        "        # Threshold and normalize descriptor_vector\n",
        "        threshold = norm(descriptor_vector) * descriptor_max_value\n",
        "        descriptor_vector[descriptor_vector > threshold] = threshold\n",
        "        descriptor_vector /= max(norm(descriptor_vector), float_tolerance)\n",
        "        # Multiply by 512, round, and saturate between 0 and 255 to convert from float32 to unsigned char (OpenCV convention)\n",
        "        descriptor_vector = round(512 * descriptor_vector)\n",
        "        descriptor_vector[descriptor_vector < 0] = 0\n",
        "        descriptor_vector[descriptor_vector > 255] = 255\n",
        "        descriptors.append(descriptor_vector)\n",
        "    return array(descriptors, dtype='float32')"
      ],
      "id": "656e0f5f",
      "execution_count": 8,
      "outputs": []
    },
    {
      "cell_type": "markdown",
      "metadata": {
        "id": "1361d15e"
      },
      "source": [
        "## Main SIFT Function ##"
      ],
      "id": "1361d15e"
    },
    {
      "cell_type": "code",
      "metadata": {
        "id": "af2acd70"
      },
      "source": [
        "# Computes the SIFT descriptors and keypoints for a given image\n",
        "def computeKeypointsAndDescriptors(image, sigma=1.6, num_intervals=3, assumed_blur=0.5, image_border_width=5):\n",
        "    \n",
        "    if (VERBOSE_MODE == True):\n",
        "        img_temp = image\n",
        "        image = image.astype('float32')\n",
        "        print(\"GENERATING BASE IMAGE...\")\n",
        "        base_image = generateBaseImage(image, sigma, assumed_blur)\n",
        "        print(\"OK!\")\n",
        "        print(\"COMPUTING OCTAVES...\")\n",
        "        num_octaves = computeOctaves(base_image.shape)\n",
        "        print(\"OK!\")\n",
        "        print(\"GENERATING KERNELS...\")\n",
        "        gaussian_kernels = generateGaussianKernels(sigma, num_intervals)\n",
        "        print(\"OK!\")\n",
        "        print(\"GENERATING GAUSSIAN IMAGES...\")\n",
        "        gaussian_images = generateGaussianImages(base_image, num_octaves, gaussian_kernels)\n",
        "        print(\"OK!\")\n",
        "        print(\"GENERATING DIFFERENCE OF GAUSSIAN IMAGES...\")\n",
        "        dog_images = generateDoGImages(gaussian_images)\n",
        "        print(\"OK!\")\n",
        "        print(\"ATTEMPTING TO FIND SCALE-SPACE EXTREMA... (PLEASE WAIT)\")\n",
        "        keypoints = findScaleSpaceExtrema(gaussian_images, dog_images, num_intervals, sigma, image_border_width)\n",
        "        print(\"OK!\")\n",
        "        print(\"REMOVING DUPLICATE KEYPOINTS...\")\n",
        "        keypoints = removeDuplicateKeypoints(keypoints)\n",
        "        print(\"OK!\")\n",
        "        print(\"CONVERTING KEYPOINTS TO INPUT IMAGE SIZE...\")\n",
        "        keypoints = convertKeypointsToInputImageSize(keypoints)\n",
        "        print(\"OK!\")\n",
        "        print(keypoints)\n",
        "        print(\"GENERATING DESCRIPTORS...\")\n",
        "        descriptors = generateDescriptors(keypoints, gaussian_images)\n",
        "        print(\"OK!\")\n",
        "        print(\"DONE! RETURNING KEYPOINTS AND DESCRIPTORS... (PLEASE WAIT)\")\n",
        "        \n",
        "        return keypoints, descriptors\n",
        "    else:\n",
        "        img_temp = image\n",
        "        image = image.astype('float32')\n",
        "        base_image = generateBaseImage(image, sigma, assumed_blur)\n",
        "        num_octaves = computeOctaves(base_image.shape)\n",
        "        gaussian_kernels = generateGaussianKernels(sigma, num_intervals)\n",
        "        gaussian_images = generateGaussianImages(base_image, num_octaves, gaussian_kernels)\n",
        "        dog_images = generateDoGImages(gaussian_images)\n",
        "        keypoints = findScaleSpaceExtrema(gaussian_images, dog_images, num_intervals, sigma, image_border_width)\n",
        "        keypoints = removeDuplicateKeypoints(keypoints)\n",
        "        keypoints = convertKeypointsToInputImageSize(keypoints)\n",
        "        descriptors = generateDescriptors(keypoints, gaussian_images)\n",
        "        \n",
        "        return keypoints, descriptors\n",
        "    "
      ],
      "id": "af2acd70",
      "execution_count": 9,
      "outputs": []
    },
    {
      "cell_type": "markdown",
      "metadata": {
        "id": "xkTEu1q1VYQz"
      },
      "source": [
        "# Loading The Dataset #"
      ],
      "id": "xkTEu1q1VYQz"
    },
    {
      "cell_type": "code",
      "metadata": {
        "colab": {
          "base_uri": "https://localhost:8080/",
          "height": 396
        },
        "id": "PwZQsBEAVds5",
        "outputId": "55dce904-a4a1-4f0d-86fc-f0d5d7f95dfb"
      },
      "source": [
        "training_images = []\n",
        "labels = [] # 0 = cars, 1 = keyboards, 2 = dog\n",
        "\n",
        "# Reimport images\n",
        "cars = [cv2.imread(file) for file in glob.glob(\"Training/Cars/*.jpg\")]\n",
        "# Convert images to greyscale\n",
        "for i, img in enumerate(cars):\n",
        "  cars[i] = cv2.cvtColor(img, cv2.COLOR_BGR2GRAY)\n",
        "for i, img in enumerate(cars):\n",
        "  training_images.append(img)\n",
        "  labels.append(0)\n",
        "\n",
        "faces = [cv2.imread(file) for file in glob.glob(\"Training/Faces/*.jpg\")]\n",
        "# Convert images to greyscale\n",
        "for i, img in enumerate(faces):\n",
        "  faces[i] = cv2.cvtColor(img, cv2.COLOR_BGR2GRAY)\n",
        "for i, img in enumerate(faces):\n",
        "  training_images.append(img)\n",
        "  labels.append(1)\n",
        "\n",
        "# Load all images from test dataset\n",
        "cars_test = [cv2.imread(file) for file in glob.glob(\"Test/Cars/*.jpg\")]\n",
        "faces_test = [cv2.imread(file) for file in glob.glob(\"Test/Faces/*.jpg\")]\n",
        "\n",
        "\n",
        "# HAS TO BE IN SAME ORDER AS LABELS!!!!!!!!\n",
        "test_images = cars_test + faces_test\n",
        "\n",
        "for c in cars_test:\n",
        "  labels.append(0)\n",
        "for f in faces_test:\n",
        "  labels.append(1)\n",
        "\n",
        "\n",
        "print(len(labels))\n",
        "\n",
        "print(len(cars_test))\n",
        "print(len(faces_test))\n",
        "\n",
        "# Convert images to greyscale\n",
        "for i, img in enumerate(test_images):\n",
        "  test_images[i] = cv2.cvtColor(img, cv2.COLOR_BGR2GRAY)\n",
        "  #test_images.append(img)\n",
        "\n",
        "# DEBUG\n",
        "if (VERBOSE_MODE):\n",
        "  print(len(training_images), \"training images loaded!\")\n",
        "  print(len(test_images), \"test images loaded!\")\n",
        "  print(\"Labels:\")\n",
        "  print(labels)\n",
        "  cv2_imshow(training_images[2])"
      ],
      "id": "PwZQsBEAVds5",
      "execution_count": 11,
      "outputs": [
        {
          "output_type": "stream",
          "name": "stdout",
          "text": [
            "8\n",
            "2\n",
            "2\n",
            "4 training images loaded!\n",
            "4 test images loaded!\n",
            "Labels:\n",
            "[0, 0, 1, 1, 0, 0, 1, 1]\n"
          ]
        },
        {
          "output_type": "display_data",
          "data": {
            "image/png": "[encoded data removed]",
            "text/plain": [
              "<PIL.Image.Image image mode=L size=250x250 at 0x7F6B268C3D90>"
            ]
          },
          "metadata": {}
        }
      ]
    },
    {
      "cell_type": "markdown",
      "metadata": {
        "id": "beedad63"
      },
      "source": [
        "# K-Means Clustering Implementation (Step 2) #"
      ],
      "id": "beedad63"
    },
    {
      "cell_type": "code",
      "metadata": {
        "id": "aW2jwM5O5BbY"
      },
      "source": [
        "def getOptimumK(desc):\n",
        "  sil = []\n",
        "  base = 3\n",
        "  kmax = 12\n",
        "\n",
        "  for k in range(base, kmax+1):\n",
        "    kmeans = KMeans(n_clusters = k).fit(desc)\n",
        "    labels = kmeans.labels_\n",
        "    sil.append(silhouette_score(desc, labels, metric = 'euclidean'))\n",
        "\n",
        "  '''plt.plot(range(base,kmax+1), sil, 'bx-')\n",
        "  plt.xlabel('Values of K')\n",
        "  plt.ylabel('Sum of squared distances/Intertia')\n",
        "  plt.title('ehe')\n",
        "  plt.show()'''\n",
        "\n",
        "  print(sil)\n",
        "\n",
        "  print(np.amax(sil))\n",
        "  optimum_k = sil.index(np.amax(sil)) + base\n",
        "\n",
        "  return optimum_k"
      ],
      "id": "aW2jwM5O5BbY",
      "execution_count": 12,
      "outputs": []
    },
    {
      "cell_type": "code",
      "metadata": {
        "colab": {
          "base_uri": "https://localhost:8080/"
        },
        "id": "YTc7kWicAhmN",
        "outputId": "f92991cd-89f7-429a-c68a-8a275ef3a7c4"
      },
      "source": [
        "# Get Optimum Ks\n",
        "\n",
        "training_desc_array = []\n",
        "test_desc_array = []\n",
        "\n",
        "training_kp_array = []\n",
        "test_kp_array = []\n",
        "\n",
        "training_k_array = []\n",
        "test_k_array = []\n",
        "\n",
        "\n",
        "# Compute features and the optimum k values for each training image\n",
        "for index, img in enumerate(training_images):\n",
        "  print(\"Computing Training Image\", index+1, \"...\")\n",
        "  kp, desc = computeKeypointsAndDescriptors(img)\n",
        "\n",
        "  #print(desc)\n",
        "  training_kp_array.append(kp)\n",
        "  training_desc_array.append(desc)\n",
        "  training_k_array.append(getOptimumK(desc))\n",
        "\n",
        "  print(\"OK!\")\n",
        "\n",
        "# Compute features and the optimum k values for each test image\n",
        "for index, img in enumerate(test_images):\n",
        "  print(\"Computing Test Image\", index+1, \"...\")\n",
        "  kp, desc = computeKeypointsAndDescriptors(img)\n",
        "\n",
        "  test_kp_array.append(kp)\n",
        "  test_desc_array.append(desc)\n",
        "  test_k_array.append(getOptimumK(desc))\n",
        "\n",
        "  print(\"OK!\")\n",
        "\n",
        "if (VERBOSE_MODE):\n",
        "  print(\"Descriptors sets for training images:\", len(training_desc_array))\n",
        "  print(\"Descriptors sets for test images:\", len(test_desc_array))\n"
      ],
      "id": "YTc7kWicAhmN",
      "execution_count": 13,
      "outputs": [
        {
          "output_type": "stream",
          "name": "stdout",
          "text": [
            "Computing Training Image 1 ...\n",
            "GENERATING BASE IMAGE...\n",
            "OK!\n",
            "COMPUTING OCTAVES...\n",
            "OK!\n",
            "GENERATING KERNELS...\n",
            "OK!\n",
            "GENERATING GAUSSIAN IMAGES...\n",
            "OK!\n",
            "GENERATING DIFFERENCE OF GAUSSIAN IMAGES...\n",
            "OK!\n",
            "ATTEMPTING TO FIND SCALE-SPACE EXTREMA... (PLEASE WAIT)\n",
            "OK!\n",
            "REMOVING DUPLICATE KEYPOINTS...\n",
            "OK!\n",
            "CONVERTING KEYPOINTS TO INPUT IMAGE SIZE...\n",
            "OK!\n",
            "[<KeyPoint 0x7f6b26761150>, <KeyPoint 0x7f6b268d6570>, <KeyPoint 0x7f6b268d6f30>, <KeyPoint 0x7f6b267e04b0>, <KeyPoint 0x7f6b267e0330>, <KeyPoint 0x7f6b268d6420>, <KeyPoint 0x7f6b268d6030>, <KeyPoint 0x7f6b26761840>, <KeyPoint 0x7f6b26761d80>, <KeyPoint 0x7f6b267e0930>, <KeyPoint 0x7f6b267e0600>, <KeyPoint 0x7f6b26761d20>, <KeyPoint 0x7f6b26768ae0>, <KeyPoint 0x7f6b267e0cc0>, <KeyPoint 0x7f6b26761240>, <KeyPoint 0x7f6b267687b0>, <KeyPoint 0x7f6b267bde70>, <KeyPoint 0x7f6b268d5720>, <KeyPoint 0x7f6b268d6c60>, <KeyPoint 0x7f6b268d6f00>, <KeyPoint 0x7f6b268d6660>, <KeyPoint 0x7f6b26761de0>, <KeyPoint 0x7f6b2675a7e0>, <KeyPoint 0x7f6b26768780>, <KeyPoint 0x7f6b26768720>, <KeyPoint 0x7f6b268d6e10>, <KeyPoint 0x7f6b26761870>, <KeyPoint 0x7f6b267616f0>, <KeyPoint 0x7f6b26768750>, <KeyPoint 0x7f6b268d6240>, <KeyPoint 0x7f6b268d68d0>, <KeyPoint 0x7f6b268d6840>, <KeyPoint 0x7f6b267681b0>, <KeyPoint 0x7f6b26761270>, <KeyPoint 0x7f6b268d6330>, <KeyPoint 0x7f6b268d64b0>, <KeyPoint 0x7f6b268d60c0>, <KeyPoint 0x7f6b268d6b10>, <KeyPoint 0x7f6b26761660>, <KeyPoint 0x7f6b26761a50>, <KeyPoint 0x7f6b267611e0>, <KeyPoint 0x7f6b268d6c00>, <KeyPoint 0x7f6b267bdde0>, <KeyPoint 0x7f6b267bdf90>, <KeyPoint 0x7f6b26768540>, <KeyPoint 0x7f6b268d6300>, <KeyPoint 0x7f6b44b611b0>, <KeyPoint 0x7f6b268d6c30>, <KeyPoint 0x7f6b267e0420>, <KeyPoint 0x7f6b26768180>, <KeyPoint 0x7f6b267e0450>, <KeyPoint 0x7f6b26761960>, <KeyPoint 0x7f6b268d6990>, <KeyPoint 0x7f6b268d6180>, <KeyPoint 0x7f6b268d5b40>, <KeyPoint 0x7f6b26761030>, <KeyPoint 0x7f6b26761060>, <KeyPoint 0x7f6b26761180>, <KeyPoint 0x7f6b267a1ba0>, <KeyPoint 0x7f6b26761b10>, <KeyPoint 0x7f6b26761ba0>, <KeyPoint 0x7f6b2675a030>, <KeyPoint 0x7f6b26768ed0>, <KeyPoint 0x7f6b26761720>, <KeyPoint 0x7f6b27077c60>, <KeyPoint 0x7f6b268d6f60>, <KeyPoint 0x7f6b26761750>, <KeyPoint 0x7f6b2675a210>, <KeyPoint 0x7f6b268d6900>, <KeyPoint 0x7f6b26761630>, <KeyPoint 0x7f6b267618a0>, <KeyPoint 0x7f6b2675a6c0>, <KeyPoint 0x7f6b267688a0>, <KeyPoint 0x7f6b268d5f90>, <KeyPoint 0x7f6b26768120>, <KeyPoint 0x7f6b267a1630>, <KeyPoint 0x7f6b26761690>, <KeyPoint 0x7f6b26761210>, <KeyPoint 0x7f6b2675a4b0>, <KeyPoint 0x7f6b268d6cf0>, <KeyPoint 0x7f6b268d61e0>, <KeyPoint 0x7f6b268d69f0>, <KeyPoint 0x7f6b268d68a0>, <KeyPoint 0x7f6b26768810>, <KeyPoint 0x7f6b2675a990>, <KeyPoint 0x7f6b2675a150>, <KeyPoint 0x7f6b2675a630>, <KeyPoint 0x7f6b26761ea0>, <KeyPoint 0x7f6b268d6210>, <KeyPoint 0x7f6b268d5e40>, <KeyPoint 0x7f6b268d5a50>, <KeyPoint 0x7f6b268d5de0>, <KeyPoint 0x7f6b26761f30>, <KeyPoint 0x7f6b267e09c0>, <KeyPoint 0x7f6b268d5210>, <KeyPoint 0x7f6b26768060>, <KeyPoint 0x7f6b267619c0>, <KeyPoint 0x7f6b26768b10>, <KeyPoint 0x7f6b26768d20>, <KeyPoint 0x7f6b26761f60>, <KeyPoint 0x7f6b26761e10>, <KeyPoint 0x7f6b26768090>, <KeyPoint 0x7f6b26761fc0>, <KeyPoint 0x7f6b267a1db0>, <KeyPoint 0x7f6b2675abd0>, <KeyPoint 0x7f6b267686f0>, <KeyPoint 0x7f6b268d59f0>, <KeyPoint 0x7f6b2675a2d0>, <KeyPoint 0x7f6b2675a420>, <KeyPoint 0x7f6b267616c0>, <KeyPoint 0x7f6b2675aab0>, <KeyPoint 0x7f6b48e00c90>, <KeyPoint 0x7f6b26768930>, <KeyPoint 0x7f6b26768240>, <KeyPoint 0x7f6b268d5540>, <KeyPoint 0x7f6b26768db0>, <KeyPoint 0x7f6b267e0960>, <KeyPoint 0x7f6b26768510>, <KeyPoint 0x7f6b2675ab40>, <KeyPoint 0x7f6b267e08a0>, <KeyPoint 0x7f6b267e0b40>, <KeyPoint 0x7f6b2675a570>, <KeyPoint 0x7f6b26768f60>, <KeyPoint 0x7f6b268d6db0>, <KeyPoint 0x7f6b26761c90>, <KeyPoint 0x7f6b26768cf0>, <KeyPoint 0x7f6b26761780>, <KeyPoint 0x7f6b268d60f0>, <KeyPoint 0x7f6b26761990>, <KeyPoint 0x7f6b26761d50>, <KeyPoint 0x7f6b267610c0>, <KeyPoint 0x7f6b267614b0>, <KeyPoint 0x7f6b26768870>, <KeyPoint 0x7f6b267689f0>, <KeyPoint 0x7f6b268d6360>, <KeyPoint 0x7f6b267618d0>, <KeyPoint 0x7f6b33b4cb10>, <KeyPoint 0x7f6b2675a120>, <KeyPoint 0x7f6b2675a1b0>, <KeyPoint 0x7f6b2675a3f0>, <KeyPoint 0x7f6b2675a360>, <KeyPoint 0x7f6b267686c0>, <KeyPoint 0x7f6b30a7ab10>, <KeyPoint 0x7f6b267613c0>, <KeyPoint 0x7f6b26761360>, <KeyPoint 0x7f6b268d5180>, <KeyPoint 0x7f6b2675a510>, <KeyPoint 0x7f6b2675a270>, <KeyPoint 0x7f6b267bdf00>, <KeyPoint 0x7f6b268d6540>, <KeyPoint 0x7f6b2675a900>, <KeyPoint 0x7f6b267681e0>, <KeyPoint 0x7f6b26768360>, <KeyPoint 0x7f6b26768450>, <KeyPoint 0x7f6b268d5c30>, <KeyPoint 0x7f6b26761c00>, <KeyPoint 0x7f6b26761c60>, <KeyPoint 0x7f6b26768150>, <KeyPoint 0x7f6b268d6ba0>, <KeyPoint 0x7f6b26761420>, <KeyPoint 0x7f6b44b615a0>, <KeyPoint 0x7f6b26761b70>, <KeyPoint 0x7f6b26761ed0>, <KeyPoint 0x7f6b267610f0>, <KeyPoint 0x7f6b26761120>, <KeyPoint 0x7f6b2675ab70>, <KeyPoint 0x7f6b2675aa50>, <KeyPoint 0x7f6b2675a0c0>, <KeyPoint 0x7f6b2675a180>, <KeyPoint 0x7f6b26768630>, <KeyPoint 0x7f6b268d5e70>, <KeyPoint 0x7f6b2675a300>, <KeyPoint 0x7f6b2675a450>, <KeyPoint 0x7f6b2675a750>, <KeyPoint 0x7f6b2675a810>, <KeyPoint 0x7f6b26761480>, <KeyPoint 0x7f6b267614e0>, <KeyPoint 0x7f6b26761600>, <KeyPoint 0x7f6b26768fc0>, <KeyPoint 0x7f6b267617b0>, <KeyPoint 0x7f6b2675a8a0>, <KeyPoint 0x7f6b268d6120>, <KeyPoint 0x7f6b268d63c0>, <KeyPoint 0x7f6b268d6a80>, <KeyPoint 0x7f6b268d6e40>, <KeyPoint 0x7f6b268d5960>, <KeyPoint 0x7f6b267683c0>, <KeyPoint 0x7f6b267611b0>, <KeyPoint 0x7f6b267bded0>, <KeyPoint 0x7f6b26768570>, <KeyPoint 0x7f6b26768ea0>, <KeyPoint 0x7f6b26768b40>, <KeyPoint 0x7f6b267689c0>, <KeyPoint 0x7f6b26768330>, <KeyPoint 0x7f6b268d63f0>, <KeyPoint 0x7f6b48e3e1e0>, <KeyPoint 0x7f6b2675a6f0>, <KeyPoint 0x7f6b267682d0>, <KeyPoint 0x7f6b2675a3c0>, <KeyPoint 0x7f6b2675aba0>, <KeyPoint 0x7f6b26768c60>, <KeyPoint 0x7f6b267e0570>, <KeyPoint 0x7f6b26768b70>, <KeyPoint 0x7f6b2675a0f0>, <KeyPoint 0x7f6b26761090>, <KeyPoint 0x7f6b268d6d80>, <KeyPoint 0x7f6b2675a090>, <KeyPoint 0x7f6b267687e0>, <KeyPoint 0x7f6b268d5150>, <KeyPoint 0x7f6b2675a5a0>, <KeyPoint 0x7f6b2675a7b0>, <KeyPoint 0x7f6b268d6270>, <KeyPoint 0x7f6b268d69c0>, <KeyPoint 0x7f6b26768690>, <KeyPoint 0x7f6b26761e70>, <KeyPoint 0x7f6b2675aa20>, <KeyPoint 0x7f6b26768f90>, <KeyPoint 0x7f6b2675a060>, <KeyPoint 0x7f6b26768ab0>, <KeyPoint 0x7f6b268d5810>, <KeyPoint 0x7f6b26761540>, <KeyPoint 0x7f6b267680c0>, <KeyPoint 0x7f6b26768e70>, <KeyPoint 0x7f6b26768270>, <KeyPoint 0x7f6b26761a20>, <KeyPoint 0x7f6b26768bd0>, <KeyPoint 0x7f6b26768c90>, <KeyPoint 0x7f6b2675a8d0>, <KeyPoint 0x7f6b26768d80>, <KeyPoint 0x7f6b26768e10>, <KeyPoint 0x7f6b267619f0>, <KeyPoint 0x7f6b2675a9c0>, <KeyPoint 0x7f6b2675a480>, <KeyPoint 0x7f6b267e06f0>, <KeyPoint 0x7f6b26768a50>, <KeyPoint 0x7f6b267680f0>, <KeyPoint 0x7f6b26768300>, <KeyPoint 0x7f6b26761db0>, <KeyPoint 0x7f6b26768660>, <KeyPoint 0x7f6b267685a0>, <KeyPoint 0x7f6b267688d0>, <KeyPoint 0x7f6b267e0660>, <KeyPoint 0x7f6b267613f0>, <KeyPoint 0x7f6b26768990>, <KeyPoint 0x7f6b26768a80>, <KeyPoint 0x7f6b267617e0>, <KeyPoint 0x7f6b26768480>, <KeyPoint 0x7f6b26768960>, <KeyPoint 0x7f6b268d6480>, <KeyPoint 0x7f6b26768f00>, <KeyPoint 0x7f6b268d5ab0>, <KeyPoint 0x7f6b26768900>, <KeyPoint 0x7f6b268d65a0>, <KeyPoint 0x7f6b2675a960>, <KeyPoint 0x7f6b268d6ed0>, <KeyPoint 0x7f6b268d6d20>, <KeyPoint 0x7f6b2675a5d0>, <KeyPoint 0x7f6b2675a720>, <KeyPoint 0x7f6b268d6630>, <KeyPoint 0x7f6b268d6690>, <KeyPoint 0x7f6b26768c30>, <KeyPoint 0x7f6b268d54e0>, <KeyPoint 0x7f6b268d6de0>, <KeyPoint 0x7f6b268d6fc0>, <KeyPoint 0x7f6b268d6060>, <KeyPoint 0x7f6b2675a390>, <KeyPoint 0x7f6b26761810>, <KeyPoint 0x7f6b2675aa80>, <KeyPoint 0x7f6b2675ab10>, <KeyPoint 0x7f6b26761f00>, <KeyPoint 0x7f6b2675a1e0>, <KeyPoint 0x7f6b26761390>, <KeyPoint 0x7f6b2675aae0>, <KeyPoint 0x7f6b268d6870>, <KeyPoint 0x7f6b2675a4e0>, <KeyPoint 0x7f6b2675a540>, <KeyPoint 0x7f6b26761570>, <KeyPoint 0x7f6b26768840>, <KeyPoint 0x7f6b26761a80>, <KeyPoint 0x7f6b268d6390>, <KeyPoint 0x7f6b26768390>, <KeyPoint 0x7f6b26768420>, <KeyPoint 0x7f6b268d6f90>, <KeyPoint 0x7f6b267684e0>, <KeyPoint 0x7f6b26768de0>, <KeyPoint 0x7f6b26768f30>, <KeyPoint 0x7f6b26768ba0>, <KeyPoint 0x7f6b26768e40>, <KeyPoint 0x7f6b267615a0>, <KeyPoint 0x7f6b268d67e0>, <KeyPoint 0x7f6b26768d50>, <KeyPoint 0x7f6b267682a0>, <KeyPoint 0x7f6b267bdea0>, <KeyPoint 0x7f6b2675a870>, <KeyPoint 0x7f6b26761ab0>, <KeyPoint 0x7f6b26768030>, <KeyPoint 0x7f6b2675a2a0>, <KeyPoint 0x7f6b2675a330>, <KeyPoint 0x7f6b267684b0>, <KeyPoint 0x7f6b26761bd0>, <KeyPoint 0x7f6b2675a9f0>, <KeyPoint 0x7f6b26761330>, <KeyPoint 0x7f6b26768cc0>, <KeyPoint 0x7f6b268d56c0>, <KeyPoint 0x7f6b26761510>, <KeyPoint 0x7f6b268d5db0>, <KeyPoint 0x7f6b2675a600>, <KeyPoint 0x7f6b26768600>, <KeyPoint 0x7f6b267612a0>, <KeyPoint 0x7f6b26761300>, <KeyPoint 0x7f6b268d65d0>, <KeyPoint 0x7f6b268d5f60>, <KeyPoint 0x7f6b2675a780>, <KeyPoint 0x7f6b268d61b0>, <KeyPoint 0x7f6b267685d0>, <KeyPoint 0x7f6b267683f0>, <KeyPoint 0x7f6b267612d0>, <KeyPoint 0x7f6b26761ae0>, <KeyPoint 0x7f6b267e0c00>, <KeyPoint 0x7f6b267e0a20>, <KeyPoint 0x7f6b267e0f90>, <KeyPoint 0x7f6b267e0060>, <KeyPoint 0x7f6b268d52d0>, <KeyPoint 0x7f6b26761450>, <KeyPoint 0x7f6b26761930>, <KeyPoint 0x7f6b26761b40>, <KeyPoint 0x7f6b26761cf0>, <KeyPoint 0x7f6b268d56f0>, <KeyPoint 0x7f6b267e0540>, <KeyPoint 0x7f6b26768a20>, <KeyPoint 0x7f6b267615d0>, <KeyPoint 0x7f6b26761e40>, <KeyPoint 0x7f6b26761c30>, <KeyPoint 0x7f6b268d6e70>, <KeyPoint 0x7f6b26768c00>]\n",
            "GENERATING DESCRIPTORS...\n",
            "OK!\n",
            "DONE! RETURNING KEYPOINTS AND DESCRIPTORS... (PLEASE WAIT)\n",
            "[0.08922799, 0.09279279, 0.09531078, 0.093269885, 0.096201316, 0.0920202, 0.09416622, 0.09116148, 0.09803757, 0.097082175]\n",
            "0.09803757\n",
            "OK!\n",
            "Computing Training Image 2 ...\n",
            "GENERATING BASE IMAGE...\n",
            "OK!\n",
            "COMPUTING OCTAVES...\n",
            "OK!\n",
            "GENERATING KERNELS...\n",
            "OK!\n",
            "GENERATING GAUSSIAN IMAGES...\n",
            "OK!\n",
            "GENERATING DIFFERENCE OF GAUSSIAN IMAGES...\n",
            "OK!\n",
            "ATTEMPTING TO FIND SCALE-SPACE EXTREMA... (PLEASE WAIT)\n",
            "OK!\n",
            "REMOVING DUPLICATE KEYPOINTS...\n",
            "OK!\n",
            "CONVERTING KEYPOINTS TO INPUT IMAGE SIZE...\n",
            "OK!\n",
            "[<KeyPoint 0x7f6b26777c60>, <KeyPoint 0x7f6b2677d1e0>, <KeyPoint 0x7f6b2677d3f0>, <KeyPoint 0x7f6b267691e0>, <KeyPoint 0x7f6b26769c90>, <KeyPoint 0x7f6b267774b0>, <KeyPoint 0x7f6b267692a0>, <KeyPoint 0x7f6b26769450>, <KeyPoint 0x7f6b2677df60>, <KeyPoint 0x7f6b26769270>, <KeyPoint 0x7f6b26783120>, <KeyPoint 0x7f6b26769d80>, <KeyPoint 0x7f6b26769c60>, <KeyPoint 0x7f6b26769ae0>, <KeyPoint 0x7f6b26783480>, <KeyPoint 0x7f6b26769e70>, <KeyPoint 0x7f6b2677d780>, <KeyPoint 0x7f6b26783210>, <KeyPoint 0x7f6b267831e0>, <KeyPoint 0x7f6b267779c0>, <KeyPoint 0x7f6b26769570>, <KeyPoint 0x7f6b26777fc0>, <KeyPoint 0x7f6b2677df30>, <KeyPoint 0x7f6b2677d480>, <KeyPoint 0x7f6b26777390>, <KeyPoint 0x7f6b2677dbd0>, <KeyPoint 0x7f6b26769b40>, <KeyPoint 0x7f6b2677d9f0>, <KeyPoint 0x7f6b2677d360>, <KeyPoint 0x7f6b26777a20>, <KeyPoint 0x7f6b2675ae40>, <KeyPoint 0x7f6b26769cc0>, <KeyPoint 0x7f6b26769300>, <KeyPoint 0x7f6b2677df00>, <KeyPoint 0x7f6b26769c30>, <KeyPoint 0x7f6b2677d900>, <KeyPoint 0x7f6b267693f0>, <KeyPoint 0x7f6b26769b70>, <KeyPoint 0x7f6b26777b70>, <KeyPoint 0x7f6b26769960>, <KeyPoint 0x7f6b2677d090>, <KeyPoint 0x7f6b26777e10>, <KeyPoint 0x7f6b2675ae70>, <KeyPoint 0x7f6b2677db10>, <KeyPoint 0x7f6b2675ac60>, <KeyPoint 0x7f6b2677d2a0>, <KeyPoint 0x7f6b267837b0>, <KeyPoint 0x7f6b26761f90>, <KeyPoint 0x7f6b2677d420>, <KeyPoint 0x7f6b2677d510>, <KeyPoint 0x7f6b2677d660>, <KeyPoint 0x7f6b26777810>, <KeyPoint 0x7f6b26777d50>, <KeyPoint 0x7f6b2675ad50>, <KeyPoint 0x7f6b2675ac90>, <KeyPoint 0x7f6b26783030>, <KeyPoint 0x7f6b26783300>, <KeyPoint 0x7f6b267830f0>, <KeyPoint 0x7f6b2677dab0>, <KeyPoint 0x7f6b2677db40>, <KeyPoint 0x7f6b2675aed0>, <KeyPoint 0x7f6b2677dd20>, <KeyPoint 0x7f6b2675ac30>, <KeyPoint 0x7f6b2675a240>, <KeyPoint 0x7f6b26769030>, <KeyPoint 0x7f6b26769390>, <KeyPoint 0x7f6b26769f90>, <KeyPoint 0x7f6b26777bd0>, <KeyPoint 0x7f6b26777cf0>, <KeyPoint 0x7f6b26769bd0>, <KeyPoint 0x7f6b2675af00>, <KeyPoint 0x7f6b26777360>, <KeyPoint 0x7f6b26769090>, <KeyPoint 0x7f6b26769630>, <KeyPoint 0x7f6b267694e0>, <KeyPoint 0x7f6b26769870>, <KeyPoint 0x7f6b2677da20>, <KeyPoint 0x7f6b2677d4b0>, <KeyPoint 0x7f6b2677d4e0>, <KeyPoint 0x7f6b2677d540>, <KeyPoint 0x7f6b26769540>, <KeyPoint 0x7f6b26783a50>, <KeyPoint 0x7f6b2677de10>, <KeyPoint 0x7f6b2677d8d0>, <KeyPoint 0x7f6b2677dd80>, <KeyPoint 0x7f6b26783090>, <KeyPoint 0x7f6b267831b0>, <KeyPoint 0x7f6b2675adb0>, <KeyPoint 0x7f6b267775d0>, <KeyPoint 0x7f6b2675a930>, <KeyPoint 0x7f6b2675ad20>, <KeyPoint 0x7f6b267834e0>, <KeyPoint 0x7f6b26783930>, <KeyPoint 0x7f6b267832a0>, <KeyPoint 0x7f6b26783540>, <KeyPoint 0x7f6b26777240>, <KeyPoint 0x7f6b26783600>, <KeyPoint 0x7f6b2675af90>, <KeyPoint 0x7f6b26783630>, <KeyPoint 0x7f6b267696c0>, <KeyPoint 0x7f6b267699f0>, <KeyPoint 0x7f6b26777c90>, <KeyPoint 0x7f6b26777990>, <KeyPoint 0x7f6b2677d570>, <KeyPoint 0x7f6b2677d840>, <KeyPoint 0x7f6b26783150>, <KeyPoint 0x7f6b267832d0>, <KeyPoint 0x7f6b26777a80>, <KeyPoint 0x7f6b26769750>, <KeyPoint 0x7f6b26783870>, <KeyPoint 0x7f6b26783060>, <KeyPoint 0x7f6b26783330>, <KeyPoint 0x7f6b26769a50>, <KeyPoint 0x7f6b26769990>, <KeyPoint 0x7f6b2677d0f0>, <KeyPoint 0x7f6b267697e0>, <KeyPoint 0x7f6b2677d7b0>, <KeyPoint 0x7f6b267833c0>, <KeyPoint 0x7f6b26769810>, <KeyPoint 0x7f6b2677d6f0>, <KeyPoint 0x7f6b26783570>, <KeyPoint 0x7f6b2677d810>, <KeyPoint 0x7f6b267833f0>, <KeyPoint 0x7f6b26783a20>, <KeyPoint 0x7f6b267771b0>, <KeyPoint 0x7f6b2677d060>, <KeyPoint 0x7f6b2677d120>, <KeyPoint 0x7f6b26769840>, <KeyPoint 0x7f6b26777900>, <KeyPoint 0x7f6b26777b40>, <KeyPoint 0x7f6b2677d5d0>, <KeyPoint 0x7f6b2677dde0>, <KeyPoint 0x7f6b26783510>, <KeyPoint 0x7f6b2677de70>, <KeyPoint 0x7f6b26783a80>, <KeyPoint 0x7f6b26777090>, <KeyPoint 0x7f6b26769330>, <KeyPoint 0x7f6b2677d180>, <KeyPoint 0x7f6b2677de40>, <KeyPoint 0x7f6b26783660>, <KeyPoint 0x7f6b26777270>, <KeyPoint 0x7f6b267773c0>, <KeyPoint 0x7f6b267771e0>, <KeyPoint 0x7f6b26769660>, <KeyPoint 0x7f6b26769930>, <KeyPoint 0x7f6b26777d80>, <KeyPoint 0x7f6b26769900>, <KeyPoint 0x7f6b267770c0>, <KeyPoint 0x7f6b26777150>, <KeyPoint 0x7f6b2677d720>, <KeyPoint 0x7f6b267698a0>, <KeyPoint 0x7f6b26769060>, <KeyPoint 0x7f6b26769690>, <KeyPoint 0x7f6b2677d390>, <KeyPoint 0x7f6b26777030>, <KeyPoint 0x7f6b2675afc0>, <KeyPoint 0x7f6b2677d150>, <KeyPoint 0x7f6b2677dcf0>, <KeyPoint 0x7f6b26769720>, <KeyPoint 0x7f6b267830c0>, <KeyPoint 0x7f6b26783750>, <KeyPoint 0x7f6b267837e0>, <KeyPoint 0x7f6b2675ade0>, <KeyPoint 0x7f6b2675a690>, <KeyPoint 0x7f6b2675af60>, <KeyPoint 0x7f6b26777630>, <KeyPoint 0x7f6b267698d0>, <KeyPoint 0x7f6b267777b0>, <KeyPoint 0x7f6b26777330>, <KeyPoint 0x7f6b2677d5a0>, <KeyPoint 0x7f6b26777a50>, <KeyPoint 0x7f6b26769b10>, <KeyPoint 0x7f6b26777180>, <KeyPoint 0x7f6b267774e0>, <KeyPoint 0x7f6b26777d20>, <KeyPoint 0x7f6b267778a0>, <KeyPoint 0x7f6b2675af30>, <KeyPoint 0x7f6b267696f0>, <KeyPoint 0x7f6b2677d750>, <KeyPoint 0x7f6b2677d330>, <KeyPoint 0x7f6b2677d690>, <KeyPoint 0x7f6b2677d930>, <KeyPoint 0x7f6b26777ae0>, <KeyPoint 0x7f6b26769240>, <KeyPoint 0x7f6b26769480>, <KeyPoint 0x7f6b26769180>, <KeyPoint 0x7f6b26783990>, <KeyPoint 0x7f6b2677dc60>, <KeyPoint 0x7f6b26769cf0>, <KeyPoint 0x7f6b26777300>, <KeyPoint 0x7f6b26777540>, <KeyPoint 0x7f6b2677d600>, <KeyPoint 0x7f6b2677dcc0>, <KeyPoint 0x7f6b267693c0>, <KeyPoint 0x7f6b267695d0>, <KeyPoint 0x7f6b2677da50>, <KeyPoint 0x7f6b26777210>, <KeyPoint 0x7f6b26769f00>, <KeyPoint 0x7f6b26777840>, <KeyPoint 0x7f6b2677d990>, <KeyPoint 0x7f6b2677dc00>, <KeyPoint 0x7f6b26777450>, <KeyPoint 0x7f6b2677dae0>, <KeyPoint 0x7f6b26777570>, <KeyPoint 0x7f6b26777660>, <KeyPoint 0x7f6b26777f60>, <KeyPoint 0x7f6b26783690>, <KeyPoint 0x7f6b26769d50>, <KeyPoint 0x7f6b2677d870>, <KeyPoint 0x7f6b2677d8a0>, <KeyPoint 0x7f6b267775a0>, <KeyPoint 0x7f6b26777ab0>, <KeyPoint 0x7f6b2677dea0>, <KeyPoint 0x7f6b2677ded0>, <KeyPoint 0x7f6b2675acf0>, <KeyPoint 0x7f6b26777ea0>, <KeyPoint 0x7f6b26777600>, <KeyPoint 0x7f6b2677d7e0>, <KeyPoint 0x7f6b2677df90>, <KeyPoint 0x7f6b2677d3c0>, <KeyPoint 0x7f6b26777b10>, <KeyPoint 0x7f6b2675ae10>, <KeyPoint 0x7f6b267776f0>, <KeyPoint 0x7f6b2677ddb0>, <KeyPoint 0x7f6b26777510>, <KeyPoint 0x7f6b26777720>, <KeyPoint 0x7f6b26769c00>, <KeyPoint 0x7f6b268d62a0>, <KeyPoint 0x7f6b26777690>, <KeyPoint 0x7f6b26777cc0>, <KeyPoint 0x7f6b2677d030>, <KeyPoint 0x7f6b2677d240>, <KeyPoint 0x7f6b26777780>, <KeyPoint 0x7f6b26777420>, <KeyPoint 0x7f6b26777ba0>, <KeyPoint 0x7f6b26777060>, <KeyPoint 0x7f6b267773f0>, <KeyPoint 0x7f6b2677db70>, <KeyPoint 0x7f6b26769db0>, <KeyPoint 0x7f6b2677dfc0>, <KeyPoint 0x7f6b26777870>, <KeyPoint 0x7f6b26783450>, <KeyPoint 0x7f6b267772d0>, <KeyPoint 0x7f6b26777480>, <KeyPoint 0x7f6b267690c0>, <KeyPoint 0x7f6b2677d960>, <KeyPoint 0x7f6b2677d630>, <KeyPoint 0x7f6b2675a660>, <KeyPoint 0x7f6b267690f0>, <KeyPoint 0x7f6b26769780>, <KeyPoint 0x7f6b26769420>, <KeyPoint 0x7f6b26777930>, <KeyPoint 0x7f6b26783240>, <KeyPoint 0x7f6b26783390>, <KeyPoint 0x7f6b26769ba0>, <KeyPoint 0x7f6b26769120>, <KeyPoint 0x7f6b26769360>, <KeyPoint 0x7f6b267695a0>, <KeyPoint 0x7f6b26777120>, <KeyPoint 0x7f6b267836f0>, <KeyPoint 0x7f6b267770f0>, <KeyPoint 0x7f6b26777750>, <KeyPoint 0x7f6b267777e0>, <KeyPoint 0x7f6b267694b0>, <KeyPoint 0x7f6b26769fc0>, <KeyPoint 0x7f6b26769e40>, <KeyPoint 0x7f6b2677d6c0>, <KeyPoint 0x7f6b26769150>, <KeyPoint 0x7f6b2677dd50>, <KeyPoint 0x7f6b267697b0>, <KeyPoint 0x7f6b26783420>, <KeyPoint 0x7f6b267691b0>, <KeyPoint 0x7f6b26777f30>, <KeyPoint 0x7f6b267838a0>, <KeyPoint 0x7f6b2675ad80>, <KeyPoint 0x7f6b2675aea0>, <KeyPoint 0x7f6b26783360>, <KeyPoint 0x7f6b267835a0>, <KeyPoint 0x7f6b2677d210>, <KeyPoint 0x7f6b2675a840>, <KeyPoint 0x7f6b26769ea0>, <KeyPoint 0x7f6b2677d300>, <KeyPoint 0x7f6b2677d2d0>, <KeyPoint 0x7f6b2677da80>, <KeyPoint 0x7f6b2677d270>, <KeyPoint 0x7f6b26769f60>, <KeyPoint 0x7f6b26777e40>, <KeyPoint 0x7f6b267776c0>, <KeyPoint 0x7f6b267778d0>, <KeyPoint 0x7f6b26769de0>, <KeyPoint 0x7f6b26769510>, <KeyPoint 0x7f6b26777db0>, <KeyPoint 0x7f6b26777f90>, <KeyPoint 0x7f6b267839c0>, <KeyPoint 0x7f6b267838d0>, <KeyPoint 0x7f6b26783900>, <KeyPoint 0x7f6b26783270>, <KeyPoint 0x7f6b2677d1b0>, <KeyPoint 0x7f6b2677d450>, <KeyPoint 0x7f6b26769ed0>, <KeyPoint 0x7f6b2677dc30>, <KeyPoint 0x7f6b2677dc90>, <KeyPoint 0x7f6b26777ed0>, <KeyPoint 0x7f6b26777e70>, <KeyPoint 0x7f6b26783780>, <KeyPoint 0x7f6b2675acc0>, <KeyPoint 0x7f6b267692d0>, <KeyPoint 0x7f6b26769e10>, <KeyPoint 0x7f6b26777f00>, <KeyPoint 0x7f6b2677d9c0>, <KeyPoint 0x7f6b26769a20>, <KeyPoint 0x7f6b26777de0>, <KeyPoint 0x7f6b2677d0c0>, <KeyPoint 0x7f6b26769210>, <KeyPoint 0x7f6b26769a80>, <KeyPoint 0x7f6b26777c00>, <KeyPoint 0x7f6b2677dba0>, <KeyPoint 0x7f6b30a7aba0>, <KeyPoint 0x7f6b267779f0>, <KeyPoint 0x7f6b267699c0>, <KeyPoint 0x7f6b26777c30>, <KeyPoint 0x7f6b2675ac00>, <KeyPoint 0x7f6b26761900>, <KeyPoint 0x7f6b26768210>, <KeyPoint 0x7f6b267772a0>, <KeyPoint 0x7f6b26777960>, <KeyPoint 0x7f6b26769600>, <KeyPoint 0x7f6b26769ab0>]\n",
            "GENERATING DESCRIPTORS...\n",
            "OK!\n",
            "DONE! RETURNING KEYPOINTS AND DESCRIPTORS... (PLEASE WAIT)\n",
            "[0.07439327, 0.07846257, 0.08118238, 0.08546338, 0.081165545, 0.08298061, 0.08083361, 0.07206882, 0.07459745, 0.073645204]\n",
            "0.08546338\n",
            "OK!\n",
            "Computing Training Image 3 ...\n",
            "GENERATING BASE IMAGE...\n",
            "OK!\n",
            "COMPUTING OCTAVES...\n",
            "OK!\n",
            "GENERATING KERNELS...\n",
            "OK!\n",
            "GENERATING GAUSSIAN IMAGES...\n",
            "OK!\n",
            "GENERATING DIFFERENCE OF GAUSSIAN IMAGES...\n",
            "OK!\n",
            "ATTEMPTING TO FIND SCALE-SPACE EXTREMA... (PLEASE WAIT)\n",
            "OK!\n",
            "REMOVING DUPLICATE KEYPOINTS...\n",
            "OK!\n",
            "CONVERTING KEYPOINTS TO INPUT IMAGE SIZE...\n",
            "OK!\n",
            "[<KeyPoint 0x7f6b2677c360>, <KeyPoint 0x7f6b2677cf60>, <KeyPoint 0x7f6b2677cb40>, <KeyPoint 0x7f6b2677c300>, <KeyPoint 0x7f6b267716f0>, <KeyPoint 0x7f6b2677cea0>, <KeyPoint 0x7f6b2677c9f0>, <KeyPoint 0x7f6b2677cae0>, <KeyPoint 0x7f6b26783d80>, <KeyPoint 0x7f6b26783c90>, <KeyPoint 0x7f6b26783b70>, <KeyPoint 0x7f6b26771360>, <KeyPoint 0x7f6b26783f60>, <KeyPoint 0x7f6b2677c180>, <KeyPoint 0x7f6b26783b40>, <KeyPoint 0x7f6b26783fc0>, <KeyPoint 0x7f6b2677c960>, <KeyPoint 0x7f6b26769f30>, <KeyPoint 0x7f6b26783810>, <KeyPoint 0x7f6b26783c30>, <KeyPoint 0x7f6b2677c9c0>, <KeyPoint 0x7f6b2677cb70>, <KeyPoint 0x7f6b26783960>, <KeyPoint 0x7f6b2677c0c0>, <KeyPoint 0x7f6b2677c030>, <KeyPoint 0x7f6b2677c6c0>, <KeyPoint 0x7f6b26783d20>, <KeyPoint 0x7f6b26771240>, <KeyPoint 0x7f6b2677c2a0>, <KeyPoint 0x7f6b26771930>, <KeyPoint 0x7f6b26771900>, <KeyPoint 0x7f6b26771180>, <KeyPoint 0x7f6b26783f00>, <KeyPoint 0x7f6b26783f30>, <KeyPoint 0x7f6b2677c150>, <KeyPoint 0x7f6b2677c8a0>, <KeyPoint 0x7f6b2677cab0>, <KeyPoint 0x7f6b2677c870>, <KeyPoint 0x7f6b2677cba0>, <KeyPoint 0x7f6b2677ccf0>, <KeyPoint 0x7f6b267836c0>, <KeyPoint 0x7f6b2677c780>, <KeyPoint 0x7f6b2677c900>, <KeyPoint 0x7f6b2677c690>, <KeyPoint 0x7f6b26783f90>, <KeyPoint 0x7f6b2677ced0>, <KeyPoint 0x7f6b2677ca20>, <KeyPoint 0x7f6b26771090>, <KeyPoint 0x7f6b267710f0>, <KeyPoint 0x7f6b26771330>, <KeyPoint 0x7f6b2677c240>, <KeyPoint 0x7f6b2677c210>, <KeyPoint 0x7f6b26783c00>, <KeyPoint 0x7f6b2677cf00>, <KeyPoint 0x7f6b26771690>, <KeyPoint 0x7f6b267717e0>, <KeyPoint 0x7f6b267717b0>, <KeyPoint 0x7f6b2677c330>, <KeyPoint 0x7f6b26771720>, <KeyPoint 0x7f6b26771270>, <KeyPoint 0x7f6b26783720>, <KeyPoint 0x7f6b26771450>, <KeyPoint 0x7f6b267710c0>, <KeyPoint 0x7f6b26771120>, <KeyPoint 0x7f6b26783ea0>, <KeyPoint 0x7f6b267713f0>, <KeyPoint 0x7f6b26783c60>, <KeyPoint 0x7f6b2677c480>, <KeyPoint 0x7f6b2677c1e0>, <KeyPoint 0x7f6b2677c990>, <KeyPoint 0x7f6b26783e40>, <KeyPoint 0x7f6b26783bd0>, <KeyPoint 0x7f6b2677c540>, <KeyPoint 0x7f6b2677c570>, <KeyPoint 0x7f6b2677c1b0>, <KeyPoint 0x7f6b2677c450>, <KeyPoint 0x7f6b26783ab0>, <KeyPoint 0x7f6b2677c0f0>, <KeyPoint 0x7f6b2677ca50>, <KeyPoint 0x7f6b2677c7e0>, <KeyPoint 0x7f6b2677ce70>, <KeyPoint 0x7f6b2677c4e0>, <KeyPoint 0x7f6b26771510>, <KeyPoint 0x7f6b267718d0>, <KeyPoint 0x7f6b2677cb10>, <KeyPoint 0x7f6b2677cd50>, <KeyPoint 0x7f6b2677cbd0>, <KeyPoint 0x7f6b2677ce10>, <KeyPoint 0x7f6b2677c060>, <KeyPoint 0x7f6b2677c4b0>, <KeyPoint 0x7f6b2677c930>, <KeyPoint 0x7f6b2677cc30>, <KeyPoint 0x7f6b26771210>, <KeyPoint 0x7f6b2677cd80>, <KeyPoint 0x7f6b2677c660>, <KeyPoint 0x7f6b26771570>, <KeyPoint 0x7f6b267716c0>, <KeyPoint 0x7f6b26771420>, <KeyPoint 0x7f6b2677cdb0>, <KeyPoint 0x7f6b2677c8d0>, <KeyPoint 0x7f6b2677cd20>, <KeyPoint 0x7f6b2677ca80>, <KeyPoint 0x7f6b26771150>, <KeyPoint 0x7f6b267711b0>, <KeyPoint 0x7f6b2677c420>, <KeyPoint 0x7f6b2677c510>, <KeyPoint 0x7f6b26771660>, <KeyPoint 0x7f6b2677cde0>, <KeyPoint 0x7f6b26771300>, <KeyPoint 0x7f6b267714b0>, <KeyPoint 0x7f6b2677c270>, <KeyPoint 0x7f6b2677c3f0>, <KeyPoint 0x7f6b26783db0>, <KeyPoint 0x7f6b2677c3c0>, <KeyPoint 0x7f6b26783ae0>, <KeyPoint 0x7f6b26783e70>, <KeyPoint 0x7f6b2677c090>, <KeyPoint 0x7f6b2677c120>, <KeyPoint 0x7f6b26783180>, <KeyPoint 0x7f6b267715d0>, <KeyPoint 0x7f6b26771480>, <KeyPoint 0x7f6b2677c810>, <KeyPoint 0x7f6b26771030>, <KeyPoint 0x7f6b2677cf30>, <KeyPoint 0x7f6b2677c840>, <KeyPoint 0x7f6b26783e10>, <KeyPoint 0x7f6b2677cf90>, <KeyPoint 0x7f6b2677c600>, <KeyPoint 0x7f6b26771810>, <KeyPoint 0x7f6b2677c5d0>, <KeyPoint 0x7f6b2677c2d0>, <KeyPoint 0x7f6b2677c720>, <KeyPoint 0x7f6b2677c750>, <KeyPoint 0x7f6b2677ccc0>, <KeyPoint 0x7f6b26783ba0>, <KeyPoint 0x7f6b2677cfc0>, <KeyPoint 0x7f6b267715a0>, <KeyPoint 0x7f6b26771540>, <KeyPoint 0x7f6b26771600>, <KeyPoint 0x7f6b26771750>, <KeyPoint 0x7f6b26783ed0>, <KeyPoint 0x7f6b2677c5a0>, <KeyPoint 0x7f6b2677c6f0>, <KeyPoint 0x7f6b2677cc00>, <KeyPoint 0x7f6b267712a0>, <KeyPoint 0x7f6b267714e0>, <KeyPoint 0x7f6b267711e0>, <KeyPoint 0x7f6b2677cc60>, <KeyPoint 0x7f6b2677ce40>, <KeyPoint 0x7f6b2677c630>, <KeyPoint 0x7f6b26783cf0>, <KeyPoint 0x7f6b2677cc90>, <KeyPoint 0x7f6b267839f0>, <KeyPoint 0x7f6b267835d0>, <KeyPoint 0x7f6b26783840>, <KeyPoint 0x7f6b26783d50>, <KeyPoint 0x7f6b2677c7b0>, <KeyPoint 0x7f6b26783de0>, <KeyPoint 0x7f6b26771990>, <KeyPoint 0x7f6b26771780>, <KeyPoint 0x7f6b267834b0>, <KeyPoint 0x7f6b26771390>, <KeyPoint 0x7f6b2677c390>, <KeyPoint 0x7f6b26783b10>]\n",
            "GENERATING DESCRIPTORS...\n",
            "OK!\n",
            "DONE! RETURNING KEYPOINTS AND DESCRIPTORS... (PLEASE WAIT)\n",
            "[0.08624721, 0.07308117, 0.08808491, 0.085161164, 0.085135765, 0.09237291, 0.08789101, 0.09542363, 0.094758525, 0.0944326]\n",
            "0.09542363\n",
            "OK!\n",
            "Computing Training Image 4 ...\n",
            "GENERATING BASE IMAGE...\n",
            "OK!\n",
            "COMPUTING OCTAVES...\n",
            "OK!\n",
            "GENERATING KERNELS...\n",
            "OK!\n",
            "GENERATING GAUSSIAN IMAGES...\n",
            "OK!\n",
            "GENERATING DIFFERENCE OF GAUSSIAN IMAGES...\n",
            "OK!\n",
            "ATTEMPTING TO FIND SCALE-SPACE EXTREMA... (PLEASE WAIT)\n",
            "OK!\n",
            "REMOVING DUPLICATE KEYPOINTS...\n",
            "OK!\n",
            "CONVERTING KEYPOINTS TO INPUT IMAGE SIZE...\n",
            "OK!\n",
            "[<KeyPoint 0x7f6b26771e10>, <KeyPoint 0x7f6b2676f0f0>, <KeyPoint 0x7f6b26771f90>, <KeyPoint 0x7f6b26771f60>, <KeyPoint 0x7f6b2676f720>, <KeyPoint 0x7f6b2676f9c0>, <KeyPoint 0x7f6b2676f180>, <KeyPoint 0x7f6b26771060>, <KeyPoint 0x7f6b26771c00>, <KeyPoint 0x7f6b2676fd50>, <KeyPoint 0x7f6b2676f990>, <KeyPoint 0x7f6b2676f6f0>, <KeyPoint 0x7f6b26771f00>, <KeyPoint 0x7f6b2676f4b0>, <KeyPoint 0x7f6b2676f390>, <KeyPoint 0x7f6b26771a20>, <KeyPoint 0x7f6b26771b10>, <KeyPoint 0x7f6b2676f210>, <KeyPoint 0x7f6b2676fae0>, <KeyPoint 0x7f6b2676fd20>, <KeyPoint 0x7f6b26769d20>, <KeyPoint 0x7f6b26771960>, <KeyPoint 0x7f6b26771d80>, <KeyPoint 0x7f6b26771cc0>, <KeyPoint 0x7f6b2676fe40>, <KeyPoint 0x7f6b26771d20>, <KeyPoint 0x7f6b2676f870>, <KeyPoint 0x7f6b2676f630>, <KeyPoint 0x7f6b26771630>, <KeyPoint 0x7f6b2676fde0>, <KeyPoint 0x7f6b2676fc90>, <KeyPoint 0x7f6b2676f600>, <KeyPoint 0x7f6b2676f510>, <KeyPoint 0x7f6b26771870>, <KeyPoint 0x7f6b26771ea0>, <KeyPoint 0x7f6b2676f060>, <KeyPoint 0x7f6b2676f090>, <KeyPoint 0x7f6b26771d50>, <KeyPoint 0x7f6b2676f4e0>, <KeyPoint 0x7f6b2676fcc0>, <KeyPoint 0x7f6b2676f960>, <KeyPoint 0x7f6b26771b40>, <KeyPoint 0x7f6b267713c0>, <KeyPoint 0x7f6b2676f930>, <KeyPoint 0x7f6b26737090>, <KeyPoint 0x7f6b2676ff90>, <KeyPoint 0x7f6b2676f330>, <KeyPoint 0x7f6b2676f2a0>, <KeyPoint 0x7f6b2676f240>, <KeyPoint 0x7f6b26771db0>, <KeyPoint 0x7f6b26771e40>, <KeyPoint 0x7f6b2676f540>, <KeyPoint 0x7f6b2676f900>, <KeyPoint 0x7f6b2676fb70>, <KeyPoint 0x7f6b2676f3f0>, <KeyPoint 0x7f6b2676f1e0>, <KeyPoint 0x7f6b2676fbd0>, <KeyPoint 0x7f6b2676f2d0>, <KeyPoint 0x7f6b2676f7e0>, <KeyPoint 0x7f6b2676f8d0>, <KeyPoint 0x7f6b2676f570>, <KeyPoint 0x7f6b2676ffc0>, <KeyPoint 0x7f6b2676fdb0>, <KeyPoint 0x7f6b2676f030>, <KeyPoint 0x7f6b2676f6c0>, <KeyPoint 0x7f6b26737150>, <KeyPoint 0x7f6b2676fb40>, <KeyPoint 0x7f6b26771ab0>, <KeyPoint 0x7f6b2676f420>, <KeyPoint 0x7f6b26783cc0>, <KeyPoint 0x7f6b26771b70>, <KeyPoint 0x7f6b2676fc00>, <KeyPoint 0x7f6b2676fab0>, <KeyPoint 0x7f6b2676f270>, <KeyPoint 0x7f6b267719f0>, <KeyPoint 0x7f6b2676fe70>, <KeyPoint 0x7f6b2676f5d0>, <KeyPoint 0x7f6b26771a80>, <KeyPoint 0x7f6b267712d0>, <KeyPoint 0x7f6b26771ae0>, <KeyPoint 0x7f6b2676f5a0>, <KeyPoint 0x7f6b26771a50>, <KeyPoint 0x7f6b26771bd0>, <KeyPoint 0x7f6b2676f360>, <KeyPoint 0x7f6b26771e70>, <KeyPoint 0x7f6b2676fa20>, <KeyPoint 0x7f6b2676fb10>, <KeyPoint 0x7f6b2676f1b0>, <KeyPoint 0x7f6b2676f3c0>, <KeyPoint 0x7f6b26771c60>, <KeyPoint 0x7f6b2676f840>, <KeyPoint 0x7f6b26771fc0>, <KeyPoint 0x7f6b26771c90>, <KeyPoint 0x7f6b26771840>, <KeyPoint 0x7f6b26771cf0>, <KeyPoint 0x7f6b26771c30>, <KeyPoint 0x7f6b2676f810>, <KeyPoint 0x7f6b26771ba0>, <KeyPoint 0x7f6b26771de0>, <KeyPoint 0x7f6b2676f300>, <KeyPoint 0x7f6b2676f120>, <KeyPoint 0x7f6b267718a0>, <KeyPoint 0x7f6b2676f150>, <KeyPoint 0x7f6b2676f7b0>, <KeyPoint 0x7f6b2676fa50>, <KeyPoint 0x7f6b2676fc30>, <KeyPoint 0x7f6b26771f30>, <KeyPoint 0x7f6b26737060>, <KeyPoint 0x7f6b2676fed0>, <KeyPoint 0x7f6b2676f660>, <KeyPoint 0x7f6b2676fc60>, <KeyPoint 0x7f6b2676f480>, <KeyPoint 0x7f6b267371b0>, <KeyPoint 0x7f6b267371e0>, <KeyPoint 0x7f6b2676fa80>, <KeyPoint 0x7f6b2676f780>, <KeyPoint 0x7f6b2676fcf0>, <KeyPoint 0x7f6b2676f690>, <KeyPoint 0x7f6b26737120>, <KeyPoint 0x7f6b2676fea0>, <KeyPoint 0x7f6b2676ff00>, <KeyPoint 0x7f6b267719c0>, <KeyPoint 0x7f6b2676fd80>, <KeyPoint 0x7f6b2676fe10>, <KeyPoint 0x7f6b2676ff60>, <KeyPoint 0x7f6b2676f0c0>, <KeyPoint 0x7f6b2676f8a0>, <KeyPoint 0x7f6b2676f9f0>]\n",
            "GENERATING DESCRIPTORS...\n",
            "OK!\n",
            "DONE! RETURNING KEYPOINTS AND DESCRIPTORS... (PLEASE WAIT)\n",
            "[0.0979676, 0.08278318, 0.08658156, 0.07065783, 0.07503938, 0.07932538, 0.09646882, 0.095013455, 0.09106961, 0.07357395]\n",
            "0.0979676\n",
            "OK!\n",
            "Computing Test Image 1 ...\n",
            "GENERATING BASE IMAGE...\n",
            "OK!\n",
            "COMPUTING OCTAVES...\n",
            "OK!\n",
            "GENERATING KERNELS...\n",
            "OK!\n",
            "GENERATING GAUSSIAN IMAGES...\n",
            "OK!\n",
            "GENERATING DIFFERENCE OF GAUSSIAN IMAGES...\n",
            "OK!\n",
            "ATTEMPTING TO FIND SCALE-SPACE EXTREMA... (PLEASE WAIT)\n",
            "OK!\n",
            "REMOVING DUPLICATE KEYPOINTS...\n",
            "OK!\n",
            "CONVERTING KEYPOINTS TO INPUT IMAGE SIZE...\n",
            "OK!\n",
            "[<KeyPoint 0x7f6b26740810>, <KeyPoint 0x7f6b26715e10>, <KeyPoint 0x7f6b26715e40>, <KeyPoint 0x7f6b26715c60>, <KeyPoint 0x7f6b267123f0>, <KeyPoint 0x7f6b267370c0>, <KeyPoint 0x7f6b267373c0>, <KeyPoint 0x7f6b26715ba0>, <KeyPoint 0x7f6b26737b40>, <KeyPoint 0x7f6b26737cc0>, <KeyPoint 0x7f6b26715840>, <KeyPoint 0x7f6b2676fba0>, <KeyPoint 0x7f6b2672a960>, <KeyPoint 0x7f6b26740c90>, <KeyPoint 0x7f6b26740930>, <KeyPoint 0x7f6b26740420>, <KeyPoint 0x7f6b26740720>, <KeyPoint 0x7f6b26728120>, <KeyPoint 0x7f6b267282a0>, <KeyPoint 0x7f6b26740060>, <KeyPoint 0x7f6b267402a0>, <KeyPoint 0x7f6b26740360>, <KeyPoint 0x7f6b26740690>, <KeyPoint 0x7f6b267406c0>, <KeyPoint 0x7f6b26740540>, <KeyPoint 0x7f6b26740ab0>, <KeyPoint 0x7f6b26740600>, <KeyPoint 0x7f6b267120c0>, <KeyPoint 0x7f6b267283f0>, <KeyPoint 0x7f6b26728ab0>, <KeyPoint 0x7f6b26740c00>, <KeyPoint 0x7f6b26740840>, <KeyPoint 0x7f6b267152d0>, <KeyPoint 0x7f6b26740ba0>, <KeyPoint 0x7f6b26740c30>, <KeyPoint 0x7f6b2673cdb0>, <KeyPoint 0x7f6b26740390>, <KeyPoint 0x7f6b26740750>, <KeyPoint 0x7f6b267404e0>, <KeyPoint 0x7f6b26728090>, <KeyPoint 0x7f6b26715120>, <KeyPoint 0x7f6b26737c00>, <KeyPoint 0x7f6b26715240>, <KeyPoint 0x7f6b267402d0>, <KeyPoint 0x7f6b26737f30>, <KeyPoint 0x7f6b267158d0>, <KeyPoint 0x7f6b26715a80>, <KeyPoint 0x7f6b26715ab0>, <KeyPoint 0x7f6b26740b10>, <KeyPoint 0x7f6b26712720>, <KeyPoint 0x7f6b26712600>, <KeyPoint 0x7f6b26740180>, <KeyPoint 0x7f6b26715db0>, <KeyPoint 0x7f6b267401e0>, <KeyPoint 0x7f6b2672ad50>, <KeyPoint 0x7f6b2672ae40>, <KeyPoint 0x7f6b26715a20>, <KeyPoint 0x7f6b26715ae0>, <KeyPoint 0x7f6b2673cd80>, <KeyPoint 0x7f6b26715180>, <KeyPoint 0x7f6b267129c0>, <KeyPoint 0x7f6b26712ea0>, <KeyPoint 0x7f6b2673c600>, <KeyPoint 0x7f6b26737030>, <KeyPoint 0x7f6b267157b0>, <KeyPoint 0x7f6b267288d0>, <KeyPoint 0x7f6b267287b0>, <KeyPoint 0x7f6b26728990>, <KeyPoint 0x7f6b2672a510>, <KeyPoint 0x7f6b2672a7b0>, <KeyPoint 0x7f6b2673c6f0>, <KeyPoint 0x7f6b2673ccc0>, <KeyPoint 0x7f6b26715ed0>, <KeyPoint 0x7f6b26712d80>, <KeyPoint 0x7f6b26728570>, <KeyPoint 0x7f6b26715d20>, <KeyPoint 0x7f6b26728300>, <KeyPoint 0x7f6b2673c2d0>, <KeyPoint 0x7f6b26715bd0>, <KeyPoint 0x7f6b26712570>, <KeyPoint 0x7f6b267159c0>, <KeyPoint 0x7f6b2673c9f0>, <KeyPoint 0x7f6b26712630>, <KeyPoint 0x7f6b26712e10>, <KeyPoint 0x7f6b2673c8d0>, <KeyPoint 0x7f6b26737ed0>, <KeyPoint 0x7f6b2676ff30>, <KeyPoint 0x7f6b26715c90>, <KeyPoint 0x7f6b26740f30>, <KeyPoint 0x7f6b26740210>, <KeyPoint 0x7f6b26737bd0>, <KeyPoint 0x7f6b267124b0>, <KeyPoint 0x7f6b26715450>, <KeyPoint 0x7f6b26728900>, <KeyPoint 0x7f6b26728c30>, <KeyPoint 0x7f6b2672af00>, <KeyPoint 0x7f6b26728930>, <KeyPoint 0x7f6b26728b10>, <KeyPoint 0x7f6b2673c690>, <KeyPoint 0x7f6b26740510>, <KeyPoint 0x7f6b26740900>, <KeyPoint 0x7f6b26740b70>, <KeyPoint 0x7f6b2673c420>, <KeyPoint 0x7f6b26737ea0>, <KeyPoint 0x7f6b26737f90>, <KeyPoint 0x7f6b26728c00>, <KeyPoint 0x7f6b2672a090>, <KeyPoint 0x7f6b2672a240>, <KeyPoint 0x7f6b2672aae0>, <KeyPoint 0x7f6b2672af30>, <KeyPoint 0x7f6b26728510>, <KeyPoint 0x7f6b26715090>, <KeyPoint 0x7f6b2672adb0>, <KeyPoint 0x7f6b2672acf0>, <KeyPoint 0x7f6b26728cf0>, <KeyPoint 0x7f6b2672a180>, <KeyPoint 0x7f6b267152a0>, <KeyPoint 0x7f6b26715150>, <KeyPoint 0x7f6b26737ba0>, <KeyPoint 0x7f6b26715f90>, <KeyPoint 0x7f6b26712c30>, <KeyPoint 0x7f6b267375a0>, <KeyPoint 0x7f6b26737b10>, <KeyPoint 0x7f6b26712780>, <KeyPoint 0x7f6b26715600>, <KeyPoint 0x7f6b26715c00>, <KeyPoint 0x7f6b2672a900>, <KeyPoint 0x7f6b26715fc0>, <KeyPoint 0x7f6b2673c840>, <KeyPoint 0x7f6b26740990>, <KeyPoint 0x7f6b26737a20>, <KeyPoint 0x7f6b26737d20>, <KeyPoint 0x7f6b267122d0>, <KeyPoint 0x7f6b267372d0>, <KeyPoint 0x7f6b26740960>, <KeyPoint 0x7f6b2673cc00>, <KeyPoint 0x7f6b26728ba0>, <KeyPoint 0x7f6b26740d20>, <KeyPoint 0x7f6b267289c0>, <KeyPoint 0x7f6b26728d50>, <KeyPoint 0x7f6b26728e10>, <KeyPoint 0x7f6b2672a390>, <KeyPoint 0x7f6b2672aea0>, <KeyPoint 0x7f6b26740de0>, <KeyPoint 0x7f6b26712270>, <KeyPoint 0x7f6b26712420>, <KeyPoint 0x7f6b2676f750>, <KeyPoint 0x7f6b2673ccf0>, <KeyPoint 0x7f6b26737ae0>, <KeyPoint 0x7f6b267153f0>, <KeyPoint 0x7f6b26740090>, <KeyPoint 0x7f6b267405a0>, <KeyPoint 0x7f6b26715630>, <KeyPoint 0x7f6b267375d0>, <KeyPoint 0x7f6b26728f00>, <KeyPoint 0x7f6b26712120>, <KeyPoint 0x7f6b26715cc0>, <KeyPoint 0x7f6b26737f00>, <KeyPoint 0x7f6b26740450>, <KeyPoint 0x7f6b26728e40>, <KeyPoint 0x7f6b26737690>, <KeyPoint 0x7f6b26728420>, <KeyPoint 0x7f6b267405d0>, <KeyPoint 0x7f6b267280f0>, <KeyPoint 0x7f6b2672a6c0>, <KeyPoint 0x7f6b26737420>, <KeyPoint 0x7f6b26728720>, <KeyPoint 0x7f6b26737d50>, <KeyPoint 0x7f6b267400f0>, <KeyPoint 0x7f6b2673c210>, <KeyPoint 0x7f6b267159f0>, <KeyPoint 0x7f6b2672a8a0>, <KeyPoint 0x7f6b26728de0>, <KeyPoint 0x7f6b2673ca20>, <KeyPoint 0x7f6b26712870>, <KeyPoint 0x7f6b26712030>, <KeyPoint 0x7f6b26712990>, <KeyPoint 0x7f6b26740300>, <KeyPoint 0x7f6b26715f00>, <KeyPoint 0x7f6b26737660>, <KeyPoint 0x7f6b2673cb70>, <KeyPoint 0x7f6b26728960>, <KeyPoint 0x7f6b26715cf0>, <KeyPoint 0x7f6b2672a5d0>, <KeyPoint 0x7f6b2672ab40>, <KeyPoint 0x7f6b26740330>, <KeyPoint 0x7f6b267122a0>, <KeyPoint 0x7f6b267151e0>, <KeyPoint 0x7f6b26715b70>, <KeyPoint 0x7f6b26737780>, <KeyPoint 0x7f6b26728a80>, <KeyPoint 0x7f6b267403c0>, <KeyPoint 0x7f6b26737630>, <KeyPoint 0x7f6b2673c7e0>, <KeyPoint 0x7f6b2673ce10>, <KeyPoint 0x7f6b26715d80>, <KeyPoint 0x7f6b2673cab0>, <KeyPoint 0x7f6b2672a720>, <KeyPoint 0x7f6b26715f30>, <KeyPoint 0x7f6b26737c90>, <KeyPoint 0x7f6b267128d0>, <KeyPoint 0x7f6b26712a20>, <KeyPoint 0x7f6b26737960>, <KeyPoint 0x7f6b2673cc60>, <KeyPoint 0x7f6b26715480>, <KeyPoint 0x7f6b26715270>, <KeyPoint 0x7f6b26715ea0>, <KeyPoint 0x7f6b2672ad80>, <KeyPoint 0x7f6b2672a210>, <KeyPoint 0x7f6b2672a4b0>, <KeyPoint 0x7f6b2672afc0>, <KeyPoint 0x7f6b267373f0>, <KeyPoint 0x7f6b2673cba0>, <KeyPoint 0x7f6b2673c7b0>, <KeyPoint 0x7f6b2673c810>, <KeyPoint 0x7f6b26728240>, <KeyPoint 0x7f6b26715f60>, <KeyPoint 0x7f6b2672af60>, <KeyPoint 0x7f6b26712c00>, <KeyPoint 0x7f6b26715030>, <KeyPoint 0x7f6b267407e0>, <KeyPoint 0x7f6b267379c0>, <KeyPoint 0x7f6b26715660>, <KeyPoint 0x7f6b2672a0c0>, <KeyPoint 0x7f6b26740a80>, <KeyPoint 0x7f6b267400c0>, <KeyPoint 0x7f6b26740ea0>, <KeyPoint 0x7f6b26737240>, <KeyPoint 0x7f6b26737300>, <KeyPoint 0x7f6b267154e0>, <KeyPoint 0x7f6b26712840>, <KeyPoint 0x7f6b26712c90>, <KeyPoint 0x7f6b2673ce70>, <KeyPoint 0x7f6b2672ac90>, <KeyPoint 0x7f6b2672ac30>, <KeyPoint 0x7f6b2672a030>, <KeyPoint 0x7f6b2672a1e0>, <KeyPoint 0x7f6b26712ba0>, <KeyPoint 0x7f6b267126f0>, <KeyPoint 0x7f6b26715210>, <KeyPoint 0x7f6b267156f0>, <KeyPoint 0x7f6b267372a0>, <KeyPoint 0x7f6b26737600>, <KeyPoint 0x7f6b267377b0>, <KeyPoint 0x7f6b26712360>, <KeyPoint 0x7f6b26712900>, <KeyPoint 0x7f6b26712fc0>, <KeyPoint 0x7f6b26715810>, <KeyPoint 0x7f6b2672ade0>, <KeyPoint 0x7f6b267126c0>, <KeyPoint 0x7f6b26712180>, <KeyPoint 0x7f6b267127e0>, <KeyPoint 0x7f6b267286f0>, <KeyPoint 0x7f6b26728780>, <KeyPoint 0x7f6b26737e10>, <KeyPoint 0x7f6b2673ce40>, <KeyPoint 0x7f6b26737870>, <KeyPoint 0x7f6b26715780>, <KeyPoint 0x7f6b267377e0>, <KeyPoint 0x7f6b26715990>, <KeyPoint 0x7f6b2672a0f0>, <KeyPoint 0x7f6b2672acc0>, <KeyPoint 0x7f6b26712de0>, <KeyPoint 0x7f6b2672a2d0>, <KeyPoint 0x7f6b26715420>, <KeyPoint 0x7f6b26715570>, <KeyPoint 0x7f6b267370f0>, <KeyPoint 0x7f6b26737360>, <KeyPoint 0x7f6b26728450>, <KeyPoint 0x7f6b26728630>, <KeyPoint 0x7f6b26712b70>, <KeyPoint 0x7f6b26712e40>, <KeyPoint 0x7f6b2673cf60>, <KeyPoint 0x7f6b26712960>, <KeyPoint 0x7f6b26715690>, <KeyPoint 0x7f6b2672aab0>, <KeyPoint 0x7f6b26712a80>, <KeyPoint 0x7f6b26715360>, <KeyPoint 0x7f6b26715de0>, <KeyPoint 0x7f6b2672abd0>, <KeyPoint 0x7f6b26737930>, <KeyPoint 0x7f6b26728db0>, <KeyPoint 0x7f6b267374e0>, <KeyPoint 0x7f6b26737cf0>, <KeyPoint 0x7f6b26737de0>, <KeyPoint 0x7f6b2673c870>, <KeyPoint 0x7f6b267284e0>, <KeyPoint 0x7f6b26715060>, <KeyPoint 0x7f6b267155d0>, <KeyPoint 0x7f6b2672a1b0>, <KeyPoint 0x7f6b26715300>, <KeyPoint 0x7f6b26728e70>, <KeyPoint 0x7f6b2673c780>, <KeyPoint 0x7f6b2673c3c0>, <KeyPoint 0x7f6b2673c570>, <KeyPoint 0x7f6b2672aed0>, <KeyPoint 0x7f6b267285d0>, <KeyPoint 0x7f6b2673c510>, <KeyPoint 0x7f6b26712d20>, <KeyPoint 0x7f6b26737390>, <KeyPoint 0x7f6b26737510>, <KeyPoint 0x7f6b2673ced0>, <KeyPoint 0x7f6b267378d0>, <KeyPoint 0x7f6b267379f0>, <KeyPoint 0x7f6b267376f0>, <KeyPoint 0x7f6b26728600>, <KeyPoint 0x7f6b26712d50>, <KeyPoint 0x7f6b26715900>, <KeyPoint 0x7f6b267376c0>, <KeyPoint 0x7f6b2672a3c0>, <KeyPoint 0x7f6b26728ae0>, <KeyPoint 0x7f6b26740ae0>, <KeyPoint 0x7f6b2672aa80>, <KeyPoint 0x7f6b267409c0>, <KeyPoint 0x7f6b2672a360>, <KeyPoint 0x7f6b2672a5a0>, <KeyPoint 0x7f6b26737ab0>, <KeyPoint 0x7f6b267282d0>, <KeyPoint 0x7f6b26715870>, <KeyPoint 0x7f6b2672a660>, <KeyPoint 0x7f6b2672a9c0>, <KeyPoint 0x7f6b2673cae0>, <KeyPoint 0x7f6b26712a50>, <KeyPoint 0x7f6b26712ab0>, <KeyPoint 0x7f6b2672ac00>, <KeyPoint 0x7f6b2672aa50>, <KeyPoint 0x7f6b26740a50>, <KeyPoint 0x7f6b2672a840>, <KeyPoint 0x7f6b26728b70>, <KeyPoint 0x7f6b267403f0>, <KeyPoint 0x7f6b26740660>, <KeyPoint 0x7f6b26737d80>, <KeyPoint 0x7f6b26712750>, <KeyPoint 0x7f6b267408a0>, <KeyPoint 0x7f6b26728d20>, <KeyPoint 0x7f6b267289f0>, <KeyPoint 0x7f6b26728ea0>, <KeyPoint 0x7f6b26712690>, <KeyPoint 0x7f6b2673cfc0>, <KeyPoint 0x7f6b2673c1e0>, <KeyPoint 0x7f6b2672a120>, <KeyPoint 0x7f6b26715750>, <KeyPoint 0x7f6b26715b10>, <KeyPoint 0x7f6b2673c720>, <KeyPoint 0x7f6b2673cf90>, <KeyPoint 0x7f6b26740bd0>, <KeyPoint 0x7f6b26728690>, <KeyPoint 0x7f6b2672a480>, <KeyPoint 0x7f6b2672a600>, <KeyPoint 0x7f6b2672a2a0>, <KeyPoint 0x7f6b2672ac60>, <KeyPoint 0x7f6b2672a8d0>, <KeyPoint 0x7f6b2672aba0>, <KeyPoint 0x7f6b26715330>, <KeyPoint 0x7f6b267406f0>, <KeyPoint 0x7f6b267407b0>, <KeyPoint 0x7f6b26740240>, <KeyPoint 0x7f6b26737a80>, <KeyPoint 0x7f6b267120f0>, <KeyPoint 0x7f6b267284b0>, <KeyPoint 0x7f6b2673c9c0>, <KeyPoint 0x7f6b2673c120>, <KeyPoint 0x7f6b2673ca50>, <KeyPoint 0x7f6b26712cf0>, <KeyPoint 0x7f6b267158a0>, <KeyPoint 0x7f6b2673c5a0>, <KeyPoint 0x7f6b2673c630>, <KeyPoint 0x7f6b26715960>, <KeyPoint 0x7f6b2673c660>, <KeyPoint 0x7f6b26712db0>, <KeyPoint 0x7f6b26712c60>, <KeyPoint 0x7f6b26712b10>, <KeyPoint 0x7f6b2672a060>, <KeyPoint 0x7f6b2672a810>, <KeyPoint 0x7f6b267156c0>, <KeyPoint 0x7f6b267155a0>, <KeyPoint 0x7f6b26737a50>, <KeyPoint 0x7f6b26737990>, <KeyPoint 0x7f6b2673c3f0>, <KeyPoint 0x7f6b2673cf30>, <KeyPoint 0x7f6b26715720>, <KeyPoint 0x7f6b26712cc0>, <KeyPoint 0x7f6b26715510>, <KeyPoint 0x7f6b26712930>, <KeyPoint 0x7f6b2672a990>, <KeyPoint 0x7f6b2672a930>, <KeyPoint 0x7f6b26728180>, <KeyPoint 0x7f6b26728390>, <KeyPoint 0x7f6b2672a300>, <KeyPoint 0x7f6b26712ed0>, <KeyPoint 0x7f6b26737900>, <KeyPoint 0x7f6b26737f60>, <KeyPoint 0x7f6b26737720>, <KeyPoint 0x7f6b267125d0>, <KeyPoint 0x7f6b26728bd0>, <KeyPoint 0x7f6b26737810>, <KeyPoint 0x7f6b26737210>, <KeyPoint 0x7f6b267378a0>, <KeyPoint 0x7f6b2672af90>, <KeyPoint 0x7f6b2673c0c0>, <KeyPoint 0x7f6b2673c0f0>, <KeyPoint 0x7f6b26728480>, <KeyPoint 0x7f6b2673cf00>, <KeyPoint 0x7f6b26728360>, <KeyPoint 0x7f6b26737c30>, <KeyPoint 0x7f6b2672a330>, <KeyPoint 0x7f6b2673c8a0>, <KeyPoint 0x7f6b2672a780>, <KeyPoint 0x7f6b267154b0>, <KeyPoint 0x7f6b26737480>, <KeyPoint 0x7f6b2672a7e0>, <KeyPoint 0x7f6b2672ad20>, <KeyPoint 0x7f6b2676f450>, <KeyPoint 0x7f6b267150f0>, <KeyPoint 0x7f6b26715540>, <KeyPoint 0x7f6b2673cd20>, <KeyPoint 0x7f6b26740f90>, <KeyPoint 0x7f6b2673c750>, <KeyPoint 0x7f6b26737750>, <KeyPoint 0x7f6b2672aa20>, <KeyPoint 0x7f6b26712bd0>, <KeyPoint 0x7f6b26740fc0>, <KeyPoint 0x7f6b26728c60>, <KeyPoint 0x7f6b267283c0>, <KeyPoint 0x7f6b26737540>, <KeyPoint 0x7f6b26737e40>, <KeyPoint 0x7f6b26737330>, <KeyPoint 0x7f6b26737570>, <KeyPoint 0x7f6b2672a9f0>, <KeyPoint 0x7f6b267287e0>, <KeyPoint 0x7f6b2673cea0>, <KeyPoint 0x7f6b26737db0>, <KeyPoint 0x7f6b267151b0>, <KeyPoint 0x7f6b26740030>, <KeyPoint 0x7f6b26737840>, <KeyPoint 0x7f6b26740120>, <KeyPoint 0x7f6b26740150>, <KeyPoint 0x7f6b26761cc0>, <KeyPoint 0x7f6b26728540>, <KeyPoint 0x7f6b26737c60>, <KeyPoint 0x7f6b26737180>, <KeyPoint 0x7f6b267157e0>, <KeyPoint 0x7f6b26715a50>, <KeyPoint 0x7f6b26728cc0>, <KeyPoint 0x7f6b26740480>, <KeyPoint 0x7f6b267404b0>, <KeyPoint 0x7f6b26740570>, <KeyPoint 0x7f6b26712f00>, <KeyPoint 0x7f6b26728270>, <KeyPoint 0x7f6b2673c990>, <KeyPoint 0x7f6b2673c960>, <KeyPoint 0x7f6b2673cb10>, <KeyPoint 0x7f6b2672a270>, <KeyPoint 0x7f6b2672a540>, <KeyPoint 0x7f6b26740a20>, <KeyPoint 0x7f6b26712480>, <KeyPoint 0x7f6b2672ae10>, <KeyPoint 0x7f6b2673cbd0>, <KeyPoint 0x7f6b26740780>, <KeyPoint 0x7f6b26712b40>, <KeyPoint 0x7f6b26740f60>, <KeyPoint 0x7f6b26715b40>, <KeyPoint 0x7f6b26715930>, <KeyPoint 0x7f6b26715e70>, <KeyPoint 0x7f6b2672a630>, <KeyPoint 0x7f6b2672a570>, <KeyPoint 0x7f6b2673c270>, <KeyPoint 0x7f6b2673c150>, <KeyPoint 0x7f6b26740db0>, <KeyPoint 0x7f6b2672a450>, <KeyPoint 0x7f6b26740e10>, <KeyPoint 0x7f6b2673c2a0>, <KeyPoint 0x7f6b2673c390>, <KeyPoint 0x7f6b2673c090>, <KeyPoint 0x7f6b2673c300>, <KeyPoint 0x7f6b2673c240>, <KeyPoint 0x7f6b26740cf0>, <KeyPoint 0x7f6b26728810>, <KeyPoint 0x7f6b26740cc0>, <KeyPoint 0x7f6b26740e40>, <KeyPoint 0x7f6b26740630>, <KeyPoint 0x7f6b2673c030>, <KeyPoint 0x7f6b2672ae70>, <KeyPoint 0x7f6b26740f00>, <KeyPoint 0x7f6b267409f0>, <KeyPoint 0x7f6b26712240>, <KeyPoint 0x7f6b26712090>, <KeyPoint 0x7f6b26712150>, <KeyPoint 0x7f6b26728060>, <KeyPoint 0x7f6b26728330>, <KeyPoint 0x7f6b2673c4e0>, <KeyPoint 0x7f6b26728840>, <KeyPoint 0x7f6b26712390>, <KeyPoint 0x7f6b26740c60>, <KeyPoint 0x7f6b2673c1b0>, <KeyPoint 0x7f6b26712330>, <KeyPoint 0x7f6b2673c330>, <KeyPoint 0x7f6b2673c450>, <KeyPoint 0x7f6b26712f90>, <KeyPoint 0x7f6b26712060>, <KeyPoint 0x7f6b267121b0>, <KeyPoint 0x7f6b2673c060>, <KeyPoint 0x7f6b2673c930>, <KeyPoint 0x7f6b2673c5d0>, <KeyPoint 0x7f6b267374b0>, <KeyPoint 0x7f6b26737fc0>, <KeyPoint 0x7f6b2673cb40>, <KeyPoint 0x7f6b2673cc30>, <KeyPoint 0x7f6b26712210>, <KeyPoint 0x7f6b26715d50>, <KeyPoint 0x7f6b2673cc90>, <KeyPoint 0x7f6b2672a690>, <KeyPoint 0x7f6b26737450>, <KeyPoint 0x7f6b267281b0>, <KeyPoint 0x7f6b267401b0>, <KeyPoint 0x7f6b26737e70>, <KeyPoint 0x7f6b2672a150>, <KeyPoint 0x7f6b2673c480>, <KeyPoint 0x7f6b2673c540>, <KeyPoint 0x7f6b267150c0>, <KeyPoint 0x7f6b267125a0>, <KeyPoint 0x7f6b26740870>, <KeyPoint 0x7f6b267280c0>, <KeyPoint 0x7f6b26728a20>, <KeyPoint 0x7f6b26740e70>, <KeyPoint 0x7f6b26712f60>, <KeyPoint 0x7f6b2672a4e0>, <KeyPoint 0x7f6b26712ae0>, <KeyPoint 0x7f6b26715c30>, <KeyPoint 0x7f6b26712450>, <KeyPoint 0x7f6b2672a870>, <KeyPoint 0x7f6b267408d0>, <KeyPoint 0x7f6b26712540>, <KeyPoint 0x7f6b26740270>, <KeyPoint 0x7f6b26712660>, <KeyPoint 0x7f6b26712300>, <KeyPoint 0x7f6b267124e0>, <KeyPoint 0x7f6b2673cde0>, <KeyPoint 0x7f6b2672a420>, <KeyPoint 0x7f6b2672ab10>, <KeyPoint 0x7f6b26728b40>, <KeyPoint 0x7f6b26712810>, <KeyPoint 0x7f6b267127b0>, <KeyPoint 0x7f6b267128a0>, <KeyPoint 0x7f6b267285a0>, <KeyPoint 0x7f6b2673c6c0>, <KeyPoint 0x7f6b26715390>, <KeyPoint 0x7f6b26740b40>, <KeyPoint 0x7f6b26728030>, <KeyPoint 0x7f6b267281e0>, <KeyPoint 0x7f6b26712e70>, <KeyPoint 0x7f6b267286c0>, <KeyPoint 0x7f6b26728210>, <KeyPoint 0x7f6b26728870>, <KeyPoint 0x7f6b2673c4b0>, <KeyPoint 0x7f6b26740d50>, <KeyPoint 0x7f6b2673c900>, <KeyPoint 0x7f6b26740ed0>, <KeyPoint 0x7f6b2673c360>, <KeyPoint 0x7f6b2673c180>, <KeyPoint 0x7f6b26737b70>, <KeyPoint 0x7f6b26712510>, <KeyPoint 0x7f6b267129f0>, <KeyPoint 0x7f6b26712f30>, <KeyPoint 0x7f6b2672ab70>, <KeyPoint 0x7f6b2672a3f0>, <KeyPoint 0x7f6b267123c0>, <KeyPoint 0x7f6b26740d80>, <KeyPoint 0x7f6b267153c0>]\n",
            "GENERATING DESCRIPTORS...\n",
            "OK!\n",
            "DONE! RETURNING KEYPOINTS AND DESCRIPTORS... (PLEASE WAIT)\n",
            "[0.060224377, 0.06396954, 0.06525338, 0.070198625, 0.06762487, 0.07232571, 0.07269021, 0.07774048, 0.07520375, 0.076018885]\n",
            "0.07774048\n",
            "OK!\n",
            "Computing Test Image 2 ...\n",
            "GENERATING BASE IMAGE...\n",
            "OK!\n",
            "COMPUTING OCTAVES...\n",
            "OK!\n",
            "GENERATING KERNELS...\n",
            "OK!\n",
            "GENERATING GAUSSIAN IMAGES...\n",
            "OK!\n",
            "GENERATING DIFFERENCE OF GAUSSIAN IMAGES...\n",
            "OK!\n",
            "ATTEMPTING TO FIND SCALE-SPACE EXTREMA... (PLEASE WAIT)\n",
            "OK!\n",
            "REMOVING DUPLICATE KEYPOINTS...\n",
            "OK!\n",
            "CONVERTING KEYPOINTS TO INPUT IMAGE SIZE...\n",
            "OK!\n",
            "[<KeyPoint 0x7f6b267480c0>, <KeyPoint 0x7f6b26748180>, <KeyPoint 0x7f6b26735ab0>, <KeyPoint 0x7f6b267121e0>, <KeyPoint 0x7f6b2670a030>, <KeyPoint 0x7f6b2670a150>, <KeyPoint 0x7f6b2673f180>, <KeyPoint 0x7f6b26735b10>, <KeyPoint 0x7f6b26732cc0>, <KeyPoint 0x7f6b26728150>, <KeyPoint 0x7f6b26728f30>, <KeyPoint 0x7f6b2670a090>, <KeyPoint 0x7f6b2670a1e0>, <KeyPoint 0x7f6b267392d0>, <KeyPoint 0x7f6b26732b40>, <KeyPoint 0x7f6b26739e10>, <KeyPoint 0x7f6b26739c90>, <KeyPoint 0x7f6b26732a50>, <KeyPoint 0x7f6b26732570>, <KeyPoint 0x7f6b26739660>, <KeyPoint 0x7f6b2673f570>, <KeyPoint 0x7f6b26732a80>, <KeyPoint 0x7f6b267325d0>, <KeyPoint 0x7f6b26732510>, <KeyPoint 0x7f6b26732c00>, <KeyPoint 0x7f6b26748e40>, <KeyPoint 0x7f6b26735fc0>, <KeyPoint 0x7f6b2673f150>, <KeyPoint 0x7f6b26739f90>, <KeyPoint 0x7f6b2673fcf0>, <KeyPoint 0x7f6b26748690>, <KeyPoint 0x7f6b267486c0>, <KeyPoint 0x7f6b26728f90>, <KeyPoint 0x7f6b26732210>, <KeyPoint 0x7f6b26739b40>, <KeyPoint 0x7f6b26739ed0>, <KeyPoint 0x7f6b267240f0>, <KeyPoint 0x7f6b267241b0>, <KeyPoint 0x7f6b26732ab0>, <KeyPoint 0x7f6b26735b40>, <KeyPoint 0x7f6b26739d50>, <KeyPoint 0x7f6b26735240>, <KeyPoint 0x7f6b26735390>, <KeyPoint 0x7f6b26735ae0>, <KeyPoint 0x7f6b26748300>, <KeyPoint 0x7f6b2673f810>, <KeyPoint 0x7f6b267390c0>, <KeyPoint 0x7f6b2673fc30>, <KeyPoint 0x7f6b26724180>, <KeyPoint 0x7f6b26739d80>, <KeyPoint 0x7f6b2673f420>, <KeyPoint 0x7f6b26739180>, <KeyPoint 0x7f6b26739480>, <KeyPoint 0x7f6b26739de0>, <KeyPoint 0x7f6b2673fa20>, <KeyPoint 0x7f6b26732630>, <KeyPoint 0x7f6b267358d0>, <KeyPoint 0x7f6b2670af30>, <KeyPoint 0x7f6b26732120>, <KeyPoint 0x7f6b26735cf0>, <KeyPoint 0x7f6b267357b0>, <KeyPoint 0x7f6b26735db0>, <KeyPoint 0x7f6b2673f3c0>, <KeyPoint 0x7f6b2673fdb0>, <KeyPoint 0x7f6b2670aa20>, <KeyPoint 0x7f6b267242d0>, <KeyPoint 0x7f6b2673fae0>, <KeyPoint 0x7f6b26728c90>, <KeyPoint 0x7f6b26735420>, <KeyPoint 0x7f6b2673f3f0>, <KeyPoint 0x7f6b2673fa50>, <KeyPoint 0x7f6b2673f9f0>, <KeyPoint 0x7f6b26748990>, <KeyPoint 0x7f6b267320c0>, <KeyPoint 0x7f6b267321b0>, <KeyPoint 0x7f6b2670aba0>, <KeyPoint 0x7f6b26748cc0>, <KeyPoint 0x7f6b2670aab0>, <KeyPoint 0x7f6b2673fe10>, <KeyPoint 0x7f6b2673f510>, <KeyPoint 0x7f6b267358a0>, <KeyPoint 0x7f6b2670a660>, <KeyPoint 0x7f6b26748870>, <KeyPoint 0x7f6b26748ae0>, <KeyPoint 0x7f6b26739870>, <KeyPoint 0x7f6b2670a0c0>, <KeyPoint 0x7f6b267240c0>, <KeyPoint 0x7f6b26724240>, <KeyPoint 0x7f6b26735780>, <KeyPoint 0x7f6b2673f1e0>, <KeyPoint 0x7f6b2673f2a0>, <KeyPoint 0x7f6b26735bd0>, <KeyPoint 0x7f6b267354e0>, <KeyPoint 0x7f6b267356f0>, <KeyPoint 0x7f6b26735cc0>, <KeyPoint 0x7f6b26748d80>, <KeyPoint 0x7f6b2670ab40>, <KeyPoint 0x7f6b26739f60>, <KeyPoint 0x7f6b2673fb10>, <KeyPoint 0x7f6b2673f6f0>, <KeyPoint 0x7f6b26732420>, <KeyPoint 0x7f6b26732360>, <KeyPoint 0x7f6b26732240>, <KeyPoint 0x7f6b2673ff60>, <KeyPoint 0x7f6b26728660>, <KeyPoint 0x7f6b26748a20>, <KeyPoint 0x7f6b26732f30>, <KeyPoint 0x7f6b267398a0>, <KeyPoint 0x7f6b26739150>, <KeyPoint 0x7f6b26732de0>, <KeyPoint 0x7f6b26728f60>, <KeyPoint 0x7f6b26739510>, <KeyPoint 0x7f6b267484e0>, <KeyPoint 0x7f6b267322d0>, <KeyPoint 0x7f6b26724300>, <KeyPoint 0x7f6b26739c30>, <KeyPoint 0x7f6b2673f450>, <KeyPoint 0x7f6b26739ae0>, <KeyPoint 0x7f6b26735300>, <KeyPoint 0x7f6b2673fde0>, <KeyPoint 0x7f6b26748630>, <KeyPoint 0x7f6b26748d50>, <KeyPoint 0x7f6b26732f60>, <KeyPoint 0x7f6b26732cf0>, <KeyPoint 0x7f6b26732540>, <KeyPoint 0x7f6b2673f720>, <KeyPoint 0x7f6b2673fb70>, <KeyPoint 0x7f6b26724030>, <KeyPoint 0x7f6b2670ac30>, <KeyPoint 0x7f6b267357e0>, <KeyPoint 0x7f6b267325a0>, <KeyPoint 0x7f6b26735990>, <KeyPoint 0x7f6b26732db0>, <KeyPoint 0x7f6b26739a50>, <KeyPoint 0x7f6b26739cc0>, <KeyPoint 0x7f6b2670a300>, <KeyPoint 0x7f6b2673fe40>, <KeyPoint 0x7f6b267394e0>, <KeyPoint 0x7f6b2670aa50>, <KeyPoint 0x7f6b267352a0>, <KeyPoint 0x7f6b26735450>, <KeyPoint 0x7f6b2673f840>, <KeyPoint 0x7f6b2673cd50>, <KeyPoint 0x7f6b26739b70>, <KeyPoint 0x7f6b26748450>, <KeyPoint 0x7f6b26748570>, <KeyPoint 0x7f6b267390f0>, <KeyPoint 0x7f6b2670a600>, <KeyPoint 0x7f6b26735870>, <KeyPoint 0x7f6b2673ff00>, <KeyPoint 0x7f6b2673ff90>, <KeyPoint 0x7f6b2670a420>, <KeyPoint 0x7f6b2673f210>, <KeyPoint 0x7f6b2670a3c0>, <KeyPoint 0x7f6b2670a720>, <KeyPoint 0x7f6b26732270>, <KeyPoint 0x7f6b26748cf0>, <KeyPoint 0x7f6b26748ed0>, <KeyPoint 0x7f6b2670a870>, <KeyPoint 0x7f6b26732fc0>, <KeyPoint 0x7f6b2670a510>, <KeyPoint 0x7f6b26728fc0>, <KeyPoint 0x7f6b2673f750>, <KeyPoint 0x7f6b2670a120>, <KeyPoint 0x7f6b2673ff30>, <KeyPoint 0x7f6b26748e70>, <KeyPoint 0x7f6b26748510>, <KeyPoint 0x7f6b26728d80>, <KeyPoint 0x7f6b267351b0>, <KeyPoint 0x7f6b26739960>, <KeyPoint 0x7f6b26748f00>, <KeyPoint 0x7f6b2670adb0>, <KeyPoint 0x7f6b26739a80>, <KeyPoint 0x7f6b2673f7e0>, <KeyPoint 0x7f6b26732d20>, <KeyPoint 0x7f6b26739c60>, <KeyPoint 0x7f6b26748900>, <KeyPoint 0x7f6b267486f0>, <KeyPoint 0x7f6b2673f780>, <KeyPoint 0x7f6b26748480>, <KeyPoint 0x7f6b267487b0>, <KeyPoint 0x7f6b26735e70>, <KeyPoint 0x7f6b2673f030>, <KeyPoint 0x7f6b2673f240>, <KeyPoint 0x7f6b26735c00>, <KeyPoint 0x7f6b26735f60>, <KeyPoint 0x7f6b26735f90>, <KeyPoint 0x7f6b2670ad20>, <KeyPoint 0x7f6b26735330>, <KeyPoint 0x7f6b26748150>, <KeyPoint 0x7f6b26739cf0>, <KeyPoint 0x7f6b26735e10>, <KeyPoint 0x7f6b26739720>, <KeyPoint 0x7f6b26748810>, <KeyPoint 0x7f6b2673f900>, <KeyPoint 0x7f6b2673f660>, <KeyPoint 0x7f6b26739d20>, <KeyPoint 0x7f6b2673f7b0>, <KeyPoint 0x7f6b2673f330>, <KeyPoint 0x7f6b26732e70>, <KeyPoint 0x7f6b26735540>, <KeyPoint 0x7f6b26735a20>, <KeyPoint 0x7f6b2670a3f0>, <KeyPoint 0x7f6b267242a0>, <KeyPoint 0x7f6b2673f990>, <KeyPoint 0x7f6b267359f0>, <KeyPoint 0x7f6b26735d20>, <KeyPoint 0x7f6b26748c60>, <KeyPoint 0x7f6b2670a450>, <KeyPoint 0x7f6b26739750>, <KeyPoint 0x7f6b267391e0>, <KeyPoint 0x7f6b267399f0>, <KeyPoint 0x7f6b2670a780>, <KeyPoint 0x7f6b26735030>, <KeyPoint 0x7f6b2670ab10>, <KeyPoint 0x7f6b2670ad80>, <KeyPoint 0x7f6b2670a2d0>, <KeyPoint 0x7f6b26748ab0>, <KeyPoint 0x7f6b2670a210>, <KeyPoint 0x7f6b26739600>, <KeyPoint 0x7f6b2670a7b0>, <KeyPoint 0x7f6b2670a900>, <KeyPoint 0x7f6b267351e0>, <KeyPoint 0x7f6b2670ac60>, <KeyPoint 0x7f6b26748f90>, <KeyPoint 0x7f6b2673f390>, <KeyPoint 0x7f6b26739ba0>, <KeyPoint 0x7f6b26739780>, <KeyPoint 0x7f6b26748db0>, <KeyPoint 0x7f6b2670a060>, <KeyPoint 0x7f6b26728a50>, <KeyPoint 0x7f6b2673fc60>, <KeyPoint 0x7f6b2670a810>, <KeyPoint 0x7f6b267324e0>, <KeyPoint 0x7f6b2670acf0>, <KeyPoint 0x7f6b267352d0>, <KeyPoint 0x7f6b26748c00>, <KeyPoint 0x7f6b2673fcc0>, <KeyPoint 0x7f6b2673fd50>, <KeyPoint 0x7f6b2673fea0>, <KeyPoint 0x7f6b26735690>, <KeyPoint 0x7f6b2673f870>, <KeyPoint 0x7f6b2673fb40>, <KeyPoint 0x7f6b26739330>, <KeyPoint 0x7f6b26732870>, <KeyPoint 0x7f6b26748660>, <KeyPoint 0x7f6b26739db0>, <KeyPoint 0x7f6b26735e40>, <KeyPoint 0x7f6b26735600>, <KeyPoint 0x7f6b2670a750>, <KeyPoint 0x7f6b26739060>, <KeyPoint 0x7f6b2670aae0>, <KeyPoint 0x7f6b26748840>, <KeyPoint 0x7f6b267488a0>, <KeyPoint 0x7f6b26735ba0>, <KeyPoint 0x7f6b26735a50>, <KeyPoint 0x7f6b26735b70>, <KeyPoint 0x7f6b2673fc00>, <KeyPoint 0x7f6b2673f360>, <KeyPoint 0x7f6b2673f6c0>, <KeyPoint 0x7f6b2673fc90>, <KeyPoint 0x7f6b267350f0>, <KeyPoint 0x7f6b26739420>, <KeyPoint 0x7f6b26739450>, <KeyPoint 0x7f6b2673f8d0>, <KeyPoint 0x7f6b2673ffc0>, <KeyPoint 0x7f6b26739990>, <KeyPoint 0x7f6b26732f90>, <KeyPoint 0x7f6b26748780>, <KeyPoint 0x7f6b267489c0>, <KeyPoint 0x7f6b26739810>, <KeyPoint 0x7f6b2670a990>, <KeyPoint 0x7f6b267356c0>, <KeyPoint 0x7f6b26735180>, <KeyPoint 0x7f6b26739930>, <KeyPoint 0x7f6b26739a20>, <KeyPoint 0x7f6b26732c30>, <KeyPoint 0x7f6b26735060>, <KeyPoint 0x7f6b26728ed0>, <KeyPoint 0x7f6b267393f0>, <KeyPoint 0x7f6b26739900>, <KeyPoint 0x7f6b267391b0>, <KeyPoint 0x7f6b2670ab70>, <KeyPoint 0x7f6b26732e10>, <KeyPoint 0x7f6b2670abd0>, <KeyPoint 0x7f6b26735de0>, <KeyPoint 0x7f6b267481b0>, <KeyPoint 0x7f6b267326f0>, <KeyPoint 0x7f6b26732720>, <KeyPoint 0x7f6b267394b0>, <KeyPoint 0x7f6b2673f120>, <KeyPoint 0x7f6b26732d50>, <KeyPoint 0x7f6b26735660>, <KeyPoint 0x7f6b26735960>, <KeyPoint 0x7f6b2670a360>, <KeyPoint 0x7f6b2670a480>, <KeyPoint 0x7f6b2670a5a0>, <KeyPoint 0x7f6b26748240>, <KeyPoint 0x7f6b26732180>, <KeyPoint 0x7f6b2673f270>, <KeyPoint 0x7f6b267489f0>, <KeyPoint 0x7f6b26748a50>, <KeyPoint 0x7f6b26735c30>, <KeyPoint 0x7f6b26735c90>, <KeyPoint 0x7f6b267288a0>, <KeyPoint 0x7f6b26748540>, <KeyPoint 0x7f6b26735570>, <KeyPoint 0x7f6b26732390>, <KeyPoint 0x7f6b26739090>, <KeyPoint 0x7f6b267488d0>, <KeyPoint 0x7f6b2670a0f0>, <KeyPoint 0x7f6b2673f600>, <KeyPoint 0x7f6b2670a270>, <KeyPoint 0x7f6b26732150>, <KeyPoint 0x7f6b26732690>, <KeyPoint 0x7f6b26739b10>, <KeyPoint 0x7f6b2670a1b0>, <KeyPoint 0x7f6b267353c0>, <KeyPoint 0x7f6b267359c0>, <KeyPoint 0x7f6b2673f0f0>, <KeyPoint 0x7f6b2670a630>, <KeyPoint 0x7f6b26732480>, <KeyPoint 0x7f6b26735720>, <KeyPoint 0x7f6b26724120>, <KeyPoint 0x7f6b267485d0>, <KeyPoint 0x7f6b2670aea0>, <KeyPoint 0x7f6b26735810>, <KeyPoint 0x7f6b26732840>, <KeyPoint 0x7f6b26748930>, <KeyPoint 0x7f6b2673f540>, <KeyPoint 0x7f6b26732090>, <KeyPoint 0x7f6b26732330>, <KeyPoint 0x7f6b26732960>, <KeyPoint 0x7f6b26748ba0>, <KeyPoint 0x7f6b26748c30>, <KeyPoint 0x7f6b26724060>, <KeyPoint 0x7f6b2673f960>, <KeyPoint 0x7f6b267484b0>, <KeyPoint 0x7f6b26735150>, <KeyPoint 0x7f6b26732810>, <KeyPoint 0x7f6b26748f30>, <KeyPoint 0x7f6b267393c0>, <KeyPoint 0x7f6b26735750>, <KeyPoint 0x7f6b2670a7e0>, <KeyPoint 0x7f6b2673f0c0>, <KeyPoint 0x7f6b2673f060>, <KeyPoint 0x7f6b26732990>, <KeyPoint 0x7f6b26739390>, <KeyPoint 0x7f6b26735360>, <KeyPoint 0x7f6b2670a690>, <KeyPoint 0x7f6b267395d0>, <KeyPoint 0x7f6b26739ab0>, <KeyPoint 0x7f6b2670a8d0>, <KeyPoint 0x7f6b26739f30>, <KeyPoint 0x7f6b2670ae40>, <KeyPoint 0x7f6b26739240>, <KeyPoint 0x7f6b26748a80>, <KeyPoint 0x7f6b2672a6f0>, <KeyPoint 0x7f6b2673f630>, <KeyPoint 0x7f6b2670a4b0>, <KeyPoint 0x7f6b2673f090>, <KeyPoint 0x7f6b2673f1b0>, <KeyPoint 0x7f6b267327b0>, <KeyPoint 0x7f6b267396f0>, <KeyPoint 0x7f6b26735ea0>, <KeyPoint 0x7f6b2670ac90>, <KeyPoint 0x7f6b2672a750>, <KeyPoint 0x7f6b26739690>, <KeyPoint 0x7f6b2670a930>, <KeyPoint 0x7f6b2670a960>, <KeyPoint 0x7f6b2673fba0>, <KeyPoint 0x7f6b26739fc0>, <KeyPoint 0x7f6b26735900>, <KeyPoint 0x7f6b26732b70>, <KeyPoint 0x7f6b267354b0>, <KeyPoint 0x7f6b26735630>, <KeyPoint 0x7f6b26739270>, <KeyPoint 0x7f6b2670a840>, <KeyPoint 0x7f6b267481e0>, <KeyPoint 0x7f6b2670ade0>, <KeyPoint 0x7f6b2670acc0>, <KeyPoint 0x7f6b26735840>, <KeyPoint 0x7f6b26748270>, <KeyPoint 0x7f6b26732c60>, <KeyPoint 0x7f6b26748de0>, <KeyPoint 0x7f6b26739840>, <KeyPoint 0x7f6b2673f4e0>, <KeyPoint 0x7f6b267485a0>, <KeyPoint 0x7f6b26748d20>, <KeyPoint 0x7f6b267326c0>, <KeyPoint 0x7f6b26748030>, <KeyPoint 0x7f6b26748120>, <KeyPoint 0x7f6b2670a8a0>, <KeyPoint 0x7f6b2670ae10>, <KeyPoint 0x7f6b26739c00>, <KeyPoint 0x7f6b267483f0>, <KeyPoint 0x7f6b26748e10>, <KeyPoint 0x7f6b267355a0>, <KeyPoint 0x7f6b2673f2d0>, <KeyPoint 0x7f6b2670a5d0>, <KeyPoint 0x7f6b2670ae70>, <KeyPoint 0x7f6b267e0480>, <KeyPoint 0x7f6b26732750>, <KeyPoint 0x7f6b267329f0>, <KeyPoint 0x7f6b26735a80>, <KeyPoint 0x7f6b26732f00>, <KeyPoint 0x7f6b26748f60>, <KeyPoint 0x7f6b2670a240>, <KeyPoint 0x7f6b267328a0>, <KeyPoint 0x7f6b267480f0>, <KeyPoint 0x7f6b26732780>, <KeyPoint 0x7f6b26732a20>, <KeyPoint 0x7f6b26732c90>, <KeyPoint 0x7f6b26748420>, <KeyPoint 0x7f6b26739e70>, <KeyPoint 0x7f6b2673f300>, <KeyPoint 0x7f6b2673f930>, <KeyPoint 0x7f6b26748600>, <KeyPoint 0x7f6b26732060>, <KeyPoint 0x7f6b2670aed0>, <KeyPoint 0x7f6b26732030>, <KeyPoint 0x7f6b26735f30>, <KeyPoint 0x7f6b26748390>, <KeyPoint 0x7f6b2673f5d0>, <KeyPoint 0x7f6b2670a9f0>, <KeyPoint 0x7f6b267328d0>, <KeyPoint 0x7f6b26739540>, <KeyPoint 0x7f6b267482d0>, <KeyPoint 0x7f6b26732ed0>, <KeyPoint 0x7f6b26732d80>, <KeyPoint 0x7f6b26732b10>, <KeyPoint 0x7f6b26735510>, <KeyPoint 0x7f6b26732ba0>, <KeyPoint 0x7f6b26748090>, <KeyPoint 0x7f6b26748210>, <KeyPoint 0x7f6b2670ac00>, <KeyPoint 0x7f6b2670ad50>, <KeyPoint 0x7f6b26735210>, <KeyPoint 0x7f6b267353f0>, <KeyPoint 0x7f6b2673fd80>, <KeyPoint 0x7f6b2673fed0>, <KeyPoint 0x7f6b2670a540>, <KeyPoint 0x7f6b267323c0>, <KeyPoint 0x7f6b267355d0>, <KeyPoint 0x7f6b2670a390>, <KeyPoint 0x7f6b2670a4e0>, <KeyPoint 0x7f6b2673f4b0>, <KeyPoint 0x7f6b26732bd0>, <KeyPoint 0x7f6b26748ea0>, <KeyPoint 0x7f6b2670a2a0>, <KeyPoint 0x7f6b26732450>, <KeyPoint 0x7f6b2673f5a0>, <KeyPoint 0x7f6b26748b10>, <KeyPoint 0x7f6b26748fc0>, <KeyPoint 0x7f6b2670a180>, <KeyPoint 0x7f6b2670a330>, <KeyPoint 0x7f6b26748360>, <KeyPoint 0x7f6b26728750>, <KeyPoint 0x7f6b267327e0>, <KeyPoint 0x7f6b26748c90>, <KeyPoint 0x7f6b2673f9c0>, <KeyPoint 0x7f6b267487e0>, <KeyPoint 0x7f6b26748b40>, <KeyPoint 0x7f6b267396c0>, <KeyPoint 0x7f6b267397b0>, <KeyPoint 0x7f6b26739630>, <KeyPoint 0x7f6b267329c0>, <KeyPoint 0x7f6b267350c0>, <KeyPoint 0x7f6b2673f8a0>, <KeyPoint 0x7f6b2673fab0>, <KeyPoint 0x7f6b267322a0>, <KeyPoint 0x7f6b26739030>, <KeyPoint 0x7f6b26739120>, <KeyPoint 0x7f6b26748960>, <KeyPoint 0x7f6b267321e0>, <KeyPoint 0x7f6b267323f0>, <KeyPoint 0x7f6b2673fe70>, <KeyPoint 0x7f6b26739360>, <KeyPoint 0x7f6b2670a9c0>, <KeyPoint 0x7f6b26735120>, <KeyPoint 0x7f6b26735d80>, <KeyPoint 0x7f6b26735930>, <KeyPoint 0x7f6b26735f00>, <KeyPoint 0x7f6b26735c60>, <KeyPoint 0x7f6b26735d50>, <KeyPoint 0x7f6b26735ed0>, <KeyPoint 0x7f6b26732ea0>, <KeyPoint 0x7f6b2673fbd0>, <KeyPoint 0x7f6b26735090>, <KeyPoint 0x7f6b26735480>, <KeyPoint 0x7f6b267397e0>, <KeyPoint 0x7f6b26739f00>, <KeyPoint 0x7f6b267324b0>, <KeyPoint 0x7f6b26732e40>, <KeyPoint 0x7f6b26739570>, <KeyPoint 0x7f6b26748060>, <KeyPoint 0x7f6b2670af90>, <KeyPoint 0x7f6b267399c0>, <KeyPoint 0x7f6b2670a570>, <KeyPoint 0x7f6b2670af60>, <KeyPoint 0x7f6b267392a0>, <KeyPoint 0x7f6b2670aa80>, <KeyPoint 0x7f6b267320f0>, <KeyPoint 0x7f6b26732900>, <KeyPoint 0x7f6b2673f480>, <KeyPoint 0x7f6b26732300>, <KeyPoint 0x7f6b26739210>, <KeyPoint 0x7f6b26732930>, <KeyPoint 0x7f6b26732ae0>, <KeyPoint 0x7f6b2673f690>, <KeyPoint 0x7f6b2670a6c0>, <KeyPoint 0x7f6b267482a0>, <KeyPoint 0x7f6b26748330>, <KeyPoint 0x7f6b26739ea0>, <KeyPoint 0x7f6b26735270>, <KeyPoint 0x7f6b26739bd0>, <KeyPoint 0x7f6b2670afc0>, <KeyPoint 0x7f6b26739300>, <KeyPoint 0x7f6b26748750>, <KeyPoint 0x7f6b2670af00>, <KeyPoint 0x7f6b26739e40>, <KeyPoint 0x7f6b26748bd0>, <KeyPoint 0x7f6b267483c0>, <KeyPoint 0x7f6b267395a0>, <KeyPoint 0x7f6b2670a6f0>, <KeyPoint 0x7f6b26732600>, <KeyPoint 0x7f6b26732660>]\n",
            "GENERATING DESCRIPTORS...\n",
            "OK!\n",
            "DONE! RETURNING KEYPOINTS AND DESCRIPTORS... (PLEASE WAIT)\n",
            "[0.07451866, 0.06765858, 0.06495283, 0.061240766, 0.05900107, 0.057625063, 0.058101043, 0.054673087, 0.049017306, 0.04991157]\n",
            "0.07451866\n",
            "OK!\n",
            "Computing Test Image 3 ...\n",
            "GENERATING BASE IMAGE...\n",
            "OK!\n",
            "COMPUTING OCTAVES...\n",
            "OK!\n",
            "GENERATING KERNELS...\n",
            "OK!\n",
            "GENERATING GAUSSIAN IMAGES...\n",
            "OK!\n",
            "GENERATING DIFFERENCE OF GAUSSIAN IMAGES...\n",
            "OK!\n",
            "ATTEMPTING TO FIND SCALE-SPACE EXTREMA... (PLEASE WAIT)\n",
            "OK!\n",
            "REMOVING DUPLICATE KEYPOINTS...\n",
            "OK!\n",
            "CONVERTING KEYPOINTS TO INPUT IMAGE SIZE...\n",
            "OK!\n",
            "[<KeyPoint 0x7f6b26724150>, <KeyPoint 0x7f6b2673ca80>, <KeyPoint 0x7f6b267244b0>, <KeyPoint 0x7f6b267244e0>, <KeyPoint 0x7f6b267442d0>, <KeyPoint 0x7f6b26744750>, <KeyPoint 0x7f6b267213c0>, <KeyPoint 0x7f6b26733f90>, <KeyPoint 0x7f6b267211b0>, <KeyPoint 0x7f6b26721240>, <KeyPoint 0x7f6b26733d20>, <KeyPoint 0x7f6b26733b70>, <KeyPoint 0x7f6b26733ba0>, <KeyPoint 0x7f6b26721990>, <KeyPoint 0x7f6b26733900>, <KeyPoint 0x7f6b26714840>, <KeyPoint 0x7f6b267337e0>, <KeyPoint 0x7f6b26733660>, <KeyPoint 0x7f6b26721360>, <KeyPoint 0x7f6b267241e0>, <KeyPoint 0x7f6b26726ea0>, <KeyPoint 0x7f6b26726cf0>, <KeyPoint 0x7f6b267146c0>, <KeyPoint 0x7f6b26726300>, <KeyPoint 0x7f6b26726360>, <KeyPoint 0x7f6b26714900>, <KeyPoint 0x7f6b26724cf0>, <KeyPoint 0x7f6b26721480>, <KeyPoint 0x7f6b26726d50>, <KeyPoint 0x7f6b26733750>, <KeyPoint 0x7f6b26744ba0>, <KeyPoint 0x7f6b267334b0>, <KeyPoint 0x7f6b267264e0>, <KeyPoint 0x7f6b26727510>, <KeyPoint 0x7f6b267275a0>, <KeyPoint 0x7f6b26724d20>, <KeyPoint 0x7f6b267249c0>, <KeyPoint 0x7f6b26726060>, <KeyPoint 0x7f6b26726030>, <KeyPoint 0x7f6b267262d0>, <KeyPoint 0x7f6b267261e0>, <KeyPoint 0x7f6b26726f30>, <KeyPoint 0x7f6b267446c0>, <KeyPoint 0x7f6b267446f0>, <KeyPoint 0x7f6b26724a20>, <KeyPoint 0x7f6b26721ba0>, <KeyPoint 0x7f6b26721cc0>, <KeyPoint 0x7f6b267246f0>, <KeyPoint 0x7f6b26727480>, <KeyPoint 0x7f6b267276f0>, <KeyPoint 0x7f6b267144e0>, <KeyPoint 0x7f6b26733a50>, <KeyPoint 0x7f6b26744a20>, <KeyPoint 0x7f6b267271e0>, <KeyPoint 0x7f6b26726d80>, <KeyPoint 0x7f6b26724600>, <KeyPoint 0x7f6b26714990>, <KeyPoint 0x7f6b26726270>, <KeyPoint 0x7f6b26724540>, <KeyPoint 0x7f6b26724ba0>, <KeyPoint 0x7f6b26726540>, <KeyPoint 0x7f6b26726a50>, <KeyPoint 0x7f6b26714780>, <KeyPoint 0x7f6b26714960>, <KeyPoint 0x7f6b26724870>, <KeyPoint 0x7f6b26724bd0>, <KeyPoint 0x7f6b26714e10>, <KeyPoint 0x7f6b26724ab0>, <KeyPoint 0x7f6b26744720>, <KeyPoint 0x7f6b26744810>, <KeyPoint 0x7f6b26726ab0>, <KeyPoint 0x7f6b26726ed0>, <KeyPoint 0x7f6b26744540>, <KeyPoint 0x7f6b26726d20>, <KeyPoint 0x7f6b267247b0>, <KeyPoint 0x7f6b26726de0>, <KeyPoint 0x7f6b267443f0>, <KeyPoint 0x7f6b26714600>, <KeyPoint 0x7f6b267146f0>, <KeyPoint 0x7f6b26714330>, <KeyPoint 0x7f6b267441b0>, <KeyPoint 0x7f6b26726720>, <KeyPoint 0x7f6b26721120>, <KeyPoint 0x7f6b26726420>, <KeyPoint 0x7f6b267260f0>, <KeyPoint 0x7f6b26724a80>, <KeyPoint 0x7f6b267215d0>, <KeyPoint 0x7f6b26724d80>, <KeyPoint 0x7f6b267441e0>, <KeyPoint 0x7f6b267445d0>, <KeyPoint 0x7f6b26744780>, <KeyPoint 0x7f6b26714cc0>, <KeyPoint 0x7f6b267249f0>, <KeyPoint 0x7f6b26744330>, <KeyPoint 0x7f6b26714ea0>, <KeyPoint 0x7f6b26714720>, <KeyPoint 0x7f6b267247e0>, <KeyPoint 0x7f6b26744960>, <KeyPoint 0x7f6b26724b70>, <KeyPoint 0x7f6b26724a50>, <KeyPoint 0x7f6b26724720>, <KeyPoint 0x7f6b26727210>, <KeyPoint 0x7f6b26726240>, <KeyPoint 0x7f6b267270c0>, <KeyPoint 0x7f6b26726090>, <KeyPoint 0x7f6b267263c0>, <KeyPoint 0x7f6b26721e70>, <KeyPoint 0x7f6b26714c00>, <KeyPoint 0x7f6b26714660>, <KeyPoint 0x7f6b26721630>, <KeyPoint 0x7f6b26721930>, <KeyPoint 0x7f6b26721c30>, <KeyPoint 0x7f6b26714b70>, <KeyPoint 0x7f6b26726810>, <KeyPoint 0x7f6b26726e40>, <KeyPoint 0x7f6b267277e0>, <KeyPoint 0x7f6b267440f0>, <KeyPoint 0x7f6b26744930>, <KeyPoint 0x7f6b26724630>, <KeyPoint 0x7f6b26724690>, <KeyPoint 0x7f6b267212a0>, <KeyPoint 0x7f6b2673fd20>, <KeyPoint 0x7f6b26721270>, <KeyPoint 0x7f6b26721900>, <KeyPoint 0x7f6b26714cf0>, <KeyPoint 0x7f6b26733510>, <KeyPoint 0x7f6b26733780>, <KeyPoint 0x7f6b26721cf0>, <KeyPoint 0x7f6b26721d80>, <KeyPoint 0x7f6b267214b0>, <KeyPoint 0x7f6b267335d0>, <KeyPoint 0x7f6b26726b70>, <KeyPoint 0x7f6b267148d0>, <KeyPoint 0x7f6b26714090>, <KeyPoint 0x7f6b267143c0>, <KeyPoint 0x7f6b26726990>, <KeyPoint 0x7f6b26733720>, <KeyPoint 0x7f6b26726fc0>, <KeyPoint 0x7f6b26727390>, <KeyPoint 0x7f6b26727630>, <KeyPoint 0x7f6b26733180>, <KeyPoint 0x7f6b26733540>, <KeyPoint 0x7f6b26726a20>, <KeyPoint 0x7f6b26733990>, <KeyPoint 0x7f6b26724900>, <KeyPoint 0x7f6b267213f0>, <KeyPoint 0x7f6b26721180>, <KeyPoint 0x7f6b26726ae0>, <KeyPoint 0x7f6b26744f90>, <KeyPoint 0x7f6b26744c90>, <KeyPoint 0x7f6b26714ae0>, <KeyPoint 0x7f6b26721d20>, <KeyPoint 0x7f6b26721840>, <KeyPoint 0x7f6b26724c60>, <KeyPoint 0x7f6b26721600>, <KeyPoint 0x7f6b26733150>, <KeyPoint 0x7f6b26721570>, <KeyPoint 0x7f6b26721810>, <KeyPoint 0x7f6b26721a80>, <KeyPoint 0x7f6b26724e40>, <KeyPoint 0x7f6b267273c0>, <KeyPoint 0x7f6b26714bd0>, <KeyPoint 0x7f6b26714450>, <KeyPoint 0x7f6b26744900>, <KeyPoint 0x7f6b26744f60>, <KeyPoint 0x7f6b267216c0>, <KeyPoint 0x7f6b267147e0>, <KeyPoint 0x7f6b267443c0>, <KeyPoint 0x7f6b26744150>, <KeyPoint 0x7f6b26744210>, <KeyPoint 0x7f6b26721660>, <KeyPoint 0x7f6b26726660>, <KeyPoint 0x7f6b26726180>, <KeyPoint 0x7f6b26714b10>, <KeyPoint 0x7f6b26744de0>, <KeyPoint 0x7f6b26744e70>, <KeyPoint 0x7f6b26726900>, <KeyPoint 0x7f6b26744a50>, <KeyPoint 0x7f6b26727720>, <KeyPoint 0x7f6b267261b0>, <KeyPoint 0x7f6b267273f0>, <KeyPoint 0x7f6b26724ed0>, <KeyPoint 0x7f6b267336f0>, <KeyPoint 0x7f6b26714150>, <KeyPoint 0x7f6b267260c0>, <KeyPoint 0x7f6b26733ed0>, <KeyPoint 0x7f6b267266c0>, <KeyPoint 0x7f6b26733de0>, <KeyPoint 0x7f6b267217e0>, <KeyPoint 0x7f6b267272a0>, <KeyPoint 0x7f6b26727360>, <KeyPoint 0x7f6b26733db0>, <KeyPoint 0x7f6b26721a50>, <KeyPoint 0x7f6b267140f0>, <KeyPoint 0x7f6b26726390>, <KeyPoint 0x7f6b26714c30>, <KeyPoint 0x7f6b26733450>, <KeyPoint 0x7f6b26733870>, <KeyPoint 0x7f6b26721ed0>, <KeyPoint 0x7f6b26733630>, <KeyPoint 0x7f6b267339f0>, <KeyPoint 0x7f6b26727570>, <KeyPoint 0x7f6b26733840>, <KeyPoint 0x7f6b26733c00>, <KeyPoint 0x7f6b267271b0>, <KeyPoint 0x7f6b26727300>, <KeyPoint 0x7f6b267338d0>, <KeyPoint 0x7f6b267440c0>, <KeyPoint 0x7f6b26744630>, <KeyPoint 0x7f6b26727090>, <KeyPoint 0x7f6b267274e0>, <KeyPoint 0x7f6b26726870>, <KeyPoint 0x7f6b267449f0>, <KeyPoint 0x7f6b26724750>, <KeyPoint 0x7f6b26714750>, <KeyPoint 0x7f6b26714de0>, <KeyPoint 0x7f6b267445a0>, <KeyPoint 0x7f6b26744690>, <KeyPoint 0x7f6b267264b0>, <KeyPoint 0x7f6b26726510>, <KeyPoint 0x7f6b26744570>, <KeyPoint 0x7f6b267444e0>, <KeyPoint 0x7f6b267143f0>, <KeyPoint 0x7f6b26714f00>, <KeyPoint 0x7f6b267214e0>, <KeyPoint 0x7f6b26724c90>, <KeyPoint 0x7f6b26721a20>, <KeyPoint 0x7f6b267246c0>, <KeyPoint 0x7f6b26724f30>, <KeyPoint 0x7f6b26726e70>, <KeyPoint 0x7f6b26727060>, <KeyPoint 0x7f6b26726f90>, <KeyPoint 0x7f6b26733090>, <KeyPoint 0x7f6b26724570>, <KeyPoint 0x7f6b267248a0>, <KeyPoint 0x7f6b26733390>, <KeyPoint 0x7f6b26714510>, <KeyPoint 0x7f6b267149f0>, <KeyPoint 0x7f6b26721510>, <KeyPoint 0x7f6b267334e0>, <KeyPoint 0x7f6b26721b10>, <KeyPoint 0x7f6b267263f0>, <KeyPoint 0x7f6b26721780>, <KeyPoint 0x7f6b26724f60>, <KeyPoint 0x7f6b26714360>, <KeyPoint 0x7f6b26726840>, <KeyPoint 0x7f6b267262a0>, <KeyPoint 0x7f6b26726690>, <KeyPoint 0x7f6b26733600>, <KeyPoint 0x7f6b26733690>, <KeyPoint 0x7f6b26724810>, <KeyPoint 0x7f6b267215a0>, <KeyPoint 0x7f6b26714420>, <KeyPoint 0x7f6b26726780>, <KeyPoint 0x7f6b26726b40>, <KeyPoint 0x7f6b26726570>, <KeyPoint 0x7f6b26726cc0>, <KeyPoint 0x7f6b26744ae0>, <KeyPoint 0x7f6b267332a0>, <KeyPoint 0x7f6b26724c00>, <KeyPoint 0x7f6b26714630>, <KeyPoint 0x7f6b26726120>, <KeyPoint 0x7f6b26733570>, <KeyPoint 0x7f6b26724270>, <KeyPoint 0x7f6b26721b40>, <KeyPoint 0x7f6b26727540>, <KeyPoint 0x7f6b26714f60>, <KeyPoint 0x7f6b26721c90>, <KeyPoint 0x7f6b267147b0>, <KeyPoint 0x7f6b26724b10>, <KeyPoint 0x7f6b26724930>, <KeyPoint 0x7f6b26727810>, <KeyPoint 0x7f6b26724ea0>, <KeyPoint 0x7f6b26714210>, <KeyPoint 0x7f6b26744e10>, <KeyPoint 0x7f6b26744660>, <KeyPoint 0x7f6b26744a80>, <KeyPoint 0x7f6b26726150>, <KeyPoint 0x7f6b26714c60>, <KeyPoint 0x7f6b26726f60>, <KeyPoint 0x7f6b26726960>, <KeyPoint 0x7f6b267269c0>, <KeyPoint 0x7f6b26721210>, <KeyPoint 0x7f6b26726c00>, <KeyPoint 0x7f6b26726c90>, <KeyPoint 0x7f6b26721090>, <KeyPoint 0x7f6b267210f0>, <KeyPoint 0x7f6b26721060>, <KeyPoint 0x7f6b26727450>, <KeyPoint 0x7f6b26721720>, <KeyPoint 0x7f6b26744b40>, <KeyPoint 0x7f6b26744fc0>, <KeyPoint 0x7f6b26726b10>, <KeyPoint 0x7f6b26721ae0>, <KeyPoint 0x7f6b26724c30>, <KeyPoint 0x7f6b26733270>, <KeyPoint 0x7f6b267245a0>, <KeyPoint 0x7f6b26724840>, <KeyPoint 0x7f6b26721de0>, <KeyPoint 0x7f6b26721f60>, <KeyPoint 0x7f6b26714f30>, <KeyPoint 0x7f6b26744870>, <KeyPoint 0x7f6b26744f30>, <KeyPoint 0x7f6b26744390>, <KeyPoint 0x7f6b26724d50>, <KeyPoint 0x7f6b26714a80>, <KeyPoint 0x7f6b267219f0>, <KeyPoint 0x7f6b26721690>, <KeyPoint 0x7f6b26714d50>, <KeyPoint 0x7f6b26744cc0>, <KeyPoint 0x7f6b26721f90>, <KeyPoint 0x7f6b26733cf0>, <KeyPoint 0x7f6b26733ea0>, <KeyPoint 0x7f6b26733930>, <KeyPoint 0x7f6b26721fc0>, <KeyPoint 0x7f6b267149c0>, <KeyPoint 0x7f6b26744510>, <KeyPoint 0x7f6b26727420>, <KeyPoint 0x7f6b267218a0>, <KeyPoint 0x7f6b26727780>, <KeyPoint 0x7f6b26733420>, <KeyPoint 0x7f6b26724f00>, <KeyPoint 0x7f6b26733f00>, <KeyPoint 0x7f6b26733360>, <KeyPoint 0x7f6b26721960>, <KeyPoint 0x7f6b26714e70>, <KeyPoint 0x7f6b26714270>, <KeyPoint 0x7f6b267142d0>, <KeyPoint 0x7f6b26726c60>, <KeyPoint 0x7f6b267217b0>, <KeyPoint 0x7f6b26714120>, <KeyPoint 0x7f6b267219c0>, <KeyPoint 0x7f6b26724ae0>, <KeyPoint 0x7f6b26733f30>, <KeyPoint 0x7f6b267248d0>, <KeyPoint 0x7f6b26724960>, <KeyPoint 0x7f6b26714a50>, <KeyPoint 0x7f6b267270f0>, <KeyPoint 0x7f6b267267b0>, <KeyPoint 0x7f6b26714fc0>, <KeyPoint 0x7f6b267145a0>, <KeyPoint 0x7f6b267266f0>, <KeyPoint 0x7f6b26733fc0>, <KeyPoint 0x7f6b26733e10>, <KeyPoint 0x7f6b26721d50>, <KeyPoint 0x7f6b26744e40>, <KeyPoint 0x7f6b26726480>, <KeyPoint 0x7f6b26726750>, <KeyPoint 0x7f6b267335a0>, <KeyPoint 0x7f6b26724360>, <KeyPoint 0x7f6b26744d20>, <KeyPoint 0x7f6b26721e10>, <KeyPoint 0x7f6b26727030>, <KeyPoint 0x7f6b26727180>, <KeyPoint 0x7f6b267330f0>, <KeyPoint 0x7f6b26721150>, <KeyPoint 0x7f6b26721540>, <KeyPoint 0x7f6b26727750>, <KeyPoint 0x7f6b26727660>, <KeyPoint 0x7f6b26724210>, <KeyPoint 0x7f6b26724420>, <KeyPoint 0x7f6b26744600>, <KeyPoint 0x7f6b26744b10>, <KeyPoint 0x7f6b26744d80>, <KeyPoint 0x7f6b26744ea0>, <KeyPoint 0x7f6b26744d50>, <KeyPoint 0x7f6b26744ed0>, <KeyPoint 0x7f6b26744360>, <KeyPoint 0x7f6b26714db0>, <KeyPoint 0x7f6b26724390>, <KeyPoint 0x7f6b26724090>, <KeyPoint 0x7f6b26726330>, <KeyPoint 0x7f6b267265a0>, <KeyPoint 0x7f6b26733d50>, <KeyPoint 0x7f6b26724db0>, <KeyPoint 0x7f6b26748b70>, <KeyPoint 0x7f6b26733e40>, <KeyPoint 0x7f6b267269f0>, <KeyPoint 0x7f6b26744990>, <KeyPoint 0x7f6b26733480>, <KeyPoint 0x7f6b267142a0>, <KeyPoint 0x7f6b26727270>, <KeyPoint 0x7f6b267243f0>, <KeyPoint 0x7f6b267447b0>, <KeyPoint 0x7f6b267141b0>, <KeyPoint 0x7f6b267277b0>, <KeyPoint 0x7f6b26733330>, <KeyPoint 0x7f6b26714810>, <KeyPoint 0x7f6b26744420>, <KeyPoint 0x7f6b267330c0>, <KeyPoint 0x7f6b26733300>, <KeyPoint 0x7f6b26724330>, <KeyPoint 0x7f6b26724660>, <KeyPoint 0x7f6b26724510>, <KeyPoint 0x7f6b26714180>, <KeyPoint 0x7f6b26714870>, <KeyPoint 0x7f6b26733210>, <KeyPoint 0x7f6b267332d0>, <KeyPoint 0x7f6b267218d0>, <KeyPoint 0x7f6b267148a0>, <KeyPoint 0x7f6b26721870>, <KeyPoint 0x7f6b26714690>, <KeyPoint 0x7f6b26726f00>, <KeyPoint 0x7f6b26714d20>, <KeyPoint 0x7f6b26726db0>, <KeyPoint 0x7f6b26733120>, <KeyPoint 0x7f6b26733810>, <KeyPoint 0x7f6b26724cc0>, <KeyPoint 0x7f6b26714060>, <KeyPoint 0x7f6b267141e0>, <KeyPoint 0x7f6b26724450>, <KeyPoint 0x7f6b26721300>, <KeyPoint 0x7f6b26724480>, <KeyPoint 0x7f6b26724780>, <KeyPoint 0x7f6b26726e10>, <KeyPoint 0x7f6b267268a0>, <KeyPoint 0x7f6b26733c90>, <KeyPoint 0x7f6b26733b40>, <KeyPoint 0x7f6b26733f60>, <KeyPoint 0x7f6b267276c0>, <KeyPoint 0x7f6b26744450>, <KeyPoint 0x7f6b267274b0>, <KeyPoint 0x7f6b267333f0>, <KeyPoint 0x7f6b267245d0>, <KeyPoint 0x7f6b267216f0>, <KeyPoint 0x7f6b26714570>, <KeyPoint 0x7f6b26714f90>, <KeyPoint 0x7f6b26714ed0>, <KeyPoint 0x7f6b26714b40>, <KeyPoint 0x7f6b26744030>, <KeyPoint 0x7f6b26744120>, <KeyPoint 0x7f6b267331e0>, <KeyPoint 0x7f6b26744480>, <KeyPoint 0x7f6b26733a80>, <KeyPoint 0x7f6b267336c0>, <KeyPoint 0x7f6b26724e70>, <KeyPoint 0x7f6b26714e40>, <KeyPoint 0x7f6b26733960>, <KeyPoint 0x7f6b267337b0>, <KeyPoint 0x7f6b26726c30>, <KeyPoint 0x7f6b26744240>, <KeyPoint 0x7f6b26744270>, <KeyPoint 0x7f6b26727120>, <KeyPoint 0x7f6b26733240>, <KeyPoint 0x7f6b267265d0>, <KeyPoint 0x7f6b267267e0>, <KeyPoint 0x7f6b26733d80>, <KeyPoint 0x7f6b26733e70>, <KeyPoint 0x7f6b267339c0>, <KeyPoint 0x7f6b26721db0>, <KeyPoint 0x7f6b26733b10>, <KeyPoint 0x7f6b26721e40>, <KeyPoint 0x7f6b26714ba0>, <KeyPoint 0x7f6b26721f30>, <KeyPoint 0x7f6b26726930>, <KeyPoint 0x7f6b26721ab0>, <KeyPoint 0x7f6b26733030>, <KeyPoint 0x7f6b26744300>, <KeyPoint 0x7f6b26744c60>, <KeyPoint 0x7f6b26724990>, <KeyPoint 0x7f6b26724f90>, <KeyPoint 0x7f6b26721030>, <KeyPoint 0x7f6b26733bd0>, <KeyPoint 0x7f6b26733c30>, <KeyPoint 0x7f6b26721330>, <KeyPoint 0x7f6b26744060>, <KeyPoint 0x7f6b26724fc0>, <KeyPoint 0x7f6b26724e10>, <KeyPoint 0x7f6b26733a20>, <KeyPoint 0x7f6b26721bd0>, <KeyPoint 0x7f6b26721c60>, <KeyPoint 0x7f6b26714a20>, <KeyPoint 0x7f6b267448a0>, <KeyPoint 0x7f6b26744180>, <KeyPoint 0x7f6b26724b40>, <KeyPoint 0x7f6b267212d0>, <KeyPoint 0x7f6b26744cf0>, <KeyPoint 0x7f6b267268d0>, <KeyPoint 0x7f6b26733cc0>, <KeyPoint 0x7f6b26721ea0>, <KeyPoint 0x7f6b26721b70>, <KeyPoint 0x7f6b26721f00>, <KeyPoint 0x7f6b26714c90>, <KeyPoint 0x7f6b26726ba0>, <KeyPoint 0x7f6b26714540>, <KeyPoint 0x7f6b26744090>, <KeyPoint 0x7f6b267444b0>, <KeyPoint 0x7f6b26727240>, <KeyPoint 0x7f6b26727150>, <KeyPoint 0x7f6b26721420>, <KeyPoint 0x7f6b26744ab0>, <KeyPoint 0x7f6b26744b70>, <KeyPoint 0x7f6b26721390>, <KeyPoint 0x7f6b26744c00>, <KeyPoint 0x7f6b26726210>, <KeyPoint 0x7f6b267211e0>, <KeyPoint 0x7f6b26721750>, <KeyPoint 0x7f6b26733060>, <KeyPoint 0x7f6b26733c60>, <KeyPoint 0x7f6b267338a0>, <KeyPoint 0x7f6b26733ae0>, <KeyPoint 0x7f6b26714ab0>, <KeyPoint 0x7f6b26714d80>, <KeyPoint 0x7f6b267144b0>, <KeyPoint 0x7f6b267331b0>, <KeyPoint 0x7f6b267243c0>, <KeyPoint 0x7f6b26744840>, <KeyPoint 0x7f6b26714030>, <KeyPoint 0x7f6b26714240>, <KeyPoint 0x7f6b267145d0>, <KeyPoint 0x7f6b26733ab0>, <KeyPoint 0x7f6b26748720>, <KeyPoint 0x7f6b267442a0>, <KeyPoint 0x7f6b26744db0>, <KeyPoint 0x7f6b26744f00>, <KeyPoint 0x7f6b26726a80>, <KeyPoint 0x7f6b26726bd0>, <KeyPoint 0x7f6b26714300>, <KeyPoint 0x7f6b26744c30>, <KeyPoint 0x7f6b267448d0>, <KeyPoint 0x7f6b26721450>, <KeyPoint 0x7f6b267333c0>, <KeyPoint 0x7f6b267449c0>, <KeyPoint 0x7f6b26721c00>, <KeyPoint 0x7f6b267210c0>, <KeyPoint 0x7f6b26724de0>, <KeyPoint 0x7f6b2673fa80>, <KeyPoint 0x7f6b26714390>, <KeyPoint 0x7f6b26714480>, <KeyPoint 0x7f6b26744bd0>, <KeyPoint 0x7f6b267447e0>]\n",
            "GENERATING DESCRIPTORS...\n",
            "OK!\n",
            "DONE! RETURNING KEYPOINTS AND DESCRIPTORS... (PLEASE WAIT)\n",
            "[0.07218198, 0.06328975, 0.06435905, 0.06463192, 0.06404776, 0.064562164, 0.06309178, 0.061718296, 0.06333937, 0.062430374]\n",
            "0.07218198\n",
            "OK!\n",
            "Computing Test Image 4 ...\n",
            "GENERATING BASE IMAGE...\n",
            "OK!\n",
            "COMPUTING OCTAVES...\n",
            "OK!\n",
            "GENERATING KERNELS...\n",
            "OK!\n",
            "GENERATING GAUSSIAN IMAGES...\n",
            "OK!\n",
            "GENERATING DIFFERENCE OF GAUSSIAN IMAGES...\n",
            "OK!\n",
            "ATTEMPTING TO FIND SCALE-SPACE EXTREMA... (PLEASE WAIT)\n",
            "OK!\n",
            "REMOVING DUPLICATE KEYPOINTS...\n",
            "OK!\n",
            "CONVERTING KEYPOINTS TO INPUT IMAGE SIZE...\n",
            "OK!\n",
            "[<KeyPoint 0x7f6b1d6e2420>, <KeyPoint 0x7f6b2671aba0>, <KeyPoint 0x7f6b1d6e2330>, <KeyPoint 0x7f6b1d6e23f0>, <KeyPoint 0x7f6b1d6e2120>, <KeyPoint 0x7f6b1d6e24b0>, <KeyPoint 0x7f6b1d6f90f0>, <KeyPoint 0x7f6b1d6e2930>, <KeyPoint 0x7f6b1d6e29c0>, <KeyPoint 0x7f6b1d6f9060>, <KeyPoint 0x7f6b1d6f93f0>, <KeyPoint 0x7f6b1d6e2090>, <KeyPoint 0x7f6b1d6e2300>, <KeyPoint 0x7f6b1d6e25d0>, <KeyPoint 0x7f6b1d6f9630>, <KeyPoint 0x7f6b1d6e2ed0>, <KeyPoint 0x7f6b1d6e2e70>, <KeyPoint 0x7f6b1d6e5210>, <KeyPoint 0x7f6b1d6cc1b0>, <KeyPoint 0x7f6b1d6db330>, <KeyPoint 0x7f6b1d6f99c0>, <KeyPoint 0x7f6b1d6db0c0>, <KeyPoint 0x7f6b1d6f9d80>, <KeyPoint 0x7f6b1d6db060>, <KeyPoint 0x7f6b1d6db2a0>, <KeyPoint 0x7f6b1d6db300>, <KeyPoint 0x7f6b1d6e2720>, <KeyPoint 0x7f6b26727840>, <KeyPoint 0x7f6b26727960>, <KeyPoint 0x7f6b26727ae0>, <KeyPoint 0x7f6b1d6cc930>, <KeyPoint 0x7f6b1d6e2f30>, <KeyPoint 0x7f6b2671a3c0>, <KeyPoint 0x7f6b1d6cc210>, <KeyPoint 0x7f6b1d6e5a80>, <KeyPoint 0x7f6b1d6f9300>, <KeyPoint 0x7f6b1d6db2d0>, <KeyPoint 0x7f6b1d6db4b0>, <KeyPoint 0x7f6b1d6dbae0>, <KeyPoint 0x7f6b1d6cc9f0>, <KeyPoint 0x7f6b2671a0f0>, <KeyPoint 0x7f6b2671a8d0>, <KeyPoint 0x7f6b1d6e5300>, <KeyPoint 0x7f6b1d6cc270>, <KeyPoint 0x7f6b1d6db990>, <KeyPoint 0x7f6b1d6e2030>, <KeyPoint 0x7f6b1d6e2540>, <KeyPoint 0x7f6b1d6f9240>, <KeyPoint 0x7f6b26727bd0>, <KeyPoint 0x7f6b26727c90>, <KeyPoint 0x7f6b26727cc0>, <KeyPoint 0x7f6b1d6cc090>, <KeyPoint 0x7f6b26727600>, <KeyPoint 0x7f6b1d6e2c90>, <KeyPoint 0x7f6b1d6e2660>, <KeyPoint 0x7f6b1d6e2a80>, <KeyPoint 0x7f6b1d6cc0f0>, <KeyPoint 0x7f6b1d6cc960>, <KeyPoint 0x7f6b1d6ccbd0>, <KeyPoint 0x7f6b1d6e52d0>, <KeyPoint 0x7f6b267272d0>, <KeyPoint 0x7f6b267278a0>, <KeyPoint 0x7f6b1d6dbb40>, <KeyPoint 0x7f6b1d6f9450>, <KeyPoint 0x7f6b1d6cc720>, <KeyPoint 0x7f6b1d6dba80>, <KeyPoint 0x7f6b1d6f9ed0>, <KeyPoint 0x7f6b1d6f9f90>, <KeyPoint 0x7f6b1d6cc8a0>, <KeyPoint 0x7f6b1d6e2240>, <KeyPoint 0x7f6b1d6db5a0>, <KeyPoint 0x7f6b1d6f95d0>, <KeyPoint 0x7f6b1d6e2840>, <KeyPoint 0x7f6b1d6e5cf0>, <KeyPoint 0x7f6b1d6db090>, <KeyPoint 0x7f6b1d6f9390>, <KeyPoint 0x7f6b2671a420>, <KeyPoint 0x7f6b26727b10>, <KeyPoint 0x7f6b1d6e2360>, <KeyPoint 0x7f6b1d6e20c0>, <KeyPoint 0x7f6b1d6e5ab0>, <KeyPoint 0x7f6b1d6e5780>, <KeyPoint 0x7f6b1d6e2d80>, <KeyPoint 0x7f6b1d6e2e40>, <KeyPoint 0x7f6b1d6f9840>, <KeyPoint 0x7f6b2671a750>, <KeyPoint 0x7f6b26727690>, <KeyPoint 0x7f6b26727930>, <KeyPoint 0x7f6b1d6dba20>, <KeyPoint 0x7f6b2671ad20>, <KeyPoint 0x7f6b1d6f95a0>, <KeyPoint 0x7f6b1d6f91b0>, <KeyPoint 0x7f6b1d6e5c90>, <KeyPoint 0x7f6b1d6f99f0>, <KeyPoint 0x7f6b1d6e5d50>, <KeyPoint 0x7f6b1d6cc6f0>, <KeyPoint 0x7f6b1d6cc420>, <KeyPoint 0x7f6b1d6cc7b0>, <KeyPoint 0x7f6b1d6e2ab0>, <KeyPoint 0x7f6b1d6e2390>, <KeyPoint 0x7f6b1d6e2c30>, <KeyPoint 0x7f6b1d6e24e0>, <KeyPoint 0x7f6b1d6e5b40>, <KeyPoint 0x7f6b2671af90>, <KeyPoint 0x7f6b1d6cc1e0>, <KeyPoint 0x7f6b1d6f98a0>, <KeyPoint 0x7f6b26727c00>, <KeyPoint 0x7f6b1d6cc630>, <KeyPoint 0x7f6b2671a570>, <KeyPoint 0x7f6b1d6cc540>, <KeyPoint 0x7f6b1d6cc780>, <KeyPoint 0x7f6b1d6f94b0>, <KeyPoint 0x7f6b1d6f9a80>, <KeyPoint 0x7f6b1d6cca80>, <KeyPoint 0x7f6b26727b70>, <KeyPoint 0x7f6b2671ab70>, <KeyPoint 0x7f6b2671a120>, <KeyPoint 0x7f6b1d6db1b0>, <KeyPoint 0x7f6b1d6db7b0>, <KeyPoint 0x7f6b1d6dbed0>, <KeyPoint 0x7f6b1d6e5d80>, <KeyPoint 0x7f6b1d6e5d20>, <KeyPoint 0x7f6b2671adb0>, <KeyPoint 0x7f6b1d6cc3f0>, <KeyPoint 0x7f6b1d6db960>, <KeyPoint 0x7f6b1d6e5330>, <KeyPoint 0x7f6b1d6ccab0>, <KeyPoint 0x7f6b1d6cc4b0>, <KeyPoint 0x7f6b1d6cc0c0>, <KeyPoint 0x7f6b1d6cc6c0>, <KeyPoint 0x7f6b1d6db6c0>, <KeyPoint 0x7f6b1d6f9d20>, <KeyPoint 0x7f6b1d6f92a0>, <KeyPoint 0x7f6b1d6e2ba0>, <KeyPoint 0x7f6b1d6e5e40>, <KeyPoint 0x7f6b1d6e5750>, <KeyPoint 0x7f6b1d6e55d0>, <KeyPoint 0x7f6b1d6db5d0>, <KeyPoint 0x7f6b1d6e5f90>, <KeyPoint 0x7f6b1d6ccb40>, <KeyPoint 0x7f6b2671abd0>, <KeyPoint 0x7f6b2671a8a0>, <KeyPoint 0x7f6b26727a50>, <KeyPoint 0x7f6b2671aae0>, <KeyPoint 0x7f6b1d6ccd50>, <KeyPoint 0x7f6b2671aa80>, <KeyPoint 0x7f6b2671ade0>, <KeyPoint 0x7f6b26727de0>, <KeyPoint 0x7f6b26727d50>, <KeyPoint 0x7f6b26727f30>, <KeyPoint 0x7f6b26727fc0>, <KeyPoint 0x7f6b2671a330>, <KeyPoint 0x7f6b2671a1b0>, <KeyPoint 0x7f6b1d6cc570>, <KeyPoint 0x7f6b1d6db660>, <KeyPoint 0x7f6b2671a240>, <KeyPoint 0x7f6b2671a030>, <KeyPoint 0x7f6b1d6cc600>, <KeyPoint 0x7f6b1d6cc840>, <KeyPoint 0x7f6b1d6cc900>, <KeyPoint 0x7f6b2671aa20>, <KeyPoint 0x7f6b2671a4b0>, <KeyPoint 0x7f6b2671a600>, <KeyPoint 0x7f6b2671a780>, <KeyPoint 0x7f6b2671a060>, <KeyPoint 0x7f6b26727cf0>, <KeyPoint 0x7f6b1d6db9f0>, <KeyPoint 0x7f6b1d6cc9c0>, <KeyPoint 0x7f6b2671a0c0>, <KeyPoint 0x7f6b2671a2d0>, <KeyPoint 0x7f6b1d6cc5d0>, <KeyPoint 0x7f6b1d6cc450>, <KeyPoint 0x7f6b1d6f9870>, <KeyPoint 0x7f6b1d6e2270>, <KeyPoint 0x7f6b1d6e2990>, <KeyPoint 0x7f6b1d6e23c0>, <KeyPoint 0x7f6b2671a840>, <KeyPoint 0x7f6b1d6db8d0>, <KeyPoint 0x7f6b2671aed0>, <KeyPoint 0x7f6b1d6f91e0>, <KeyPoint 0x7f6b1d6f9270>, <KeyPoint 0x7f6b2671acf0>, <KeyPoint 0x7f6b1d6e2750>, <KeyPoint 0x7f6b1d6e2810>, <KeyPoint 0x7f6b1d6e2870>, <KeyPoint 0x7f6b2671ab10>, <KeyPoint 0x7f6b1d6e5b10>, <KeyPoint 0x7f6b1d6dbb70>, <KeyPoint 0x7f6b1d6e2ae0>, <KeyPoint 0x7f6b1d6e5fc0>, <KeyPoint 0x7f6b1d6ccde0>, <KeyPoint 0x7f6b1d6e5660>, <KeyPoint 0x7f6b1d6e2db0>, <KeyPoint 0x7f6b1d6e5420>, <KeyPoint 0x7f6b1d6cce40>, <KeyPoint 0x7f6b1d6dbab0>, <KeyPoint 0x7f6b1d6ccc90>, <KeyPoint 0x7f6b26727e10>, <KeyPoint 0x7f6b2671a1e0>, <KeyPoint 0x7f6b1d6e5600>, <KeyPoint 0x7f6b1d6dbf90>, <KeyPoint 0x7f6b1d6e5450>, <KeyPoint 0x7f6b1d6db750>, <KeyPoint 0x7f6b1d6db690>, <KeyPoint 0x7f6b1d6ccfc0>, <KeyPoint 0x7f6b2671a9c0>, <KeyPoint 0x7f6b1d6db120>, <KeyPoint 0x7f6b1d6cccf0>, <KeyPoint 0x7f6b2671a150>, <KeyPoint 0x7f6b26727f90>, <KeyPoint 0x7f6b2671ad80>, <KeyPoint 0x7f6b1d6e5060>, <KeyPoint 0x7f6b1d6cc390>, <KeyPoint 0x7f6b1d6f92d0>, <KeyPoint 0x7f6b1d6e5ae0>, <KeyPoint 0x7f6b1d6e2ea0>, <KeyPoint 0x7f6b1d6e5270>, <KeyPoint 0x7f6b2671ae70>, <KeyPoint 0x7f6b1d6ccb10>, <KeyPoint 0x7f6b1d6e5c30>, <KeyPoint 0x7f6b1d6e54b0>, <KeyPoint 0x7f6b1d6f9ae0>, <KeyPoint 0x7f6b1d6db030>, <KeyPoint 0x7f6b1d6db180>, <KeyPoint 0x7f6b1d6f9f30>, <KeyPoint 0x7f6b1d6f9e40>, <KeyPoint 0x7f6b1d6f9990>, <KeyPoint 0x7f6b1d6f9e10>, <KeyPoint 0x7f6b1d6db9c0>, <KeyPoint 0x7f6b1d6f9120>, <KeyPoint 0x7f6b1d6f9210>, <KeyPoint 0x7f6b1d6dbfc0>, <KeyPoint 0x7f6b1d6f9b10>, <KeyPoint 0x7f6b1d6f9ea0>, <KeyPoint 0x7f6b1d6e5480>, <KeyPoint 0x7f6b1d6e50c0>, <KeyPoint 0x7f6b1d6e5ba0>, <KeyPoint 0x7f6b1d6e5bd0>, <KeyPoint 0x7f6b1d6cc2a0>, <KeyPoint 0x7f6b1d6eb060>, <KeyPoint 0x7f6b1d6f9930>, <KeyPoint 0x7f6b1d6f9810>, <KeyPoint 0x7f6b1d6f9330>, <KeyPoint 0x7f6b1d6f96f0>, <KeyPoint 0x7f6b1d6cc120>, <KeyPoint 0x7f6b1d6db6f0>, <KeyPoint 0x7f6b1d6e5ed0>, <KeyPoint 0x7f6b1d6cca20>, <KeyPoint 0x7f6b1d6f9db0>, <KeyPoint 0x7f6b1d6ccd20>, <KeyPoint 0x7f6b1d6ccf00>, <KeyPoint 0x7f6b1d6db150>, <KeyPoint 0x7f6b2671ab40>, <KeyPoint 0x7f6b1d6ccc60>, <KeyPoint 0x7f6b1d6ccf90>, <KeyPoint 0x7f6b1d6e5960>, <KeyPoint 0x7f6b1d6cc300>, <KeyPoint 0x7f6b1d6e5c60>, <KeyPoint 0x7f6b26727ba0>, <KeyPoint 0x7f6b267278d0>, <KeyPoint 0x7f6b1d6ccb70>, <KeyPoint 0x7f6b1d6cce70>, <KeyPoint 0x7f6b2671a690>, <KeyPoint 0x7f6b2671a9f0>, <KeyPoint 0x7f6b26727f60>, <KeyPoint 0x7f6b26726600>, <KeyPoint 0x7f6b1d6dbf30>, <KeyPoint 0x7f6b1d6dbd80>, <KeyPoint 0x7f6b2671ac00>, <KeyPoint 0x7f6b2671aa50>, <KeyPoint 0x7f6b1d6e5390>, <KeyPoint 0x7f6b1d6e59c0>, <KeyPoint 0x7f6b2671a930>, <KeyPoint 0x7f6b1d6f9b40>, <KeyPoint 0x7f6b1d6e2a20>, <KeyPoint 0x7f6b1d6f9a20>, <KeyPoint 0x7f6b1d6f9c90>, <KeyPoint 0x7f6b1d6e58d0>, <KeyPoint 0x7f6b1d6e5b70>, <KeyPoint 0x7f6b1d6ccd80>, <KeyPoint 0x7f6b1d6dbc30>, <KeyPoint 0x7f6b1d6e2f60>, <KeyPoint 0x7f6b1d6e5900>, <KeyPoint 0x7f6b1d6ccdb0>, <KeyPoint 0x7f6b2671a810>, <KeyPoint 0x7f6b2671ac90>, <KeyPoint 0x7f6b1d6e56f0>, <KeyPoint 0x7f6b1d6cc4e0>, <KeyPoint 0x7f6b1d6f97e0>, <KeyPoint 0x7f6b1d6db390>, <KeyPoint 0x7f6b1d6e51e0>, <KeyPoint 0x7f6b1d6e5f30>, <KeyPoint 0x7f6b1d6dbb10>, <KeyPoint 0x7f6b1d6dbea0>, <KeyPoint 0x7f6b1d6e5720>, <KeyPoint 0x7f6b1d6e50f0>, <KeyPoint 0x7f6b26727c30>, <KeyPoint 0x7f6b26727e70>, <KeyPoint 0x7f6b1d6cc8d0>, <KeyPoint 0x7f6b1d6e5ea0>, <KeyPoint 0x7f6b1d6e58a0>, <KeyPoint 0x7f6b1d6dbe70>, <KeyPoint 0x7f6b1d6dbba0>, <KeyPoint 0x7f6b1d6e2150>, <KeyPoint 0x7f6b1d6e2cc0>, <KeyPoint 0x7f6b1d6e59f0>, <KeyPoint 0x7f6b1d6e2d50>, <KeyPoint 0x7f6b1d6f9e70>, <KeyPoint 0x7f6b1d6e2180>, <KeyPoint 0x7f6b1d6cc3c0>, <KeyPoint 0x7f6b1d6e2d20>, <KeyPoint 0x7f6b1d6f9bd0>, <KeyPoint 0x7f6b1d6f9480>, <KeyPoint 0x7f6b1d6f9660>, <KeyPoint 0x7f6b1d6db930>, <KeyPoint 0x7f6b2671af30>, <KeyPoint 0x7f6b1d6e5990>, <KeyPoint 0x7f6b1d6e2b70>, <KeyPoint 0x7f6b2671a480>, <KeyPoint 0x7f6b2671a270>, <KeyPoint 0x7f6b1d6f9030>, <KeyPoint 0x7f6b1d6cc810>, <KeyPoint 0x7f6b1d6db420>, <KeyPoint 0x7f6b1d6cc690>, <KeyPoint 0x7f6b1d6cc5a0>, <KeyPoint 0x7f6b1d6cc510>, <KeyPoint 0x7f6b1d6cc150>, <KeyPoint 0x7f6b1d6f9f60>, <KeyPoint 0x7f6b1d6cc360>, <KeyPoint 0x7f6b1d6cc330>, <KeyPoint 0x7f6b1d6cc2d0>, <KeyPoint 0x7f6b26727330>, <KeyPoint 0x7f6b1d6ccea0>, <KeyPoint 0x7f6b1d6db450>, <KeyPoint 0x7f6b26727900>, <KeyPoint 0x7f6b1d6e2450>, <KeyPoint 0x7f6b2671a6c0>, <KeyPoint 0x7f6b1d6cc870>, <KeyPoint 0x7f6b1d6ccc00>, <KeyPoint 0x7f6b1d6cc7e0>, <KeyPoint 0x7f6b26727d20>, <KeyPoint 0x7f6b2671a390>, <KeyPoint 0x7f6b1d6f9ba0>, <KeyPoint 0x7f6b2671ac60>, <KeyPoint 0x7f6b1d6db540>, <KeyPoint 0x7f6b1d6e5180>, <KeyPoint 0x7f6b1d6e5f60>, <KeyPoint 0x7f6b1d6ccae0>, <KeyPoint 0x7f6b1d6cc030>, <KeyPoint 0x7f6b1d6dbf00>, <KeyPoint 0x7f6b1d6db0f0>, <KeyPoint 0x7f6b1d6cc240>, <KeyPoint 0x7f6b1d6e2bd0>, <KeyPoint 0x7f6b1d6dbc00>, <KeyPoint 0x7f6b1d6dbbd0>, <KeyPoint 0x7f6b1d6ccf60>, <KeyPoint 0x7f6b2671acc0>, <KeyPoint 0x7f6b1d6cc480>, <KeyPoint 0x7f6b1d6cc750>, <KeyPoint 0x7f6b2671a510>, <KeyPoint 0x7f6b1d6cc660>, <KeyPoint 0x7f6b1d6e26f0>, <KeyPoint 0x7f6b1d6e27e0>, <KeyPoint 0x7f6b1d6e28d0>, <KeyPoint 0x7f6b1d6e5630>, <KeyPoint 0x7f6b1d6e29f0>, <KeyPoint 0x7f6b1d6e5810>, <KeyPoint 0x7f6b1d6db810>, <KeyPoint 0x7f6b2671a210>, <KeyPoint 0x7f6b1d6e5510>, <KeyPoint 0x7f6b1d6f9150>, <KeyPoint 0x7f6b1d6f9960>, <KeyPoint 0x7f6b1d6e5db0>, <KeyPoint 0x7f6b1d6e2b10>, <KeyPoint 0x7f6b1d6e57b0>, <KeyPoint 0x7f6b1d6e2f90>, <KeyPoint 0x7f6b1d6e2480>, <KeyPoint 0x7f6b26727ea0>, <KeyPoint 0x7f6b2671af60>, <KeyPoint 0x7f6b2671a630>, <KeyPoint 0x7f6b2671a450>, <KeyPoint 0x7f6b2671a540>, <KeyPoint 0x7f6b1d6db570>, <KeyPoint 0x7f6b1d6cc060>, <KeyPoint 0x7f6b1d6e2690>, <KeyPoint 0x7f6b1d6ccba0>, <KeyPoint 0x7f6b1d6f97b0>, <KeyPoint 0x7f6b1d6e2600>, <KeyPoint 0x7f6b1d6f9cc0>, <KeyPoint 0x7f6b1d6f9540>, <KeyPoint 0x7f6b1d6e2510>, <KeyPoint 0x7f6b1d6e2780>, <KeyPoint 0x7f6b1d6db1e0>, <KeyPoint 0x7f6b1d6dbc90>, <KeyPoint 0x7f6b1d6db360>, <KeyPoint 0x7f6b1d6f9090>, <KeyPoint 0x7f6b1d6e25a0>, <KeyPoint 0x7f6b1d6e28a0>, <KeyPoint 0x7f6b1d6e2960>, <KeyPoint 0x7f6b1d6e2b40>, <KeyPoint 0x7f6b1d6cccc0>, <KeyPoint 0x7f6b26727e40>, <KeyPoint 0x7f6b1d6db510>, <KeyPoint 0x7f6b1d6f9ab0>, <KeyPoint 0x7f6b1d6f9a50>, <KeyPoint 0x7f6b1d6f93c0>, <KeyPoint 0x7f6b26727c60>, <KeyPoint 0x7f6b26727b40>, <KeyPoint 0x7f6b26727ab0>, <KeyPoint 0x7f6b267275d0>, <KeyPoint 0x7f6b2671ad50>, <KeyPoint 0x7f6b267279c0>, <KeyPoint 0x7f6b26727d80>, <KeyPoint 0x7f6b2671a660>, <KeyPoint 0x7f6b2671a300>, <KeyPoint 0x7f6b2671a5d0>, <KeyPoint 0x7f6b1d6dbe40>, <KeyPoint 0x7f6b1d6f9c00>, <KeyPoint 0x7f6b1d6e26c0>, <KeyPoint 0x7f6b1d6f9420>, <KeyPoint 0x7f6b1d6f96c0>, <KeyPoint 0x7f6b1d6f9750>, <KeyPoint 0x7f6b1d6e2060>, <KeyPoint 0x7f6b1d6e20f0>, <KeyPoint 0x7f6b1d6cc990>, <KeyPoint 0x7f6b1d6e21e0>, <KeyPoint 0x7f6b1d6dbf60>, <KeyPoint 0x7f6b2671a870>, <KeyPoint 0x7f6b2671a7b0>, <KeyPoint 0x7f6b2671a4e0>, <KeyPoint 0x7f6b26727a80>, <KeyPoint 0x7f6b2671a6f0>, <KeyPoint 0x7f6b2671a3f0>, <KeyPoint 0x7f6b26727ed0>, <KeyPoint 0x7f6b26726630>, <KeyPoint 0x7f6b2671a180>, <KeyPoint 0x7f6b1d6dbd20>, <KeyPoint 0x7f6b2671a960>, <KeyPoint 0x7f6b1d6e2cf0>, <KeyPoint 0x7f6b1d6cca50>, <KeyPoint 0x7f6b1d6db720>, <KeyPoint 0x7f6b1d6db780>, <KeyPoint 0x7f6b1d6db7e0>, <KeyPoint 0x7f6b1d6e2a50>, <KeyPoint 0x7f6b26726450>, <KeyPoint 0x7f6b1d6f9600>, <KeyPoint 0x7f6b1d6e53f0>, <KeyPoint 0x7f6b1d6e21b0>, <KeyPoint 0x7f6b1d6f9570>, <KeyPoint 0x7f6b1d6e5e10>, <KeyPoint 0x7f6b1d6cced0>, <KeyPoint 0x7f6b1d6e22a0>, <KeyPoint 0x7f6b2671af00>, <KeyPoint 0x7f6b1d6db270>, <KeyPoint 0x7f6b1d6f9180>, <KeyPoint 0x7f6b1d6e27b0>, <KeyPoint 0x7f6b1d6f94e0>, <KeyPoint 0x7f6b1d6e5c00>, <KeyPoint 0x7f6b1d6f9360>, <KeyPoint 0x7f6b1d6db480>, <KeyPoint 0x7f6b1d6db3f0>, <KeyPoint 0x7f6b1d6cc180>, <KeyPoint 0x7f6b2671a990>, <KeyPoint 0x7f6b1d6db600>, <KeyPoint 0x7f6b1d6f90c0>, <KeyPoint 0x7f6b1d6f9510>, <KeyPoint 0x7f6b1d6e5870>, <KeyPoint 0x7f6b1d6db900>, <KeyPoint 0x7f6b1d6cce10>, <KeyPoint 0x7f6b1d6db240>, <KeyPoint 0x7f6b1d6db840>, <KeyPoint 0x7f6b1d6dbdb0>, <KeyPoint 0x7f6b1d6db210>, <KeyPoint 0x7f6b1d6dbcc0>, <KeyPoint 0x7f6b1d6dbd50>, <KeyPoint 0x7f6b1d6e2210>, <KeyPoint 0x7f6b1d6e5a20>, <KeyPoint 0x7f6b1d6dbc60>, <KeyPoint 0x7f6b1d6dba50>, <KeyPoint 0x7f6b2671ae40>, <KeyPoint 0x7f6b1d6db3c0>, <KeyPoint 0x7f6b1d6e5030>, <KeyPoint 0x7f6b1d6e5a50>, <KeyPoint 0x7f6b2671ae10>, <KeyPoint 0x7f6b1d6e5f00>, <KeyPoint 0x7f6b1d6f9780>, <KeyPoint 0x7f6b1d6e2c60>, <KeyPoint 0x7f6b1d6e2c00>, <KeyPoint 0x7f6b1d6ccf30>, <KeyPoint 0x7f6b267140c0>, <KeyPoint 0x7f6b1d6db4e0>, <KeyPoint 0x7f6b1d6e5e70>, <KeyPoint 0x7f6b1d6e5de0>, <KeyPoint 0x7f6b1d6e5cc0>, <KeyPoint 0x7f6b1d6e5570>, <KeyPoint 0x7f6b26727a20>, <KeyPoint 0x7f6b1d6f9c30>, <KeyPoint 0x7f6b1d6e2900>, <KeyPoint 0x7f6b1d6e53c0>, <KeyPoint 0x7f6b1d6e5120>, <KeyPoint 0x7f6b1d6f9690>, <KeyPoint 0x7f6b26714930>, <KeyPoint 0x7f6b1d6e5240>, <KeyPoint 0x7f6b1d6e51b0>, <KeyPoint 0x7f6b1d6e5150>, <KeyPoint 0x7f6b2671a090>, <KeyPoint 0x7f6b1d6f9720>, <KeyPoint 0x7f6b1d6f9d50>, <KeyPoint 0x7f6b1d6f9fc0>, <KeyPoint 0x7f6b1d6f98d0>, <KeyPoint 0x7f6b1d6f9f00>, <KeyPoint 0x7f6b1d6f9de0>, <KeyPoint 0x7f6b1d6ccc30>, <KeyPoint 0x7f6b2671ac30>, <KeyPoint 0x7f6b2671afc0>, <KeyPoint 0x7f6b1d6f9cf0>, <KeyPoint 0x7f6b1d6e5840>, <KeyPoint 0x7f6b1d6e57e0>, <KeyPoint 0x7f6b1d6f9c60>, <KeyPoint 0x7f6b1d6e5930>, <KeyPoint 0x7f6b1d6f9b70>, <KeyPoint 0x7f6b1d6f9900>, <KeyPoint 0x7f6b1d6e56c0>, <KeyPoint 0x7f6b1d6e5690>, <KeyPoint 0x7f6b1d6e55a0>, <KeyPoint 0x7f6b1d6e5540>, <KeyPoint 0x7f6b2671a900>, <KeyPoint 0x7f6b1d6e54e0>, <KeyPoint 0x7f6b26727db0>, <KeyPoint 0x7f6b26727f00>, <KeyPoint 0x7f6b1d6e5090>, <KeyPoint 0x7f6b26727990>, <KeyPoint 0x7f6b267279f0>, <KeyPoint 0x7f6b1d6e2fc0>, <KeyPoint 0x7f6b2671a720>, <KeyPoint 0x7f6b1d6e2de0>, <KeyPoint 0x7f6b1d6e2f00>, <KeyPoint 0x7f6b1d6e2e10>, <KeyPoint 0x7f6b267398d0>, <KeyPoint 0x7f6b1d6e2630>, <KeyPoint 0x7f6b1d6e2570>, <KeyPoint 0x7f6b1d6e22d0>, <KeyPoint 0x7f6b2671aea0>, <KeyPoint 0x7f6b2671aab0>, <KeyPoint 0x7f6b2671a360>, <KeyPoint 0x7f6b2671a7e0>, <KeyPoint 0x7f6b2671a5a0>, <KeyPoint 0x7f6b2671a2a0>]\n",
            "GENERATING DESCRIPTORS...\n",
            "OK!\n",
            "DONE! RETURNING KEYPOINTS AND DESCRIPTORS... (PLEASE WAIT)\n",
            "[0.09113897, 0.08621599, 0.09070911, 0.080039226, 0.07634038, 0.07592238, 0.07530208, 0.08211822, 0.081166, 0.080467485]\n",
            "0.09113897\n",
            "OK!\n",
            "Descriptors sets for training images: 4\n",
            "Descriptors sets for test images: 4\n"
          ]
        }
      ]
    },
    {
      "cell_type": "markdown",
      "metadata": {
        "id": "skAPXwQGfnuB"
      },
      "source": [
        "## Assign descriptors to nearest cluster for both the training and test images (Step 2/3.2) ##"
      ],
      "id": "skAPXwQGfnuB"
    },
    {
      "cell_type": "code",
      "metadata": {
        "id": "QBHvXGqPfmqa"
      },
      "source": [
        "# Stores the dictionary of clusters\n",
        "final_dictionary = []\n",
        "\n",
        "# Size of dictionary\n",
        "MAX_LIMIT = 20\n",
        "count = 0\n",
        "\n",
        "# Perform K-means clustering for each image\n",
        "for image in range(len(training_images)):\n",
        "  if count < MAX_LIMIT:\n",
        "    kmeans = KMeans(training_k_array[image]).fit(training_desc_array[image])\n",
        "\n",
        "    kmeans.predict(training_desc_array[image])\n",
        "\n",
        "    cluster = []\n",
        "    \n",
        "\n",
        "    for k in range(training_k_array[image]):\n",
        "      data = []\n",
        "      for i in range(len(kmeans.labels_)):\n",
        "        if kmeans.labels_[i] == k:\n",
        "          data.append(training_desc_array[image][i])\n",
        "      cluster.append(data)\n",
        "\n",
        "    count += len(cluster)\n",
        "\n",
        "    print(\"Count:\", count)\n",
        "    print(len(cluster))\n",
        "\n",
        "    final_dictionary.append(cluster)\n",
        "\n",
        "\n",
        "# Eliminating clusters to ensure correct dictionary word count\n",
        "while count > MAX_LIMIT:\n",
        "  final_dictionary[len(final_dictionary)-1].pop(len(final_dictionary[len(final_dictionary)-1])-1)\n",
        "  count -= 1\n",
        "\n",
        "sum = 0\n",
        "for i, x in enumerate(final_dictionary):\n",
        "  print(\"Size of Image Cluster is\", len(x))\n",
        "  sum += len(final_dictionary[i])\n",
        "\n",
        "  print(\"\\n\")\n",
        "\n",
        "print(\"Sum:\", sum)\n"
      ],
      "id": "QBHvXGqPfmqa",
      "execution_count": null,
      "outputs": []
    },
    {
      "cell_type": "markdown",
      "metadata": {
        "id": "iCqNQAbqh1wo"
      },
      "source": [
        "## Step 3.1 - Finding Euclidean Distances ##"
      ],
      "id": "iCqNQAbqh1wo"
    },
    {
      "cell_type": "code",
      "metadata": {
        "id": "W59EsdGAh-jd"
      },
      "source": [
        "distances = []\n",
        "\n",
        "for x in range(len(training_images)):\n",
        "    distances.append([])\n",
        "\n",
        "print(distances)\n",
        "\n",
        "for image in range(len(training_images)):\n",
        "\n",
        "  kmeans = KMeans(training_k_array[image]).fit(training_desc_array[image])\n",
        "  kmeans.predict(training_desc_array[image])\n",
        "\n",
        "  centroids = kmeans.cluster_centers_\n",
        "\n",
        "  # Euclidean distance of image descriptors with centroids\n",
        "  # subtract descriptos with centroids\n",
        "  for desc in training_desc_array[image]:\n",
        "    for c in centroids:\n",
        "      distance = np.linalg.norm(desc - c)\n",
        "\n",
        "      distances[image].append(distance)\n",
        "\n",
        "#printing the euclidean distances\n",
        "for d in range(len(training_images)):\n",
        "  print(\"Distances for Image\", d+1)\n",
        "  for x in distances[d]:\n",
        "    print(x)"
      ],
      "id": "W59EsdGAh-jd",
      "execution_count": null,
      "outputs": []
    },
    {
      "cell_type": "markdown",
      "metadata": {
        "id": "2I1vM5NqTHsm"
      },
      "source": [
        "## Step 3 - Visualise Histograms ##"
      ],
      "id": "2I1vM5NqTHsm"
    },
    {
      "cell_type": "code",
      "metadata": {
        "id": "EGkDSHzQYn_0"
      },
      "source": [
        "def build_histogram(descriptor_list, cluster_alg, c_result):\n",
        "    histogram = np.zeros(len(cluster_alg.cluster_centers_))\n",
        "    cluster_result = c_result\n",
        "    for i in cluster_result:\n",
        "        histogram[i] += 1.0\n",
        "    return histogram\n",
        "  \n",
        "\n",
        "# Create histograms for the test images\n",
        "test_preprocessed_images = []\n",
        "for i, image in enumerate(test_images):\n",
        "      if (test_desc_array[i] is not None):\n",
        "\n",
        "          kmeans = KMeans(test_k_array[i])\n",
        "          kmeans.fit(test_desc_array[i])\n",
        "          y_kmeans = kmeans.predict(test_desc_array[i])\n",
        "\n",
        "          histogram = build_histogram(test_desc_array[i], kmeans, y_kmeans)\n",
        "          test_preprocessed_images.append(histogram)\n",
        "\n",
        "training_preprocessed_images = []\n",
        "# Create histograms for the training images\n",
        "for i, image in enumerate(training_images):\n",
        "      if (training_desc_array[i] is not None):\n",
        "\n",
        "          kmeans = KMeans(training_k_array[i])\n",
        "          kmeans.fit(training_desc_array[i])\n",
        "          y_kmeans = kmeans.predict(training_desc_array[i])\n",
        "\n",
        "          histogram = build_histogram(training_desc_array[i], kmeans, y_kmeans)\n",
        "          training_preprocessed_images.append(histogram)\n"
      ],
      "id": "EGkDSHzQYn_0",
      "execution_count": 16,
      "outputs": []
    },
    {
      "cell_type": "code",
      "metadata": {
        "colab": {
          "base_uri": "https://localhost:8080/",
          "height": 1000
        },
        "id": "GqUPk9SsZ6Fk",
        "outputId": "95d9b1d3-d479-42ba-a9c7-368299c19b33"
      },
      "source": [
        "normalized_testing = []\n",
        "for hist_test in test_preprocessed_images:\n",
        "  # Normalize the histogram\n",
        "  hist_norm_test = hist_test/np.sum(hist_test)\n",
        "  normalized_testing.append(hist_norm_test)\n",
        "  plt.hist(hist_norm_test)\n",
        "  plt.title(\"Histogram with 'auto' bins\")\n",
        "  plt.show()\n",
        "\n",
        "normalized_training = []\n",
        "for hist_train in training_preprocessed_images:\n",
        "  # Normalize the histogram\n",
        "  print(\"Train images\")\n",
        "  hist_norm_train = hist_train/np.sum(hist_train)\n",
        "  normalized_training.append(hist_norm_train)\n",
        "  plt.hist(hist_norm_train)\n",
        "  plt.title(\"Histogram with 'auto' bins\")\n",
        "  plt.show()"
      ],
      "id": "GqUPk9SsZ6Fk",
      "execution_count": 17,
      "outputs": [
        {
          "output_type": "stream",
          "name": "stdout",
          "text": [
            "[array([65., 65., 60., 65., 48., 32., 45., 44., 69., 76.]), array([207., 126., 194.]), array([202., 134., 195.]), array([160., 218., 170.])]\n",
            "Train images\n"
          ]
        },
        {
          "output_type": "display_data",
          "data": {
            "image/png": "[encoded data removed]",
            "text/plain": [
              "<Figure size 432x288 with 1 Axes>"
            ]
          },
          "metadata": {
            "needs_background": "light"
          }
        },
        {
          "output_type": "stream",
          "name": "stdout",
          "text": [
            "Train images\n"
          ]
        },
        {
          "output_type": "display_data",
          "data": {
            "image/png": "[encoded data removed]",
            "text/plain": [
              "<Figure size 432x288 with 1 Axes>"
            ]
          },
          "metadata": {
            "needs_background": "light"
          }
        },
        {
          "output_type": "stream",
          "name": "stdout",
          "text": [
            "Train images\n"
          ]
        },
        {
          "output_type": "display_data",
          "data": {
            "image/png": "[encoded data removed]",
            "text/plain": [
              "<Figure size 432x288 with 1 Axes>"
            ]
          },
          "metadata": {
            "needs_background": "light"
          }
        },
        {
          "output_type": "stream",
          "name": "stdout",
          "text": [
            "Train images\n"
          ]
        },
        {
          "output_type": "display_data",
          "data": {
            "image/png": "[encoded data removed]",
            "text/plain": [
              "<Figure size 432x288 with 1 Axes>"
            ]
          },
          "metadata": {
            "needs_background": "light"
          }
        },
        {
          "output_type": "stream",
          "name": "stdout",
          "text": [
            "Train images\n"
          ]
        },
        {
          "output_type": "display_data",
          "data": {
            "image/png": "[encoded data removed]",
            "text/plain": [
              "<Figure size 432x288 with 1 Axes>"
            ]
          },
          "metadata": {
            "needs_background": "light"
          }
        },
        {
          "output_type": "stream",
          "name": "stdout",
          "text": [
            "Train images\n"
          ]
        },
        {
          "output_type": "display_data",
          "data": {
            "image/png": "[encoded data removed]",
            "text/plain": [
              "<Figure size 432x288 with 1 Axes>"
            ]
          },
          "metadata": {
            "needs_background": "light"
          }
        },
        {
          "output_type": "stream",
          "name": "stdout",
          "text": [
            "Train images\n"
          ]
        },
        {
          "output_type": "display_data",
          "data": {
            "image/png": "[encoded data removed]",
            "text/plain": [
              "<Figure size 432x288 with 1 Axes>"
            ]
          },
          "metadata": {
            "needs_background": "light"
          }
        },
        {
          "output_type": "stream",
          "name": "stdout",
          "text": [
            "Train images\n"
          ]
        },
        {
          "output_type": "display_data",
          "data": {
            "image/png": "[encoded data removed]",
            "text/plain": [
              "<Figure size 432x288 with 1 Axes>"
            ]
          },
          "metadata": {
            "needs_background": "light"
          }
        }
      ]
    },
    {
      "cell_type": "markdown",
      "metadata": {
        "id": "cH8LW5FInmEj"
      },
      "source": [
        "## Step 4 ##\n"
      ],
      "id": "cH8LW5FInmEj"
    },
    {
      "cell_type": "code",
      "metadata": {
        "colab": {
          "base_uri": "https://localhost:8080/"
        },
        "id": "3tIMIfrwntAu",
        "outputId": "df4c4dad-98e8-4618-bc44-211515cc0b1e"
      },
      "source": [
        "data = []\n",
        "\n",
        "for i in normalized_training:\n",
        "  data.append(i)\n",
        "\n",
        "for i in normalized_testing:\n",
        "  data.append(i)\n",
        "\n",
        "\n",
        "from sklearn.model_selection import train_test_split\n",
        "X_train, X_test, y_train, y_test = train_test_split(data, labels, test_size=0.37, random_state=42)\n",
        "\n",
        "\n",
        "def L2_NN(trainx, trainy, testx):\n",
        "  testy_L2 = []\n",
        "  \n",
        "  for i in range(len(testx)):\n",
        "    #calculae the L2 distance\n",
        "    \n",
        "    distances = []\n",
        "    for j in range(len(trainx)):\n",
        "      for z in range(len(trainx[j])):\n",
        "        distance = np.sum(np.square(testx[i]- trainx[j][z]))\n",
        "\n",
        "      test_predicted = trainy[np.argmin(distance)]\n",
        "      testy_L2.append(test_predicted)\n",
        "  \n",
        "  return np.asarray(testy_L2)\n",
        "\n",
        "testy_L2 = L2_NN(X_train, y_train,X_test)\n"
      ],
      "id": "3tIMIfrwntAu",
      "execution_count": 48,
      "outputs": [
        {
          "output_type": "stream",
          "name": "stdout",
          "text": [
            "# PREDICTION #\n",
            "[1 1 1 1 1 1 1 1 1 1 1 1 1 1 1]\n"
          ]
        }
      ]
    },
    {
      "cell_type": "markdown",
      "metadata": {
        "id": "zv2xLxNEr3vL"
      },
      "source": [
        "## Part 5 - Calculate the error rate ##\n",
        "\n"
      ],
      "id": "zv2xLxNEr3vL"
    },
    {
      "cell_type": "code",
      "metadata": {
        "colab": {
          "base_uri": "https://localhost:8080/"
        },
        "id": "YgE3AiZ6r9eL",
        "outputId": "73510318-fcf0-4e00-faaa-6dd755aa6752"
      },
      "source": [
        "def error_rate(testy, testy_fit):\n",
        "  return float(np.sum(testy!=testy_fit))/len(testy)\n",
        "\n",
        "print(\"Error rate:\", error_rate(y_test, testy_L2))\n",
        "\n",
        "acc = (1 - error_rate(y_test, testy_L2)) * 100\n",
        "print(\"Accuracy Rate: \", acc, \"%\")"
      ],
      "id": "YgE3AiZ6r9eL",
      "execution_count": 49,
      "outputs": [
        {
          "output_type": "stream",
          "name": "stdout",
          "text": [
            "Error rate: 0.3333333333333333\n",
            "Accuracy Rate:  66.66666666666667 %\n"
          ]
        },
        {
          "output_type": "stream",
          "name": "stderr",
          "text": [
            "/usr/local/lib/python3.7/dist-packages/ipykernel_launcher.py:2: DeprecationWarning: elementwise comparison failed; this will raise an error in the future.\n",
            "  \n"
          ]
        }
      ]
    },
    {
      "cell_type": "markdown",
      "metadata": {
        "id": "GmMnUC5esojK"
      },
      "source": [
        "## Part 5 - Confusion Matrix ##"
      ],
      "id": "GmMnUC5esojK"
    },
    {
      "cell_type": "code",
      "metadata": {
        "colab": {
          "base_uri": "https://localhost:8080/"
        },
        "id": "cLzOah5rsueA",
        "outputId": "a77b3c41-d599-4d90-83cd-1f5cc5dd7593"
      },
      "source": [
        "def confusionMatrix(testy, testy_fit):\n",
        "  matrix_dimension = len(np.unique(testy))\n",
        "  print(matrix_dimension)\n",
        "  confusionMatrix = np.zeros((matrix_dimension, matrix_dimension))\n",
        "  print(len(testy))\n",
        "  print(len(testy_fit))\n",
        "  for i in range(len(testy)):\n",
        "    confusionMatrix[int(testy[i])][int(testy_fit[i])] +=1\n",
        "\n",
        "  return confusionMatrix\n",
        "\n",
        "\n",
        "confusionMatrix(y_test, testy_L2)"
      ],
      "id": "cLzOah5rsueA",
      "execution_count": 58,
      "outputs": [
        {
          "output_type": "stream",
          "name": "stdout",
          "text": [
            "[0, 0, 0]\n",
            "1\n",
            "3\n",
            "15\n"
          ]
        },
        {
          "output_type": "execute_result",
          "data": {
            "text/plain": [
              "array([[0., 3., 0.],\n",
              "       [0., 0., 0.],\n",
              "       [0., 0., 0.]])"
            ]
          },
          "metadata": {},
          "execution_count": 58
        }
      ]
    },
    {
      "cell_type": "markdown",
      "metadata": {
        "id": "KuWmshlg8Mov"
      },
      "source": [
        "## Part 6 - Histogram intersection between 2 histograms## "
      ],
      "id": "KuWmshlg8Mov"
    },
    {
      "cell_type": "code",
      "metadata": {
        "colab": {
          "base_uri": "https://localhost:8080/",
          "height": 203
        },
        "id": "i-SSisU_8bC2",
        "outputId": "f1e4b987-5cb7-4d07-c8bc-6b12fee8cc85"
      },
      "source": [
        "def hist_inter(h1, h2):\n",
        "  sm = 0\n",
        "  b = 0\n",
        "  if len(h1) > len(h2):\n",
        "    b = len(h2)\n",
        "  else:\n",
        "    b = len(h1)\n",
        "  for i in range(b):\n",
        "    sm += min(h1[i], h2[i])\n",
        "  return sm\n",
        "\n",
        "\n",
        "def Intersection_NN(trainx, trainy, testx):\n",
        "  testy_L2 = []\n",
        "\n",
        "  for i in range(len(testx)):\n",
        "\n",
        "\n",
        "    hist_intersection = hist_inter(testx[i], trainx[i])\n",
        "    print(\"Intersection\", hist_intersection)\n",
        "\n",
        "    test_predicted = trainy[np.argmin(hist_intersection)]\n",
        "\n",
        "    testy_L2.append(test_predicted)\n",
        "\n",
        "  return np.asarray(testy_L2)\n",
        "\n",
        "\n",
        "\n",
        "testy_Intersection = Intersection_NN(X_train, y_train,X_test)\n",
        "\n",
        "\n",
        "def error_rate(testy, testy_fit):\n",
        "  return float(np.sum(testy!=testy_fit))/len(testy)\n",
        "\n",
        "print(\"Error rate:\", error_rate(y_test, testy_Intersection))\n",
        "\n",
        "acc = (1 - error_rate(y_test, testy_Intersection)) * 100\n",
        "print(\"Accuracy Rate: \", acc, \"%\")\n",
        "\n"
      ],
      "id": "i-SSisU_8bC2",
      "execution_count": 59,
      "outputs": [
        {
          "output_type": "stream",
          "name": "stdout",
          "text": [
            "# PREDICTION #\n",
            "Intersection 0.573170731707317\n",
            "Intersection 0.36585365853658536\n",
            "Intersection 0.7958292894053459\n",
            "Error rate: 1.0\n",
            "Accuracy Rate:  0.0 %\n"
          ]
        },
        {
          "output_type": "execute_result",
          "data": {
            "application/vnd.google.colaboratory.intrinsic+json": {
              "type": "string"
            },
            "text/plain": [
              "'def confusionMatrix(testy, testy_fit):\\n  matrix_dimension = len(np.unique(testy))\\n  confusionMatrix = np.zeros((matrix_dimension, matrix_dimension))\\n  for i in range(len(testy)):\\n    confusionMatrix[int(testy[i])][int(testy_fit[i])] +=1\\n\\n  return confusionMatrix'"
            ]
          },
          "metadata": {},
          "execution_count": 59
        }
      ]
    },
    {
      "cell_type": "markdown",
      "metadata": {
        "id": "IT_tPI_rDXf2"
      },
      "source": [
        "# Step 7 - HOW TO: #"
      ],
      "id": "IT_tPI_rDXf2"
    },
    {
      "cell_type": "markdown",
      "metadata": {
        "id": "WAioO5REDbtP"
      },
      "source": [
        "Go to \"Step 2/32.\" and change the \"MAX_LIMIT\" constant to 20. Then, proceed with running the other steps as mentioned in the assignment PDF file. Most of step 7 is done in the report. :)"
      ],
      "id": "WAioO5REDbtP"
    }
  ]
}