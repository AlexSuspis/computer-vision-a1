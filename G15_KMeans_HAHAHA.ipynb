{
  "nbformat": 4,
  "nbformat_minor": 5,
  "metadata": {
    "kernelspec": {
      "display_name": "Python 3",
      "language": "python",
      "name": "python3"
    },
    "language_info": {
      "codemirror_mode": {
        "name": "ipython",
        "version": 3
      },
      "file_extension": ".py",
      "mimetype": "text/x-python",
      "name": "python",
      "nbconvert_exporter": "python",
      "pygments_lexer": "ipython3",
      "version": "3.8.8"
    },
    "colab": {
      "name": "G15_KMeans_HAHAHA",
      "provenance": [],
      "collapsed_sections": [
        "7cd61517"
      ]
    }
  },
  "cells": [
    {
      "cell_type": "code",
      "metadata": {
        "id": "1e7cce70"
      },
      "source": [
        "import numpy as np\n",
        "from numpy import all, any, array, arctan2, cos, sin, exp, dot, log, logical_and, roll, sqrt, stack, trace, unravel_index, pi, deg2rad, rad2deg, where, zeros, floor, full, nan, isnan, round, float32\n",
        "from numpy.linalg import det, lstsq, norm\n",
        "from sklearn.cluster import KMeans\n",
        "from sklearn.metrics import silhouette_score\n",
        "from sklearn.feature_extraction.image import extract_patches_2d\n",
        "from PIL import Image\n",
        "from functools import cmp_to_key\n",
        "import cv2\n",
        "from cv2 import resize, GaussianBlur, subtract, KeyPoint, INTER_LINEAR, INTER_NEAREST\n",
        "from google.colab.patches import cv2_imshow\n",
        "import matplotlib.pyplot as plt\n",
        "import argparse\n",
        "import math\n",
        "from google.colab.patches import cv2_imshow\n",
        "import cv2"
      ],
      "id": "1e7cce70",
      "execution_count": 175,
      "outputs": []
    },
    {
      "cell_type": "markdown",
      "metadata": {
        "id": "3fac6152"
      },
      "source": [
        "## Global Variables ##"
      ],
      "id": "3fac6152"
    },
    {
      "cell_type": "code",
      "metadata": {
        "id": "3861782e"
      },
      "source": [
        "# Determines the length of floats the SIFT function will tolerate\n",
        "float_tolerance = 1e-7\n",
        "\n",
        "# Determines whether to run SIFT in verbose mode\n",
        "# (Prints out messages for debugging)\n",
        "VERBOSE_MODE = False"
      ],
      "id": "3861782e",
      "execution_count": 176,
      "outputs": []
    },
    {
      "cell_type": "markdown",
      "metadata": {
        "id": "7cd61517"
      },
      "source": [
        "# SIFT Implementation #"
      ],
      "id": "7cd61517"
    },
    {
      "cell_type": "markdown",
      "metadata": {
        "id": "c4c6941d"
      },
      "source": [
        "Please note: This implementation is largely based on the one originally created by Russ Islam, which can be found here:\n",
        "https://github.com/rmislam/PythonSIFT"
      ],
      "id": "c4c6941d"
    },
    {
      "cell_type": "markdown",
      "metadata": {
        "id": "09c4032b"
      },
      "source": [
        "## Image Pyramid Functions ##"
      ],
      "id": "09c4032b"
    },
    {
      "cell_type": "code",
      "metadata": {
        "id": "ad37ba18"
      },
      "source": [
        "# Generate the base image from the given input image\n",
        "# by upsampling by 2 in both directions and then applying\n",
        "# a Gaussian blur.\n",
        "def generateBaseImage(image, sigma, assumed_blur):\n",
        "    image = resize(image, (0, 0), fx=2, fy=2, interpolation=INTER_LINEAR)\n",
        "    sigma_diff = sqrt(max((sigma ** 2) - ((2 * assumed_blur) ** 2), 0.01))\n",
        "    \n",
        "    # The image blur is now sigma instead of assumed_blur\n",
        "    return GaussianBlur(image, (0, 0), sigmaX=sigma_diff, sigmaY=sigma_diff)  \n",
        "\n",
        "# Compute number of octaves in the image pyramid based\n",
        "# on the original OpenCV implementation.\n",
        "# (Function of base image shape)\n",
        "def computeOctaves(img_shape):\n",
        "    return int(round(log(min(img_shape)) / log(2)-1))\n",
        "\n",
        "# Generate a list of Gaussian Kernels at which to blur the image\n",
        "# Default values of sigma, intervals, and octaves are based on section 3\n",
        "# of David G. Lowe's paper.\n",
        "def generateGaussianKernels(sigma, intervals):\n",
        "    # Set number of intervals\n",
        "    images_per_octave = intervals + 3\n",
        "    k = 2 ** (1.0 / intervals) # Normalise\n",
        "    \n",
        "    # Scale of gaussian blur necessary to go from one blur scale to the next within an octave\n",
        "    gaussian_kernels = zeros(images_per_octave)\n",
        "    gaussian_kernels[0] = sigma\n",
        "\n",
        "    # For each image, work out the appropriate sigma value\n",
        "    for image_index in range(1, images_per_octave):\n",
        "        sigma_previous = (k ** (image_index - 1)) * sigma\n",
        "        sigma_total = k * sigma_previous\n",
        "        gaussian_kernels[image_index] = sqrt(sigma_total ** 2 - sigma_previous ** 2)\n",
        "    return gaussian_kernels\n",
        "\n",
        "# Generate the scale-space pyramid of Gaussian Images\n",
        "# See: Lecture 7 - Page 14\n",
        "def generateGaussianImages(img, octaves, kernels):\n",
        "    \n",
        "    gaussian_images = []\n",
        "    \n",
        "    for octave_index in range(octaves):\n",
        "        gaussian_images_in_octave = []\n",
        "        # First image in pyramid already has the correct blur\n",
        "        gaussian_images_in_octave.append(img)\n",
        "        \n",
        "        # Blur each image\n",
        "        for kernel in kernels[1:]:\n",
        "            #print(kernel) DEBUG\n",
        "            #img = gaussian_blur(img, 1, kernel) # ORIGINALLY 0\n",
        "            img = GaussianBlur(img, (0, 0), sigmaX=kernel, sigmaY=kernel)\n",
        "            gaussian_images_in_octave.append(img)\n",
        "        \n",
        "        # Append images to master array\n",
        "        gaussian_images.append(gaussian_images_in_octave)\n",
        "        octave_base = gaussian_images_in_octave[-3]\n",
        "        \n",
        "        # Resize image\n",
        "        img = resize(octave_base, (int(octave_base.shape[1] / 2), int(octave_base.shape[0] / 2)), interpolation=INTER_NEAREST)\n",
        "    \n",
        "    return array(gaussian_images, dtype=object)\n",
        "\n",
        "# Generate a Difference of Gaussian (DoG) image pyramid\n",
        "def generateDoGImages(gaussian_images):\n",
        "    \n",
        "    dog_images = []\n",
        "    \n",
        "    # Similar process to latter function\n",
        "    for gaussian_images_in_octave in gaussian_images:\n",
        "        dog_images_in_octave = []\n",
        "        \n",
        "        for first_image, second_image in zip(gaussian_images_in_octave, gaussian_images_in_octave[1:]):\n",
        "            # Ordinary subtraction will not work because the images are unsigned integers\n",
        "            dog_images_in_octave.append(subtract(second_image, first_image))\n",
        "        \n",
        "        dog_images.append(dog_images_in_octave)\n",
        "        \n",
        "    return array(dog_images, dtype=object)"
      ],
      "id": "ad37ba18",
      "execution_count": 177,
      "outputs": []
    },
    {
      "cell_type": "markdown",
      "metadata": {
        "id": "6a48e4e3"
      },
      "source": [
        "## Scale Space Extrema Functions ##"
      ],
      "id": "6a48e4e3"
    },
    {
      "cell_type": "code",
      "metadata": {
        "id": "8637f336"
      },
      "source": [
        "# Find the pixel positions of all Scale-Space Extrema in the image pyramid\n",
        "def findScaleSpaceExtrema(gaussian_images, dog_images, num_intervals, sigma, image_border_width, contrast_threshold=0.04):\n",
        "\n",
        "    # From OpenCV implementation\n",
        "    threshold = floor(0.5 * contrast_threshold / num_intervals * 255)  \n",
        "    keypoints = []\n",
        "\n",
        "    for octave_index, dog_images_in_octave in enumerate(dog_images):\n",
        "        for image_index, (first_image, second_image, third_image) in enumerate(zip(dog_images_in_octave, dog_images_in_octave[1:], dog_images_in_octave[2:])):\n",
        "            # (i, j) is the center of the 3x3 array\n",
        "            for i in range(image_border_width, first_image.shape[0] - image_border_width):\n",
        "                for j in range(image_border_width, first_image.shape[1] - image_border_width):\n",
        "                    # Checks for extrenum values\n",
        "                    if isPixelAnExtremum(first_image[i-1:i+2, j-1:j+2], second_image[i-1:i+2, j-1:j+2], third_image[i-1:i+2, j-1:j+2], threshold):\n",
        "                        localization_result = localizeExtremumViaQuadraticFit(i, j, image_index + 1, octave_index, num_intervals, dog_images_in_octave, sigma, contrast_threshold, image_border_width)\n",
        "                        if localization_result is not None:\n",
        "                            keypoint, localized_image_index = localization_result\n",
        "                            keypoints_with_orientations = computeKeypointsWithOrientations(keypoint, octave_index, gaussian_images[octave_index][localized_image_index])\n",
        "                            for keypoint_with_orientation in keypoints_with_orientations:\n",
        "                                keypoints.append(keypoint_with_orientation)\n",
        "    return keypoints\n",
        "\n",
        "# Returns true if the centre element of the 3x3x3 input array is strictly greater\n",
        "# than or less than all of its neighbours, and false otherwise\n",
        "def isPixelAnExtremum(first_subimage, second_subimage, third_subimage, threshold):\n",
        "  centre_pixel_value = second_subimage[1,1]\n",
        "\n",
        "  # Checks if pixel value is above the given threshold\n",
        "  if abs(centre_pixel_value) > threshold:\n",
        "    if centre_pixel_value > 0:\n",
        "      # Check pixel against its neighbours\n",
        "      return all(centre_pixel_value >= first_subimage) and \\\n",
        "                   all(centre_pixel_value >= third_subimage) and \\\n",
        "                   all(centre_pixel_value >= second_subimage[0, :]) and \\\n",
        "                   all(centre_pixel_value >= second_subimage[2, :]) and \\\n",
        "                   centre_pixel_value >= second_subimage[1,0] and \\\n",
        "                   centre_pixel_value >= second_subimage[1,2]\n",
        "    elif centre_pixel_value < 0:\n",
        "        return all(centre_pixel_value <= first_subimage) and \\\n",
        "                all(centre_pixel_value <= third_subimage) and \\\n",
        "                all(centre_pixel_value <= second_subimage[0, :]) and \\\n",
        "                all(centre_pixel_value <= second_subimage[2, :]) and \\\n",
        "                centre_pixel_value <= second_subimage[1,0] and \\\n",
        "                centre_pixel_value <= second_subimage[1,2]\n",
        "  return False\n",
        "\n",
        "# Iteratively refine pixel positions of Scale Space extrema\n",
        "# via quadratic fit around each extremum's neighbors\n",
        "def localizeExtremumViaQuadraticFit(i, j, image_index, octave_index, intervals, dog_images_in_octave, \n",
        "                                    sigma, contrast_threshold, image_border_width, \n",
        "                                    eigenvalue_ratio=10, attempts_until_convergence=5):\n",
        "  extremum_is_outside_image = False\n",
        "  image_shape = dog_images_in_octave[0].shape\n",
        "\n",
        "  for attempt_index in range(attempts_until_convergence):\n",
        "    # We need to convert from uint8 to float32 to compute derivatives\n",
        "    # after which we need to rescale pixel values to [0, 1] to apply Lowe's thresholds\n",
        "    first_image, second_image, third_image = dog_images_in_octave[image_index-1:image_index+2]\n",
        "    pixel_cube = stack([first_image[i-1:i+2, j-1:j+2],\n",
        "                        second_image[i-1:i+2, j-1:j+2],\n",
        "                        third_image[i-1:i+2, j-1:j+2]]).astype('float32') / 255.\n",
        "    # Compute the gradient and hessian values\n",
        "    gradient = computeGradientAtCentrePixel(pixel_cube)\n",
        "    hessian = computeHessianAtCentrePixel(pixel_cube)\n",
        "\n",
        "    # Compute the least-squares solution of the hessian and the gradient matrices\n",
        "    extremum_update = -lstsq(hessian, gradient, rcond=None)[0]\n",
        "    if abs(extremum_update[0]) < 0.5 and abs(extremum_update[1]) < 0.5 and abs(extremum_update[2]) < 0.5:\n",
        "        break\n",
        "    j += int(round(extremum_update[0]))\n",
        "    i += int(round(extremum_update[1]))\n",
        "    image_index += int(round(extremum_update[2]))\n",
        "\n",
        "    # Make sure the new pixel_cube will lie entirely within the image\n",
        "    if i < image_border_width or i >= image_shape[0] - image_border_width or j < image_border_width or j >= image_shape[1] - image_border_width or image_index < 1 or image_index > intervals:\n",
        "        extremum_is_outside_image = True\n",
        "        break\n",
        "\n",
        "  # Logging functions\n",
        "  if extremum_is_outside_image:\n",
        "      #logger.debug('Updated extremum moved outside of image before reaching convergence. Skipping...')\n",
        "      return None\n",
        "  if attempt_index >= attempts_until_convergence - 1:\n",
        "      #logger.debug('Exceeded maximum number of attempts without reaching convergence for this extremum. Skipping...')\n",
        "      return None\n",
        "\n",
        "  functionValueAtUpdatedExtremum = pixel_cube[1, 1, 1] + 0.5 * dot(gradient, extremum_update)\n",
        "  if abs(functionValueAtUpdatedExtremum) * intervals >= contrast_threshold:\n",
        "      xy_hessian = hessian[:2, :2]\n",
        "      xy_hessian_trace = trace(xy_hessian)\n",
        "      xy_hessian_det = det(xy_hessian)\n",
        "      if xy_hessian_det > 0 and eigenvalue_ratio * (xy_hessian_trace ** 2) < ((eigenvalue_ratio + 1) ** 2) * xy_hessian_det:\n",
        "          # Contrast check passed -- construct and return OpenCV KeyPoint object\n",
        "          # MAKE OWN KEYPOINT^^^\n",
        "          keypoint = KeyPoint()\n",
        "          keypoint.pt = ((j + extremum_update[0]) * (2 ** octave_index), (i + extremum_update[1]) * (2 ** octave_index))\n",
        "          keypoint.octave = octave_index + image_index * (2 ** 8) + int(round((extremum_update[2] + 0.5) * 255)) * (2 ** 16)\n",
        "          # Octave_index + 1 because the input image was doubled\n",
        "          keypoint.size = sigma * (2 ** ((image_index + extremum_update[2]) / float32(intervals))) * (2 ** (octave_index + 1)) \n",
        "          keypoint.response = abs(functionValueAtUpdatedExtremum)\n",
        "          return keypoint, image_index\n",
        "  return None\n",
        "\n",
        "# Approximate the gradient at the centre pixel (of 3x3x3 array)\n",
        "# by using the \"Central Difference\" formula (Order: O(h^2))\n",
        "# See: https://learn.lboro.ac.uk/archive/olmp/olmp_resources/pages/workbooks_1_50_jan2008/Workbook31/31_3_num_diff.pdf\n",
        "def computeGradientAtCentrePixel(pixel_array):\n",
        "  # Central Difference formula considering h (step size) of order O(h^2) for f'(x) \n",
        "  # is (f(x + h) - f(x - h)) / (2 * h)\n",
        "  # Since h=1 in this case, we get: f'(x) = (f(x + 1) - f(x - 1)) / 2\n",
        "  # NOTE: x corresponds to second array axis, y corresponds to first array axis, and s (scale) corresponds to third array axis\n",
        "  dx = 0.5 * (pixel_array[1, 1, 2] - pixel_array[1, 1, 0])\n",
        "  dy = 0.5 * (pixel_array[1, 2, 1] - pixel_array[1, 0, 1])\n",
        "  ds = 0.5 * (pixel_array[2, 1, 1] - pixel_array[0, 1, 1])\n",
        "\n",
        "  return array([dx, dy, ds])\n",
        "\n",
        "# Same principles as the function above\n",
        "def computeHessianAtCentrePixel(pixel_array):\n",
        "  \n",
        "  # Central Difference formula considering h (step size) of order O(h^2) for \n",
        "  # (d^2) f(x, y) / (dx dy) = (f(x + h, y + h) - f(x + h, y - h) - f(x - h, y + h) + f(x - h, y - h)) / (4 * h ^ 2)\n",
        "  # Since h=1 in this case, we get: \n",
        "  # (d^2) f(x, y) / (dx dy) = (f(x + 1, y + 1) - f(x + 1, y - 1) - f(x - 1, y + 1) + f(x - 1, y - 1)) / 4\n",
        "  \n",
        "  centre_pixel_value = pixel_array[1,1,1]\n",
        "\n",
        "  dxx = pixel_array[1,1,2] - 2 * centre_pixel_value + pixel_array[1,1,0]\n",
        "  dyy = pixel_array[1,2,1] - 2 * centre_pixel_value + pixel_array[1,0,1]\n",
        "  dss = pixel_array[2,1,1] - 2 * centre_pixel_value + pixel_array[0,1,1]\n",
        "\n",
        "  dxy = 0.25 * (pixel_array[1,2,2] - pixel_array[1,2,0] - pixel_array[1,0,2] + pixel_array[1,0,0])\n",
        "  dxs = 0.25 * (pixel_array[2,1,2] - pixel_array[2,1,0] - pixel_array[0,1,2] + pixel_array[0,1,0])\n",
        "  dys = 0.25 * (pixel_array[2,2,1] - pixel_array[2,0,1] - pixel_array[0,2,1] + pixel_array[0,0,1])\n",
        "  return array([[dxx, dxy, dxs], \n",
        "              [dxy, dyy, dys],\n",
        "              [dxs, dys, dss]])"
      ],
      "id": "8637f336",
      "execution_count": 178,
      "outputs": []
    },
    {
      "cell_type": "markdown",
      "metadata": {
        "id": "5e6367c2"
      },
      "source": [
        "## Keypoint Orientation Function ##"
      ],
      "id": "5e6367c2"
    },
    {
      "cell_type": "code",
      "metadata": {
        "id": "ab5806f8"
      },
      "source": [
        "# Computes the orientations of each keypoint\n",
        "def computeKeypointsWithOrientations(keypoint, octave_index, gaussian_image, radius_factor=3, \n",
        "                                     num_bins=36, peak_ratio=0.8, scale_factor=1.5):\n",
        "  keypoints_with_orientations = []\n",
        "  image_shape = gaussian_image.shape\n",
        "\n",
        "  # Comparison with keypoint.size computation in \"localizeExtremumViaQuadraticFit()\"\n",
        "  scale = scale_factor * keypoint.size / float32(2 ** (octave_index + 1))\n",
        "\n",
        "  # Prepare histogram values\n",
        "  radius = int(round(radius_factor * scale))\n",
        "  weight_factor = -0.5 / (scale ** 2)\n",
        "  raw_histogram = zeros(num_bins)\n",
        "  smooth_histogram = zeros(num_bins)\n",
        "\n",
        "  # Go through the Y-range\n",
        "  for i in range(-radius, radius + 1):\n",
        "        region_y = int(round(keypoint.pt[1] / float32(2 ** octave_index))) + i\n",
        "        if region_y > 0 and region_y < image_shape[0] - 1:\n",
        "            # Go through the X-range\n",
        "            for j in range(-radius, radius + 1):\n",
        "                region_x = int(round(keypoint.pt[0] / float32(2 ** octave_index))) + j\n",
        "                if region_x > 0 and region_x < image_shape[1] - 1:\n",
        "                    dx = gaussian_image[region_y, region_x + 1] - gaussian_image[region_y, region_x - 1]\n",
        "                    dy = gaussian_image[region_y - 1, region_x] - gaussian_image[region_y + 1, region_x]\n",
        "                    \n",
        "                    gradient_magnitude = sqrt(dx * dx + dy * dy)\n",
        "                    gradient_orientation = rad2deg(arctan2(dy, dx))\n",
        "                    \n",
        "                    # Constant in front of exponential can be dropped since peaks will be found later\n",
        "                    weight = exp(weight_factor * (i ** 2 + j ** 2))  \n",
        "                    histogram_index = int(round(gradient_orientation * num_bins / 360.))\n",
        "                    raw_histogram[histogram_index % num_bins] += weight * gradient_magnitude\n",
        "  \n",
        "  # Iterate through number of histogram bins\n",
        "  for n in range(num_bins):\n",
        "        smooth_histogram[n] = (6 * raw_histogram[n] + 4 * (raw_histogram[n - 1] + raw_histogram[(n + 1) % num_bins]) + raw_histogram[n - 2] + raw_histogram[(n + 2) % num_bins]) / 16.\n",
        "  \n",
        "  orientation_max = max(smooth_histogram)\n",
        "  orientation_peaks = where(logical_and(smooth_histogram > roll(smooth_histogram, 1), smooth_histogram > roll(smooth_histogram, -1)))[0]\n",
        "  \n",
        "  # For each peak value in orientation_peaks\n",
        "  for peak_index in orientation_peaks:\n",
        "      peak_value = smooth_histogram[peak_index]\n",
        "      if peak_value >= peak_ratio * orientation_max:\n",
        "          # Quadratic peak interpolation\n",
        "          # The interpolation update is given by equation (6.30) in:\n",
        "          # https://ccrma.stanford.edu/~jos/sasp/Quadratic_Interpolation_Spectral_Peaks.html\n",
        "\n",
        "          left_value = smooth_histogram[(peak_index - 1) % num_bins]\n",
        "          right_value = smooth_histogram[(peak_index + 1) % num_bins]\n",
        "          interpolated_peak_index = (peak_index + 0.5 * (left_value - right_value) / (left_value - 2 * peak_value + right_value)) % num_bins\n",
        "          orientation = 360. - interpolated_peak_index * 360. / num_bins\n",
        "          if abs(orientation - 360.) < float_tolerance:\n",
        "              orientation = 0\n",
        "          new_keypoint = KeyPoint(*keypoint.pt, keypoint.size, orientation, keypoint.response, keypoint.octave)\n",
        "          keypoints_with_orientations.append(new_keypoint)\n",
        "  return keypoints_with_orientations\n"
      ],
      "id": "ab5806f8",
      "execution_count": 179,
      "outputs": []
    },
    {
      "cell_type": "markdown",
      "metadata": {
        "id": "41d616bc"
      },
      "source": [
        "## Duplicate Keypoint Removal Functions ##"
      ],
      "id": "41d616bc"
    },
    {
      "cell_type": "code",
      "metadata": {
        "id": "ea75ad28"
      },
      "source": [
        "# Returns true if the first keypoint is \"less\" than the second\n",
        "# Used in the next function to remove duplicate keypoints\n",
        "def compareKeypoints(keypoint1, keypoint2):\n",
        "\n",
        "  # All attributes of the keypoints are compared\n",
        "  if keypoint1.pt[0] != keypoint2.pt[0]:\n",
        "    return keypoint1.pt[0] - keypoint2.pt[0]\n",
        "  if keypoint1.pt[1] != keypoint2.pt[1]:\n",
        "    return keypoint1.pt[1] - keypoint2.pt[1]\n",
        "  if keypoint1.size != keypoint2.size:\n",
        "    return keypoint2.size - keypoint1.size\n",
        "  if keypoint1.angle != keypoint2.angle:\n",
        "    return keypoint1.angle - keypoint2.angle\n",
        "  if keypoint1.response != keypoint2.response:\n",
        "    return keypoint2.response - keypoint1.response\n",
        "  if keypoint1.octave != keypoint2.octave:\n",
        "    return keypoint2.octave - keypoint1.octave\n",
        "  return keypoint2.class_id - keypoint1.class_id\n",
        "\n",
        "# Sorts the keypoints and then removes any duplicates\n",
        "def removeDuplicateKeypoints(keypoints):\n",
        "    # Checks if there is only 1 or no keypoints\n",
        "    if len(keypoints) < 2:\n",
        "        return keypoints\n",
        "    \n",
        "    # The sort method is called with a key pointing to the previous function.\n",
        "    # This allows the program to run the function on each element while it is sorting.\n",
        "    keypoints.sort(key=cmp_to_key(compareKeypoints))\n",
        "    unique_keypoints = [keypoints[0]]\n",
        "    \n",
        "    # Remove the duplicate keypoints\n",
        "    for next_keypoint in keypoints[1:]:\n",
        "        last_unique_keypoint = unique_keypoints[-1]\n",
        "        if last_unique_keypoint.pt[0] != next_keypoint.pt[0] or \\\n",
        "           last_unique_keypoint.pt[1] != next_keypoint.pt[1] or \\\n",
        "           last_unique_keypoint.size != next_keypoint.size or \\\n",
        "           last_unique_keypoint.angle != next_keypoint.angle:\n",
        "            unique_keypoints.append(next_keypoint)\n",
        "            \n",
        "    return unique_keypoints"
      ],
      "id": "ea75ad28",
      "execution_count": 180,
      "outputs": []
    },
    {
      "cell_type": "markdown",
      "metadata": {
        "id": "2387e750"
      },
      "source": [
        "## Keypoint Scale Conversion Function ##"
      ],
      "id": "2387e750"
    },
    {
      "cell_type": "code",
      "metadata": {
        "id": "bc12297c"
      },
      "source": [
        "# Converts the keypoint point, size, and octave to the size to the input image\n",
        "def convertKeypointsToInputImageSize(keypoints):\n",
        "\n",
        "  converted_keypoints = []\n",
        "\n",
        "  for keypoint in keypoints:\n",
        "    keypoint.pt = tuple(0.5 * array(keypoint.pt))\n",
        "    keypoint.size *= 0.5\n",
        "\n",
        "    # The \"~\" is the bitwise operator. It returns (-x) - 1 (e.g. ~4 = -5)\n",
        "    # The \"|\" operator is the union operator for sets, but here it is used\n",
        "    # as a standard binary operator <- CHECK!!!\n",
        "    keypoint.octave = (keypoint.octave & ~255) | ((keypoint.octave - 1) & 255)\n",
        "\n",
        "    # Add the newly converted keypoint to array\n",
        "    converted_keypoints.append(keypoint)\n",
        "  \n",
        "  return converted_keypoints"
      ],
      "id": "bc12297c",
      "execution_count": 181,
      "outputs": []
    },
    {
      "cell_type": "markdown",
      "metadata": {
        "id": "c4804952"
      },
      "source": [
        "## Descriptor Generation ##"
      ],
      "id": "c4804952"
    },
    {
      "cell_type": "code",
      "metadata": {
        "scrolled": true,
        "id": "656e0f5f"
      },
      "source": [
        "# Compute octave, layer, and scale from a keypoint\n",
        "def unpackOctave(keypoint):\n",
        "    octave = keypoint.octave & 255\n",
        "    layer = (keypoint.octave >> 8) & 255\n",
        "    if octave >= 128:\n",
        "        octave = octave | -128\n",
        "    scale = 1 / float32(1 << octave) if octave >= 0 else float32(1 << -octave)\n",
        "    return octave, layer, scale\n",
        "\n",
        "# Generates the descriptors for each keypoint\n",
        "def generateDescriptors(keypoints, gaussian_images, window_width=4, num_bins=8,\n",
        "                        scale_multiplier=3, descriptor_max_value=0.2):\n",
        "    \n",
        "    descriptors = []\n",
        "\n",
        "    # Iterate through each keypoint\n",
        "    for keypoint in keypoints:\n",
        "        \n",
        "        # Here, we will create a new gradient histogram for each\n",
        "        # keypoint. Then, we also calculate the gradient magnitude\n",
        "        # and orientation of each pixel.\n",
        "        \n",
        "        # Unpack the octave and begin histogram creation\n",
        "        octave, layer, scale = unpackOctave(keypoint)\n",
        "        gaussian_image = gaussian_images[octave + 1, layer]\n",
        "        num_rows, num_cols = gaussian_image.shape\n",
        "        point = round(scale * array(keypoint.pt)).astype('int')\n",
        "        bins_per_degree = num_bins / 360.\n",
        "        \n",
        "        # Work out the orientation\n",
        "        angle = 360. - keypoint.angle\n",
        "        cos_angle = cos(deg2rad(angle))\n",
        "        sin_angle = sin(deg2rad(angle))\n",
        "        weight_multiplier = -0.5 / ((0.5 * window_width) ** 2)\n",
        "        \n",
        "        # We don't actually \"draw\" the histograms, we simply keep track of the\n",
        "        # bin values and bin indexes.\n",
        "        row_bin_list = []\n",
        "        col_bin_list = []\n",
        "        magnitude_list = []\n",
        "        orientation_bin_list = []\n",
        "        \n",
        "        # The first two dimensions are increased by 2 to account for border effects\n",
        "        histogram_tensor = zeros((window_width + 2, window_width + 2, num_bins))   \n",
        "\n",
        "        # Descriptor window size (described by half_width) follows OpenCV convention\n",
        "        hist_width = scale_multiplier * 0.5 * scale * keypoint.size\n",
        "        \n",
        "        # sqrt(2) corresponds to diagonal length of a pixel\n",
        "        half_width = int(round(hist_width * sqrt(2) * (window_width + 1) * 0.5))\n",
        "        \n",
        "        # Ensure half_width lies within image\n",
        "        half_width = int(min(half_width, sqrt(num_rows ** 2 + num_cols ** 2)))     \n",
        "\n",
        "        # Calculating each pixel's (hence iteration) gradient magnitude and orientation\n",
        "        for row in range(-half_width, half_width + 1):\n",
        "            for col in range(-half_width, half_width + 1):\n",
        "                row_rot = col * sin_angle + row * cos_angle\n",
        "                col_rot = col * cos_angle - row * sin_angle\n",
        "                row_bin = (row_rot / hist_width) + 0.5 * window_width - 0.5\n",
        "                col_bin = (col_rot / hist_width) + 0.5 * window_width - 0.5\n",
        "                if row_bin > -1 and row_bin < window_width and col_bin > -1 and col_bin < window_width:\n",
        "                    window_row = int(round(point[1] + row))\n",
        "                    window_col = int(round(point[0] + col))\n",
        "                    if window_row > 0 and window_row < num_rows - 1 and window_col > 0 and window_col < num_cols - 1:\n",
        "                        dx = gaussian_image[window_row, window_col + 1] - gaussian_image[window_row, window_col - 1]\n",
        "                        dy = gaussian_image[window_row - 1, window_col] - gaussian_image[window_row + 1, window_col]\n",
        "                        gradient_magnitude = sqrt(dx * dx + dy * dy)\n",
        "                        gradient_orientation = rad2deg(arctan2(dy, dx)) % 360\n",
        "                        weight = exp(weight_multiplier * ((row_rot / hist_width) ** 2 + (col_rot / hist_width) ** 2))\n",
        "                        row_bin_list.append(row_bin)\n",
        "                        col_bin_list.append(col_bin)\n",
        "                        magnitude_list.append(weight * gradient_magnitude)\n",
        "                        orientation_bin_list.append((gradient_orientation - angle) * bins_per_degree)\n",
        "\n",
        "        for row_bin, col_bin, magnitude, orientation_bin in zip(row_bin_list, col_bin_list, magnitude_list, orientation_bin_list):\n",
        "            \n",
        "            # Smoothing via trilinear interpolation\n",
        "            # Notations follows https://en.wikipedia.org/wiki/Trilinear_interpolation\n",
        "            # Note that we are really doing the inverse of trilinear interpolation here (we take the center value of the cube and distribute it among its eight neighbors)\n",
        "            row_bin_floor, col_bin_floor, orientation_bin_floor = floor([row_bin, col_bin, orientation_bin]).astype(int)\n",
        "            row_fraction, col_fraction, orientation_fraction = row_bin - row_bin_floor, col_bin - col_bin_floor, orientation_bin - orientation_bin_floor\n",
        "            if orientation_bin_floor < 0:\n",
        "                orientation_bin_floor += num_bins\n",
        "            if orientation_bin_floor >= num_bins:\n",
        "                orientation_bin_floor -= num_bins\n",
        "\n",
        "            c1 = magnitude * row_fraction\n",
        "            c0 = magnitude * (1 - row_fraction)\n",
        "            c11 = c1 * col_fraction\n",
        "            c10 = c1 * (1 - col_fraction)\n",
        "            c01 = c0 * col_fraction\n",
        "            c00 = c0 * (1 - col_fraction)\n",
        "            c111 = c11 * orientation_fraction\n",
        "            c110 = c11 * (1 - orientation_fraction)\n",
        "            c101 = c10 * orientation_fraction\n",
        "            c100 = c10 * (1 - orientation_fraction)\n",
        "            c011 = c01 * orientation_fraction\n",
        "            c010 = c01 * (1 - orientation_fraction)\n",
        "            c001 = c00 * orientation_fraction\n",
        "            c000 = c00 * (1 - orientation_fraction)\n",
        "\n",
        "            histogram_tensor[row_bin_floor + 1, col_bin_floor + 1, orientation_bin_floor] += c000\n",
        "            histogram_tensor[row_bin_floor + 1, col_bin_floor + 1, (orientation_bin_floor + 1) % num_bins] += c001\n",
        "            histogram_tensor[row_bin_floor + 1, col_bin_floor + 2, orientation_bin_floor] += c010\n",
        "            histogram_tensor[row_bin_floor + 1, col_bin_floor + 2, (orientation_bin_floor + 1) % num_bins] += c011\n",
        "            histogram_tensor[row_bin_floor + 2, col_bin_floor + 1, orientation_bin_floor] += c100\n",
        "            histogram_tensor[row_bin_floor + 2, col_bin_floor + 1, (orientation_bin_floor + 1) % num_bins] += c101\n",
        "            histogram_tensor[row_bin_floor + 2, col_bin_floor + 2, orientation_bin_floor] += c110\n",
        "            histogram_tensor[row_bin_floor + 2, col_bin_floor + 2, (orientation_bin_floor + 1) % num_bins] += c111\n",
        "\n",
        "        descriptor_vector = histogram_tensor[1:-1, 1:-1, :].flatten()  # Remove histogram borders\n",
        "        # Threshold and normalize descriptor_vector\n",
        "        threshold = norm(descriptor_vector) * descriptor_max_value\n",
        "        descriptor_vector[descriptor_vector > threshold] = threshold\n",
        "        descriptor_vector /= max(norm(descriptor_vector), float_tolerance)\n",
        "        # Multiply by 512, round, and saturate between 0 and 255 to convert from float32 to unsigned char (OpenCV convention)\n",
        "        descriptor_vector = round(512 * descriptor_vector)\n",
        "        descriptor_vector[descriptor_vector < 0] = 0\n",
        "        descriptor_vector[descriptor_vector > 255] = 255\n",
        "        descriptors.append(descriptor_vector)\n",
        "    return array(descriptors, dtype='float32')"
      ],
      "id": "656e0f5f",
      "execution_count": 182,
      "outputs": []
    },
    {
      "cell_type": "markdown",
      "metadata": {
        "id": "1361d15e"
      },
      "source": [
        "## Main SIFT Function ##"
      ],
      "id": "1361d15e"
    },
    {
      "cell_type": "code",
      "metadata": {
        "id": "af2acd70"
      },
      "source": [
        "# Computes the SIFT descriptors and keypoints for a given image\n",
        "def computeKeypointsAndDescriptors(image, sigma=1.6, num_intervals=3, assumed_blur=0.5, image_border_width=5):\n",
        "    \n",
        "    if (VERBOSE_MODE == True):\n",
        "        img_temp = image\n",
        "        image = image.astype('float32')\n",
        "        print(\"GENERATING BASE IMAGE...\")\n",
        "        base_image = generateBaseImage(image, sigma, assumed_blur)\n",
        "        print(\"OK!\")\n",
        "        print(\"COMPUTING OCTAVES...\")\n",
        "        num_octaves = computeOctaves(base_image.shape)\n",
        "        print(\"OK!\")\n",
        "        print(\"GENERATING KERNELS...\")\n",
        "        gaussian_kernels = generateGaussianKernels(sigma, num_intervals)\n",
        "        print(\"OK!\")\n",
        "        print(\"GENERATING GAUSSIAN IMAGES...\")\n",
        "        gaussian_images = generateGaussianImages(base_image, num_octaves, gaussian_kernels)\n",
        "        print(\"OK!\")\n",
        "        print(\"GENERATING DIFFERENCE OF GAUSSIAN IMAGES...\")\n",
        "        dog_images = generateDoGImages(gaussian_images)\n",
        "        print(\"OK!\")\n",
        "        print(\"ATTEMPTING TO FIND SCALE-SPACE EXTREMA... (PLEASE WAIT)\")\n",
        "        keypoints = findScaleSpaceExtrema(gaussian_images, dog_images, num_intervals, sigma, image_border_width)\n",
        "        print(\"OK!\")\n",
        "        print(\"REMOVING DUPLICATE KEYPOINTS...\")\n",
        "        keypoints = removeDuplicateKeypoints(keypoints)\n",
        "        print(\"OK!\")\n",
        "        print(\"CONVERTING KEYPOINTS TO INPUT IMAGE SIZE...\")\n",
        "        keypoints = convertKeypointsToInputImageSize(keypoints)\n",
        "        print(\"OK!\")\n",
        "        print(keypoints)\n",
        "        print(\"GENERATING DESCRIPTORS...\")\n",
        "        descriptors = generateDescriptors(keypoints, gaussian_images)\n",
        "        print(\"OK!\")\n",
        "        print(\"DONE! RETURNING KEYPOINTS AND DESCRIPTORS... (PLEASE WAIT)\")\n",
        "        \n",
        "        return keypoints, descriptors\n",
        "    else:\n",
        "        img_temp = image\n",
        "        image = image.astype('float32')\n",
        "        base_image = generateBaseImage(image, sigma, assumed_blur)\n",
        "        num_octaves = computeOctaves(base_image.shape)\n",
        "        gaussian_kernels = generateGaussianKernels(sigma, num_intervals)\n",
        "        gaussian_images = generateGaussianImages(base_image, num_octaves, gaussian_kernels)\n",
        "        dog_images = generateDoGImages(gaussian_images)\n",
        "        keypoints = findScaleSpaceExtrema(gaussian_images, dog_images, num_intervals, sigma, image_border_width)\n",
        "        keypoints = removeDuplicateKeypoints(keypoints)\n",
        "        keypoints = convertKeypointsToInputImageSize(keypoints)\n",
        "        descriptors = generateDescriptors(keypoints, gaussian_images)\n",
        "        \n",
        "        return keypoints, descriptors\n",
        "    "
      ],
      "id": "af2acd70",
      "execution_count": 183,
      "outputs": []
    },
    {
      "cell_type": "markdown",
      "metadata": {
        "id": "beedad63"
      },
      "source": [
        "# K-Means Clustering Implementation (Step 2) #"
      ],
      "id": "beedad63"
    },
    {
      "cell_type": "code",
      "metadata": {
        "id": "056d5ab0",
        "colab": {
          "base_uri": "https://localhost:8080/",
          "height": 267
        },
        "outputId": "936abb40-be5f-46ef-d74a-69e1d433dbda"
      },
      "source": [
        "img = cv2.imread(\"0007.jpg\")\n",
        "img = cv2.cvtColor(img, cv2.COLOR_BGR2GRAY)\n",
        "\n",
        "kp, desc = computeKeypointsAndDescriptors(img)\n",
        "\n",
        "yeet = cv2.drawKeypoints(img, kp, img, color=(255,0,0))\n",
        "\n",
        "cv2_imshow(yeet)"
      ],
      "id": "056d5ab0",
      "execution_count": 184,
      "outputs": [
        {
          "output_type": "display_data",
          "data": {
            "image/png": "[encoded data removed]",
            "text/plain": [
              "<PIL.Image.Image image mode=RGB size=250x250 at 0x7FACCF3BE550>"
            ]
          },
          "metadata": {}
        }
      ]
    },
    {
      "cell_type": "code",
      "metadata": {
        "id": "aW2jwM5O5BbY"
      },
      "source": [
        "def getOptimumK(desc):\n",
        "  sil = []\n",
        "  base = 2\n",
        "  kmax = 50\n",
        "\n",
        "  for k in range(base, kmax+1):\n",
        "    kmeans = KMeans(n_clusters = k).fit(desc)\n",
        "    labels = kmeans.labels_\n",
        "    sil.append(silhouette_score(desc, labels, metric = 'euclidean'))\n",
        "\n",
        "  plt.plot(range(base,kmax+1), sil, 'bx-')\n",
        "  plt.xlabel('Values of K')\n",
        "  plt.ylabel('Sum of squared distances/Intertia')\n",
        "  plt.title('ehe')\n",
        "  plt.show()\n",
        "\n",
        "  print(sil)\n",
        "\n",
        "  #max = max(sil)\n",
        "\n",
        "  print(np.amax(sil))\n",
        "  optimum_k = sil.index(np.amax(sil)) + base\n",
        "\n",
        "  return optimum_k"
      ],
      "id": "aW2jwM5O5BbY",
      "execution_count": 185,
      "outputs": []
    },
    {
      "cell_type": "code",
      "metadata": {
        "colab": {
          "base_uri": "https://localhost:8080/",
          "height": 685
        },
        "id": "YTc7kWicAhmN",
        "outputId": "ff5f8a94-6d3a-4b04-d0b3-28c17228df4a"
      },
      "source": [
        "# Get Optimum Ks\n",
        "\n",
        "img1 = cv2.imread(\"0007.jpg\")\n",
        "img1 = cv2.cvtColor(img1, cv2.COLOR_BGR2GRAY)\n",
        "img2 = cv2.imread(\"0004.jpg\")\n",
        "img2 = cv2.cvtColor(img2, cv2.COLOR_BGR2GRAY)\n",
        "'''img3 = cv2.imread(\"0019.jpg\")\n",
        "img3 = cv2.cvtColor(img3, cv2.COLOR_BGR2GRAY)'''\n",
        "\n",
        "img_array = [img1, img2]\n",
        "desc_array = []\n",
        "kp_array = []\n",
        "k_array = []\n",
        "\n",
        "\n",
        "# Find optimum K for each image\n",
        "for img in range(len(img_array)):\n",
        "  kp, desc = computeKeypointsAndDescriptors(img_array[img])\n",
        "\n",
        "  #print(desc)\n",
        "  kp_array.append(kp)\n",
        "  desc_array.append(desc)\n",
        "  k_array.append(getOptimumK(desc))\n",
        "\n",
        "print(k_array)\n"
      ],
      "id": "YTc7kWicAhmN",
      "execution_count": 186,
      "outputs": [
        {
          "output_type": "display_data",
          "data": {
            "image/png": "[encoded data removed]",
            "text/plain": [
              "<Figure size 432x288 with 1 Axes>"
            ]
          },
          "metadata": {
            "needs_background": "light"
          }
        },
        {
          "output_type": "stream",
          "name": "stdout",
          "text": [
            "[0.09144106, 0.0645025, 0.062524274, 0.060993165, 0.062311694, 0.06239882, 0.061725955, 0.06176084, 0.06035978, 0.053244334, 0.050643492, 0.052432697, 0.05079645, 0.057333365, 0.054719146, 0.053609762, 0.054924637, 0.052657712, 0.054645255, 0.046347316, 0.050842624, 0.050247055, 0.05208314, 0.05248018, 0.053541396, 0.049926963, 0.051759064, 0.053189933, 0.051849406, 0.04688565, 0.05193923, 0.0406662, 0.049272835, 0.045843765, 0.04681694, 0.04717997, 0.051072255, 0.048243288, 0.04913582, 0.04737975, 0.046564028, 0.048272498, 0.043821454, 0.051501762, 0.047782768, 0.045442034, 0.049516562, 0.0501873, 0.047793783]\n",
            "0.09144106\n"
          ]
        },
        {
          "output_type": "display_data",
          "data": {
            "image/png": "[encoded data removed]",
            "text/plain": [
              "<Figure size 432x288 with 1 Axes>"
            ]
          },
          "metadata": {
            "needs_background": "light"
          }
        },
        {
          "output_type": "stream",
          "name": "stdout",
          "text": [
            "[0.0918795, 0.06527371, 0.073573604, 0.07141603, 0.08001345, 0.08222497, 0.07847357, 0.07323099, 0.0822052, 0.08001901, 0.08257552, 0.08354847, 0.08409267, 0.086991034, 0.088798106, 0.081730895, 0.075741485, 0.077237114, 0.07710857, 0.08454528, 0.07831052, 0.07989462, 0.07903269, 0.0803353, 0.07972464, 0.080747865, 0.07570026, 0.08064561, 0.07958962, 0.076780505, 0.07801382, 0.08062649, 0.07518595, 0.07557381, 0.07206762, 0.077946246, 0.073652625, 0.0749847, 0.07832092, 0.076581456, 0.07792043, 0.06970248, 0.078223236, 0.07697156, 0.07211735, 0.07340507, 0.075836055, 0.07863057, 0.084470555]\n",
            "0.0918795\n",
            "[2, 2]\n"
          ]
        }
      ]
    },
    {
      "cell_type": "code",
      "metadata": {
        "colab": {
          "base_uri": "https://localhost:8080/",
          "height": 568
        },
        "id": "J32nYMI4F5Ky",
        "outputId": "c3db3a43-ab0f-4fdf-aa27-dafd98b621bd"
      },
      "source": [
        "# Stores dictionary of each image\n",
        "set_of_dictionaries = []\n",
        "\n",
        "# Perform K-means clustering for each image\n",
        "for image in range(len(img_array)):\n",
        "  kmeans = KMeans(k_array[image]).fit_predict(desc_array[image])\n",
        "\n",
        "  #kmeans.predict(desc_array[image])\n",
        "\n",
        "  #print(\"CENTRE\")\n",
        "  #print(kmeans.cluster_centers_)\n",
        "  print(kmeans)\n",
        "\n",
        "  dictionary = []\n",
        "\n",
        "  for x in range(k_array[image]):\n",
        "    dictionary.append([])\n",
        "\n",
        "  for i in range(len(kmeans)):\n",
        "    dictionary[kmeans[i]].append(desc_array[image][i])\n",
        "\n",
        "  set_of_dictionaries.append(dictionary)\n",
        "\n",
        "  print(len(dictionary[0]))\n",
        "\n",
        "#for y in set_of_dictionaries:\n",
        "  #print(y)\n",
        "\n",
        "# Stores the clusters of the dictionary\n",
        "#cluster_dictionary = np.empty(len(k_array))\n",
        "\n",
        "#Need to dynamically instantiate array with number of arrays in clustering labels\n",
        "\n",
        "#print(desc_array[0])\n",
        "\n",
        "#print(len(kmeans), len(desc_array[0]))\n",
        "\n",
        "\n",
        "\n",
        "#for x in cluster_dictionary:\n",
        "  #print(x)\n",
        "\n",
        "'''for k in range(len(k_array)):\n",
        "  for x in kmeans:\n",
        "    if x == k:\n",
        "      cluster_dictionary[k].append(desc_array[0][x])\n",
        "#(desc,cluster_index)\n",
        "\n",
        "\n",
        "for cluster_index in range(len(kmeans)):\n",
        "  cluster_dictionary[kmeans[cluster_index]].append((desc_array[0][cluster_index]))\n",
        "  \n",
        "print(len(cluster_dictionary[0]),len(cluster_dictionary[1]),len(cluster_dictionary[2]))'''"
      ],
      "id": "J32nYMI4F5Ky",
      "execution_count": 187,
      "outputs": [
        {
          "output_type": "stream",
          "name": "stdout",
          "text": [
            "[1 0 1 0 1 0 1 1 1 1 1 1 1 1 1 0 0 0 0 0 0 1 0 0 1 1 0 0 1 1 0 0 1 1 1 0 0\n",
            " 1 1 1 1 0 0 1 0 1 0 1 1 0 1 1 0 0 1 0 1 1 1 0 1 1 1 1 1 1 1 1 0 0 1 0 1 0\n",
            " 0 0 1 1 0 1 1 0 0 0 0 0 1 0 0 0 1 1 1 0 0 0 0 0 1 1 0 1 0 1 1 0 1 1 1 1 1\n",
            " 1 1 1 0 1 1 0 0 0 1 1 1 0 1 1 0 0 0 0 1 1 0 0 1 1 1 1 1 1 1 1 1 1 1 0 0 1\n",
            " 0 1 0 1 1 0 1 1 1 1 1 0 0 1 1 1 0 1 0 1 1 0 1 0 0 0 0 1 0 0 0 0 0 0 1 0 0\n",
            " 0 1 1 1 0 0 0 1 1 0 1 0 1 1 1 0 0 0 1 1 1 1 1 1 0 0 1 1 1 0 0 0 0 1 1 1 0\n",
            " 1 1 1 0 1 0 0 1 1 1 1 0 1 0 1 1 1 1 0 0 0 0 1 0 1 0 0 0 1 1 1 1 1 0 1 1 1\n",
            " 1 0 0 0 0 1 1 1 1 1 0 0 0 0 1 1 1 1 0 1 1 1 0 0 0 0 0 0 0 0 0 1 0 1 1 1 1\n",
            " 1 0 0 1 1 1 1 1 1 1 1 1 1 1 1 0 1 0 0 0 1 1 0 1 0 1 1 0 0 1 1 0 1 0 1 0 1\n",
            " 1 0 0 1 1 0 0 0 0 1 1 0 0 0 1 0 1 1 0 1 1 1 1 1 1 1 1 1 1 0 1 0 1 0 0 0 1\n",
            " 1 0 0 0 1 1 0 1 1 0 0 1 1 1 1 1 1 1 1 1 1 0 0 1 1 0 1 0 1 1 1 0 0 0 1 1 0\n",
            " 1 1 0 1 1 1 1 1 0 0 0 0 0 0 1 1 0 1 1 1 1 1 0 0 1 1 1 0 0 1 1 1 1 1 0 1 1\n",
            " 1 0 1 1 1 1 0 0 1 0 0 1 1 1 1 1 1 1 0 1 0 1 0 1 1 1 0 0 1 0 0 0 1 0 1 0 1\n",
            " 1 1 1 0 1 0 1 0 1 1 0 0 0 0 1 0 1 1 1]\n",
            "210\n",
            "[1 0 1 0 1 0 0 0 1 0 1 0 1 1 0 0 1 0 0 1 0 0 0 0 1 0 0 0 0 0 0 1 0 0 1 1 1\n",
            " 1 0 0 0 1 1 0 1 0 0 0 0 1 1 0 0 0 0 1 1 0 0 0 1 1 0 1 1 0 1 0 1 1 0 0 0 0\n",
            " 0 1 1 1 1 1 1 0 1 0 0 0 0 0 0 0 0 0 0 1 0 0 1 1 0 0 0 0 0 1 0 0 0 0 0 0 0\n",
            " 0 0 0 0 0 0 1 0 0 1 1 0 1 0 0 0 1 1 1 0 0 1 0 0 1 0 0 0 1 0 0 0 0 1 1 0 0\n",
            " 1 0 0 0 0 1 1 0 0 1 0 1 0 0 0 0 0 0 0 1 0 1 0 1 1 1 1 0 0 0 1 1 0 0 1 0 0\n",
            " 1 0 1 1 1 0 0 1 1 0 0 0 0 0 0 0 0 0 0 0 1 0 1 1 0 0 0 1 1 0 0 0 0 1 1 0 0\n",
            " 0 1 1 1 1 1 1 0 0 1 1 0 0 1 0 1 0 0 1 0 0 0 0 0 1 1 1 0 0 0 0 0 0 0 0 0 1\n",
            " 1 1 0 0 0 0 1 1 1 1 0 0 0 1 1 1 1 0 0 1 1 0 0 0 0 1 1 0 1 0 1 0 1 1 1 0 1\n",
            " 0 0 1 1 0 1 0 0 0 0 1 1 0 0 0 0 1 0 0 1 1 1 0 0 0 0 1 0 0 0 0 0 0 0 1 1 1\n",
            " 1 0 0 0 0 0 0 0 0 0 0 0 1 1 1 1 0 0 1 1 1]\n",
            "219\n"
          ]
        },
        {
          "output_type": "execute_result",
          "data": {
            "application/vnd.google.colaboratory.intrinsic+json": {
              "type": "string"
            },
            "text/plain": [
              "'for k in range(len(k_array)):\\n  for x in kmeans:\\n    if x == k:\\n      cluster_dictionary[k].append(desc_array[0][x])\\n#(desc,cluster_index)\\n\\n\\nfor cluster_index in range(len(kmeans)):\\n  cluster_dictionary[kmeans[cluster_index]].append((desc_array[0][cluster_index]))\\n  \\nprint(len(cluster_dictionary[0]),len(cluster_dictionary[1]),len(cluster_dictionary[2]))'"
            ]
          },
          "metadata": {},
          "execution_count": 187
        }
      ]
    },
    {
      "cell_type": "code",
      "metadata": {
        "colab": {
          "base_uri": "https://localhost:8080/",
          "height": 135
        },
        "id": "RsKHW9n0hphx",
        "outputId": "e78ebdab-707a-4a8b-d59e-f4377b1b7e43"
      },
      "source": [
        "\n",
        "# Distanecs for each cluster\n",
        "for s in range(len(set_of_dictionaries)):\n",
        "  print(\"Image \", s)\n",
        "  for c in range(len(set_of_dictionaries[s])):\n",
        "    print(\"Cluster \", c)\n",
        "    km = KMeans[]\n",
        "    for d in set_of_dictionaries[c][s]:\n",
        "      # Find distances\n",
        "      \n",
        "      pass#print(d)"
      ],
      "id": "RsKHW9n0hphx",
      "execution_count": 188,
      "outputs": [
        {
          "output_type": "error",
          "ename": "SyntaxError",
          "evalue": "ignored",
          "traceback": [
            "\u001b[0;36m  File \u001b[0;32m\"<ipython-input-188-5d216520f8a7>\"\u001b[0;36m, line \u001b[0;32m7\u001b[0m\n\u001b[0;31m    km = KMeans[]\u001b[0m\n\u001b[0m                ^\u001b[0m\n\u001b[0;31mSyntaxError\u001b[0m\u001b[0;31m:\u001b[0m invalid syntax\n"
          ]
        }
      ]
    },
    {
      "cell_type": "markdown",
      "metadata": {
        "id": "F7_kx_wil7RF"
      },
      "source": [
        "# STEP 3 # \n",
        " Euclidean distance\n",
        " "
      ],
      "id": "F7_kx_wil7RF"
    },
    {
      "cell_type": "code",
      "metadata": {
        "id": "c3e609ba",
        "colab": {
          "base_uri": "https://localhost:8080/"
        },
        "outputId": "74fd36a4-5aa0-4de5-9c83-f9b9516b3728"
      },
      "source": [
        "\n",
        "distances = []\n",
        "\n",
        "\n",
        "for x in range(len(img_array)):\n",
        "    distances.append([])\n",
        "\n",
        "print(distances)\n",
        "\n",
        "for image in range(len(img_array)):\n",
        "\n",
        "  kmeans = KMeans(k_array[image]).fit(desc_array[image])\n",
        "  kmeans.predict(desc_array[image])\n",
        "\n",
        "  #centroids.append(kmeans.cluster_centers_)\n",
        "\n",
        "  #print(kmeans.cluster_centers_)\n",
        "\n",
        "  centroids = kmeans.cluster_centers_\n",
        "\n",
        "  # Euclidean distance of image descriptors with centroids\n",
        "  #subtract descriptos with centroids\n",
        "  for desc in desc_array[image]:\n",
        "    for c in centroids:\n",
        "      distance = np.linalg.norm(desc - c)\n",
        "\n",
        "      distances[image].append(distance)\n",
        "\n",
        "#printing the euclidean distances\n",
        "for d in range(len(img_array)):\n",
        "  print(\"Distances for Image\", d+1)\n",
        "  for x in distances[d]:\n",
        "    print(x)"
      ],
      "id": "c3e609ba",
      "execution_count": 189,
      "outputs": [
        {
          "output_type": "stream",
          "name": "stdout",
          "text": [
            "[[], []]\n",
            "Distances for Image 1\n",
            "472.80386\n",
            "383.89877\n",
            "369.22232\n",
            "429.4323\n",
            "400.23746\n",
            "343.9466\n",
            "325.1764\n",
            "461.61664\n",
            "416.24448\n",
            "362.7045\n",
            "329.6834\n",
            "361.1954\n",
            "462.15436\n",
            "405.9111\n",
            "475.4609\n",
            "385.337\n",
            "482.46448\n",
            "391.05518\n",
            "454.17722\n",
            "398.97772\n",
            "454.03104\n",
            "380.37674\n",
            "427.47464\n",
            "377.62167\n",
            "410.66397\n",
            "328.08633\n",
            "461.63602\n",
            "339.44858\n",
            "476.32492\n",
            "400.87918\n",
            "341.60657\n",
            "438.85486\n",
            "357.67752\n",
            "437.86816\n",
            "390.10413\n",
            "452.06488\n",
            "389.39117\n",
            "436.54794\n",
            "336.42505\n",
            "425.34918\n",
            "337.84326\n",
            "416.54895\n",
            "377.32547\n",
            "311.1524\n",
            "387.2364\n",
            "420.7909\n",
            "372.85638\n",
            "450.9485\n",
            "419.07355\n",
            "365.09482\n",
            "380.80087\n",
            "332.0274\n",
            "349.36362\n",
            "440.3909\n",
            "382.0746\n",
            "436.3075\n",
            "422.30048\n",
            "364.61124\n",
            "397.13593\n",
            "323.60126\n",
            "331.10596\n",
            "426.80203\n",
            "335.4218\n",
            "415.46405\n",
            "433.3236\n",
            "341.07825\n",
            "452.6056\n",
            "347.82507\n",
            "369.73868\n",
            "353.8761\n",
            "342.14844\n",
            "403.26968\n",
            "366.0869\n",
            "435.0452\n",
            "459.95187\n",
            "377.17154\n",
            "405.5743\n",
            "362.58676\n",
            "423.442\n",
            "341.08447\n",
            "378.25375\n",
            "327.4765\n",
            "310.27225\n",
            "430.78677\n",
            "315.98532\n",
            "435.31125\n",
            "449.02475\n",
            "351.77234\n",
            "353.13635\n",
            "384.89136\n",
            "435.80057\n",
            "426.42215\n",
            "465.23596\n",
            "509.95297\n",
            "412.02734\n",
            "360.27646\n",
            "371.51727\n",
            "358.79126\n",
            "343.72183\n",
            "393.96826\n",
            "432.6462\n",
            "388.80423\n",
            "394.97928\n",
            "320.04446\n",
            "405.6628\n",
            "438.11154\n",
            "365.71613\n",
            "435.798\n",
            "428.50473\n",
            "361.75446\n",
            "323.3805\n",
            "393.34885\n",
            "367.4519\n",
            "341.9802\n",
            "442.13135\n",
            "405.7515\n",
            "381.06683\n",
            "355.59235\n",
            "330.78485\n",
            "414.93256\n",
            "402.21368\n",
            "342.666\n",
            "384.5156\n",
            "327.18942\n",
            "403.09433\n",
            "365.84146\n",
            "423.85626\n",
            "389.35593\n",
            "481.407\n",
            "401.38815\n",
            "472.57785\n",
            "380.2908\n",
            "465.98953\n",
            "369.12262\n",
            "452.44287\n",
            "352.08334\n",
            "387.59528\n",
            "446.47107\n",
            "348.73868\n",
            "456.57333\n",
            "454.9257\n",
            "391.40985\n",
            "348.1315\n",
            "445.26157\n",
            "400.5551\n",
            "391.71964\n",
            "396.1596\n",
            "445.45108\n",
            "323.0244\n",
            "408.4523\n",
            "357.30865\n",
            "454.8014\n",
            "396.85757\n",
            "326.38855\n",
            "436.73886\n",
            "329.3512\n",
            "353.27213\n",
            "378.9745\n",
            "425.05576\n",
            "402.46536\n",
            "441.84485\n",
            "377.93134\n",
            "303.2639\n",
            "364.161\n",
            "328.14355\n",
            "405.23642\n",
            "414.59256\n",
            "474.7083\n",
            "412.79715\n",
            "467.77603\n",
            "379.65292\n",
            "445.52823\n",
            "373.65152\n",
            "342.49124\n",
            "353.113\n",
            "440.9991\n",
            "337.04468\n",
            "444.78738\n",
            "313.84192\n",
            "398.22235\n",
            "467.81354\n",
            "400.33835\n",
            "474.0558\n",
            "388.73392\n",
            "407.446\n",
            "385.7126\n",
            "377.2077\n",
            "424.52182\n",
            "381.63684\n",
            "409.1112\n",
            "387.47003\n",
            "455.43668\n",
            "368.79147\n",
            "438.65912\n",
            "375.27893\n",
            "433.0976\n",
            "380.08865\n",
            "313.22818\n",
            "382.26822\n",
            "354.44946\n",
            "320.58127\n",
            "439.58105\n",
            "385.04263\n",
            "319.8502\n",
            "383.85605\n",
            "393.15\n",
            "424.56265\n",
            "354.17108\n",
            "459.10123\n",
            "375.0509\n",
            "367.38412\n",
            "447.92865\n",
            "394.4902\n",
            "348.5951\n",
            "421.49765\n",
            "319.44156\n",
            "438.44052\n",
            "397.8701\n",
            "442.65527\n",
            "390.0609\n",
            "459.14386\n",
            "348.10544\n",
            "427.4653\n",
            "318.55307\n",
            "458.23178\n",
            "347.08157\n",
            "439.55505\n",
            "345.8847\n",
            "326.29947\n",
            "413.33484\n",
            "398.98438\n",
            "391.60574\n",
            "435.32175\n",
            "347.99957\n",
            "333.92697\n",
            "412.52078\n",
            "347.93524\n",
            "427.227\n",
            "351.60706\n",
            "451.2439\n",
            "460.36783\n",
            "390.87646\n",
            "459.1544\n",
            "409.103\n",
            "397.26358\n",
            "339.78217\n",
            "331.26636\n",
            "338.28952\n",
            "434.4319\n",
            "343.40222\n",
            "456.60226\n",
            "335.90326\n",
            "305.76132\n",
            "445.90503\n",
            "354.358\n",
            "455.98358\n",
            "365.39795\n",
            "422.41153\n",
            "377.3528\n",
            "428.8415\n",
            "460.63113\n",
            "365.94684\n",
            "473.29373\n",
            "390.6712\n",
            "330.9255\n",
            "442.67148\n",
            "360.2893\n",
            "447.5255\n",
            "402.69507\n",
            "332.15967\n",
            "410.06854\n",
            "327.68893\n",
            "449.5212\n",
            "351.47598\n",
            "414.56046\n",
            "345.91464\n",
            "407.1857\n",
            "337.43216\n",
            "422.28104\n",
            "316.8534\n",
            "426.68182\n",
            "398.7733\n",
            "406.153\n",
            "352.75797\n",
            "450.54688\n",
            "365.8696\n",
            "458.76608\n",
            "392.66122\n",
            "446.87393\n",
            "368.37018\n",
            "323.43903\n",
            "429.83334\n",
            "358.0306\n",
            "425.20715\n",
            "476.28586\n",
            "367.87686\n",
            "330.16934\n",
            "403.02628\n",
            "408.7548\n",
            "343.0796\n",
            "323.66815\n",
            "441.19507\n",
            "448.20468\n",
            "380.9153\n",
            "464.31967\n",
            "361.04367\n",
            "335.27744\n",
            "400.62845\n",
            "433.59778\n",
            "399.03738\n",
            "469.96045\n",
            "378.79654\n",
            "395.5672\n",
            "328.56284\n",
            "461.39682\n",
            "361.03366\n",
            "461.59235\n",
            "382.5631\n",
            "382.91162\n",
            "389.70944\n",
            "346.0059\n",
            "383.95987\n",
            "433.3665\n",
            "316.23914\n",
            "392.2926\n",
            "311.43445\n",
            "465.2352\n",
            "397.09555\n",
            "304.32507\n",
            "392.3204\n",
            "409.0229\n",
            "379.81848\n",
            "348.22125\n",
            "371.55743\n",
            "413.02414\n",
            "392.47043\n",
            "438.1387\n",
            "380.20276\n",
            "352.40826\n",
            "432.3608\n",
            "442.42676\n",
            "346.00037\n",
            "384.83975\n",
            "437.45013\n",
            "325.64276\n",
            "394.4443\n",
            "344.86273\n",
            "403.14032\n",
            "350.26395\n",
            "445.11163\n",
            "384.01944\n",
            "306.6451\n",
            "347.58316\n",
            "398.14334\n",
            "370.80835\n",
            "448.4788\n",
            "345.36224\n",
            "388.3885\n",
            "339.01727\n",
            "434.25372\n",
            "346.24792\n",
            "401.28275\n",
            "323.70618\n",
            "427.90344\n",
            "423.18982\n",
            "348.12064\n",
            "341.80563\n",
            "428.6226\n",
            "328.9617\n",
            "462.50983\n",
            "347.1894\n",
            "419.62817\n",
            "402.6741\n",
            "350.4232\n",
            "459.12973\n",
            "387.50153\n",
            "464.05963\n",
            "386.9366\n",
            "366.49954\n",
            "387.36462\n",
            "316.9305\n",
            "390.13068\n",
            "352.18762\n",
            "423.8342\n",
            "410.07767\n",
            "343.25394\n",
            "396.38712\n",
            "315.33063\n",
            "374.81555\n",
            "422.90268\n",
            "416.6446\n",
            "300.36563\n",
            "338.2122\n",
            "417.66843\n",
            "394.1405\n",
            "294.3056\n",
            "421.25787\n",
            "340.89084\n",
            "412.7826\n",
            "332.45752\n",
            "336.17596\n",
            "413.69824\n",
            "313.90002\n",
            "441.16455\n",
            "319.4782\n",
            "423.92978\n",
            "426.98303\n",
            "385.94608\n",
            "440.5169\n",
            "360.99084\n",
            "453.61185\n",
            "342.4679\n",
            "417.72626\n",
            "371.49832\n",
            "436.8361\n",
            "300.39542\n",
            "478.01758\n",
            "369.9773\n",
            "313.02664\n",
            "427.88644\n",
            "318.73053\n",
            "451.05392\n",
            "357.575\n",
            "342.77786\n",
            "431.03967\n",
            "339.58527\n",
            "453.5137\n",
            "346.198\n",
            "345.27777\n",
            "423.44638\n",
            "379.85547\n",
            "448.313\n",
            "354.99472\n",
            "446.43298\n",
            "320.70087\n",
            "445.96152\n",
            "417.57184\n",
            "342.43466\n",
            "448.93362\n",
            "392.87653\n",
            "339.20068\n",
            "329.13376\n",
            "351.166\n",
            "402.0743\n",
            "403.10358\n",
            "331.31833\n",
            "443.64304\n",
            "365.456\n",
            "425.7699\n",
            "390.09143\n",
            "328.50986\n",
            "446.94363\n",
            "359.67166\n",
            "331.8142\n",
            "352.46146\n",
            "448.86514\n",
            "319.54974\n",
            "449.29724\n",
            "432.63492\n",
            "372.23846\n",
            "421.41135\n",
            "330.7119\n",
            "412.74396\n",
            "344.0623\n",
            "423.4947\n",
            "329.04608\n",
            "332.54712\n",
            "446.26382\n",
            "431.579\n",
            "343.85007\n",
            "306.5888\n",
            "442.1315\n",
            "443.0152\n",
            "373.2987\n",
            "420.79608\n",
            "342.52618\n",
            "438.93787\n",
            "374.77246\n",
            "433.55435\n",
            "383.7116\n",
            "318.45654\n",
            "412.95004\n",
            "316.64438\n",
            "414.7041\n",
            "330.38086\n",
            "413.30725\n",
            "326.28784\n",
            "382.9433\n",
            "417.89282\n",
            "327.19547\n",
            "378.45944\n",
            "432.96652\n",
            "454.70026\n",
            "330.37338\n",
            "332.18265\n",
            "431.92374\n",
            "367.9865\n",
            "448.78912\n",
            "323.3113\n",
            "467.23407\n",
            "428.47964\n",
            "351.99527\n",
            "442.01773\n",
            "379.46643\n",
            "469.01712\n",
            "361.08954\n",
            "448.28094\n",
            "368.2004\n",
            "424.07266\n",
            "346.6946\n",
            "337.33136\n",
            "390.00854\n",
            "418.52545\n",
            "367.07278\n",
            "421.30695\n",
            "354.10388\n",
            "411.9032\n",
            "342.69052\n",
            "389.31223\n",
            "322.1817\n",
            "343.64352\n",
            "427.34088\n",
            "316.02045\n",
            "460.10648\n",
            "369.3377\n",
            "385.15527\n",
            "362.04404\n",
            "415.8615\n",
            "483.79688\n",
            "359.0448\n",
            "475.84546\n",
            "392.09756\n",
            "404.57608\n",
            "346.58203\n",
            "434.58594\n",
            "380.05386\n",
            "433.46118\n",
            "358.79236\n",
            "378.09003\n",
            "463.6688\n",
            "398.2497\n",
            "424.96994\n",
            "408.39764\n",
            "474.4566\n",
            "385.5462\n",
            "487.43533\n",
            "399.01184\n",
            "354.4894\n",
            "492.40213\n",
            "401.26434\n",
            "407.78152\n",
            "342.7865\n",
            "434.8049\n",
            "390.53317\n",
            "377.03217\n",
            "405.35458\n",
            "377.2117\n",
            "356.43005\n",
            "416.73477\n",
            "346.26657\n",
            "356.08298\n",
            "352.41376\n",
            "381.46097\n",
            "436.5398\n",
            "376.8212\n",
            "436.77893\n",
            "346.56213\n",
            "458.20657\n",
            "344.46835\n",
            "423.00452\n",
            "344.73294\n",
            "432.56396\n",
            "316.352\n",
            "375.23798\n",
            "353.33566\n",
            "385.5781\n",
            "363.9904\n",
            "450.7766\n",
            "344.51016\n",
            "441.81003\n",
            "397.2283\n",
            "359.1221\n",
            "335.61\n",
            "428.094\n",
            "442.32745\n",
            "365.48856\n",
            "429.39355\n",
            "353.84412\n",
            "435.97876\n",
            "327.75543\n",
            "426.66592\n",
            "366.58704\n",
            "415.27628\n",
            "343.80957\n",
            "322.60852\n",
            "439.367\n",
            "347.47424\n",
            "433.4047\n",
            "414.23032\n",
            "371.61545\n",
            "418.46082\n",
            "340.7856\n",
            "429.231\n",
            "379.6284\n",
            "442.82166\n",
            "369.85458\n",
            "455.61914\n",
            "372.6909\n",
            "476.4692\n",
            "375.337\n",
            "456.4033\n",
            "372.6912\n",
            "434.06232\n",
            "349.81357\n",
            "480.3496\n",
            "391.55872\n",
            "466.81827\n",
            "388.52502\n",
            "443.06778\n",
            "388.42953\n",
            "458.39575\n",
            "375.36658\n",
            "347.95013\n",
            "404.11072\n",
            "425.65723\n",
            "338.51175\n",
            "375.68256\n",
            "409.6444\n",
            "347.9597\n",
            "457.51822\n",
            "325.21323\n",
            "480.35358\n",
            "425.1605\n",
            "352.94437\n",
            "464.0413\n",
            "359.73505\n",
            "342.25208\n",
            "425.97263\n",
            "395.8657\n",
            "328.2252\n",
            "368.2352\n",
            "458.5131\n",
            "422.46066\n",
            "338.047\n",
            "427.16092\n",
            "319.1887\n",
            "349.8518\n",
            "391.21634\n",
            "361.96396\n",
            "365.3569\n",
            "389.67184\n",
            "315.9787\n",
            "387.11035\n",
            "318.72968\n",
            "373.0158\n",
            "382.2626\n",
            "455.16803\n",
            "382.607\n",
            "360.7196\n",
            "394.58264\n",
            "365.03732\n",
            "355.97845\n",
            "331.5612\n",
            "426.16324\n",
            "404.41818\n",
            "344.0184\n",
            "411.77872\n",
            "344.3802\n",
            "371.7735\n",
            "474.8392\n",
            "322.46085\n",
            "440.66495\n",
            "425.1929\n",
            "369.97495\n",
            "426.81012\n",
            "362.25525\n",
            "332.78918\n",
            "381.2108\n",
            "379.32632\n",
            "406.16495\n",
            "362.3484\n",
            "461.92993\n",
            "363.20126\n",
            "443.8143\n",
            "392.14008\n",
            "390.3237\n",
            "370.13174\n",
            "354.32404\n",
            "456.99146\n",
            "481.19226\n",
            "406.8732\n",
            "431.0066\n",
            "423.74274\n",
            "448.94446\n",
            "397.02618\n",
            "390.0835\n",
            "370.05173\n",
            "372.1993\n",
            "370.0156\n",
            "356.36304\n",
            "393.2038\n",
            "334.00903\n",
            "385.34024\n",
            "416.28787\n",
            "363.76672\n",
            "347.79245\n",
            "428.43176\n",
            "314.37656\n",
            "489.17844\n",
            "403.61285\n",
            "494.48987\n",
            "390.22452\n",
            "465.8778\n",
            "376.71814\n",
            "461.848\n",
            "364.22\n",
            "488.68518\n",
            "408.04443\n",
            "441.40768\n",
            "404.57693\n",
            "406.41614\n",
            "341.31305\n",
            "465.25934\n",
            "367.17157\n",
            "372.7084\n",
            "426.40353\n",
            "440.53583\n",
            "376.35483\n",
            "305.0689\n",
            "408.94437\n",
            "443.42474\n",
            "375.70013\n",
            "413.0283\n",
            "434.18146\n",
            "389.30893\n",
            "445.0951\n",
            "382.2625\n",
            "471.44446\n",
            "416.5956\n",
            "362.70593\n",
            "432.11362\n",
            "362.20862\n",
            "364.2133\n",
            "438.40515\n",
            "389.95822\n",
            "414.86475\n",
            "376.02576\n",
            "400.46408\n",
            "474.8694\n",
            "364.38193\n",
            "470.2468\n",
            "384.55884\n",
            "369.97626\n",
            "399.70578\n",
            "420.0374\n",
            "322.08118\n",
            "436.01364\n",
            "335.6471\n",
            "438.92654\n",
            "475.0453\n",
            "425.29318\n",
            "459.61285\n",
            "448.9377\n",
            "365.55392\n",
            "394.61438\n",
            "299.6759\n",
            "420.01242\n",
            "339.048\n",
            "400.4123\n",
            "357.60516\n",
            "424.16193\n",
            "374.9732\n",
            "431.51624\n",
            "353.31848\n",
            "450.03198\n",
            "402.91385\n",
            "456.29553\n",
            "374.96155\n",
            "391.5777\n",
            "314.03906\n",
            "414.5192\n",
            "344.0528\n",
            "364.86346\n",
            "433.86298\n",
            "336.9924\n",
            "404.4077\n",
            "415.3542\n",
            "335.9126\n",
            "429.92108\n",
            "324.55478\n",
            "313.783\n",
            "422.20316\n",
            "389.32306\n",
            "347.3782\n",
            "376.23926\n",
            "414.45456\n",
            "418.42197\n",
            "401.10358\n",
            "403.3602\n",
            "387.80835\n",
            "446.08835\n",
            "335.7185\n",
            "353.09778\n",
            "432.7646\n",
            "341.7637\n",
            "433.17566\n",
            "310.92133\n",
            "449.40244\n",
            "447.77777\n",
            "335.07486\n",
            "379.01486\n",
            "327.86072\n",
            "309.27014\n",
            "406.0369\n",
            "395.65466\n",
            "344.5521\n",
            "431.07678\n",
            "362.5598\n",
            "286.9223\n",
            "402.4767\n",
            "476.21008\n",
            "391.95383\n",
            "421.84387\n",
            "374.98572\n",
            "476.97742\n",
            "389.72894\n",
            "478.17395\n",
            "399.29535\n",
            "392.99448\n",
            "329.88782\n",
            "344.52646\n",
            "407.48196\n",
            "363.92035\n",
            "451.42758\n",
            "358.594\n",
            "397.6831\n",
            "347.42062\n",
            "413.32703\n",
            "387.10977\n",
            "438.238\n",
            "417.4165\n",
            "449.32047\n",
            "377.95175\n",
            "357.532\n",
            "408.4488\n",
            "352.35205\n",
            "380.23895\n",
            "446.70828\n",
            "447.28964\n",
            "357.35413\n",
            "440.7618\n",
            "343.42157\n",
            "439.65714\n",
            "337.5763\n",
            "388.37598\n",
            "348.5741\n",
            "435.08575\n",
            "348.3703\n",
            "383.59747\n",
            "439.54724\n",
            "366.21698\n",
            "405.4608\n",
            "388.05847\n",
            "315.40704\n",
            "391.68625\n",
            "293.79602\n",
            "482.85477\n",
            "397.03525\n",
            "343.2747\n",
            "449.60968\n",
            "321.50183\n",
            "425.01965\n",
            "404.81192\n",
            "387.07632\n",
            "470.24295\n",
            "407.77243\n",
            "447.98724\n",
            "378.8337\n",
            "422.68536\n",
            "342.32034\n",
            "417.42557\n",
            "329.9877\n",
            "334.06763\n",
            "431.89844\n",
            "412.98926\n",
            "323.42993\n",
            "498.41852\n",
            "390.72733\n",
            "380.03845\n",
            "367.89236\n",
            "375.71936\n",
            "410.12012\n",
            "439.49023\n",
            "342.7483\n",
            "426.03415\n",
            "336.44498\n",
            "432.41922\n",
            "345.08926\n",
            "399.89713\n",
            "354.21173\n",
            "418.36523\n",
            "446.9638\n",
            "397.8837\n",
            "433.13022\n",
            "461.7523\n",
            "371.80246\n",
            "378.65887\n",
            "428.98578\n",
            "374.85388\n",
            "432.4009\n",
            "356.94516\n",
            "348.4564\n",
            "449.66116\n",
            "386.4455\n",
            "414.99207\n",
            "388.59714\n",
            "472.87534\n",
            "375.03107\n",
            "489.15506\n",
            "425.00995\n",
            "372.81128\n",
            "352.82938\n",
            "388.79364\n",
            "365.93845\n",
            "406.3839\n",
            "441.9424\n",
            "463.70892\n",
            "344.45782\n",
            "368.1872\n",
            "400.84656\n",
            "459.53757\n",
            "357.85468\n",
            "393.44138\n",
            "405.66486\n",
            "452.2405\n",
            "372.23483\n",
            "463.65665\n",
            "407.93973\n",
            "473.9284\n",
            "412.0463\n",
            "395.11813\n",
            "478.9894\n",
            "423.58905\n",
            "489.8132\n",
            "432.34924\n",
            "326.45764\n",
            "406.9331\n",
            "457.12723\n",
            "404.0635\n",
            "427.9633\n",
            "405.39853\n",
            "416.18713\n",
            "461.29208\n",
            "371.10147\n",
            "372.11163\n",
            "415.64172\n",
            "481.30444\n",
            "375.86142\n",
            "316.1889\n",
            "425.12015\n",
            "460.1123\n",
            "389.2826\n",
            "464.59073\n",
            "365.95868\n",
            "425.0821\n",
            "310.4226\n",
            "469.6186\n",
            "342.58405\n",
            "357.567\n",
            "422.25073\n",
            "480.72742\n",
            "408.90625\n",
            "363.61475\n",
            "373.26523\n",
            "411.53796\n",
            "317.58984\n",
            "361.14676\n",
            "367.65994\n",
            "373.78348\n",
            "364.00012\n",
            "403.69525\n",
            "394.0436\n",
            "412.8257\n",
            "422.14948\n",
            "383.71136\n",
            "431.38254\n",
            "368.3532\n",
            "476.36185\n",
            "348.5503\n",
            "477.18137\n",
            "409.18753\n",
            "347.3172\n",
            "349.22174\n",
            "447.95724\n",
            "406.45294\n",
            "359.02496\n",
            "367.82715\n",
            "352.5863\n",
            "452.76755\n",
            "352.38266\n",
            "Distances for Image 2\n",
            "376.1829\n",
            "477.0945\n",
            "447.9551\n",
            "359.7682\n",
            "337.77878\n",
            "457.93756\n",
            "456.68097\n",
            "369.5641\n",
            "330.71405\n",
            "454.61267\n",
            "433.80048\n",
            "341.19122\n",
            "455.95926\n",
            "364.67947\n",
            "440.94064\n",
            "377.1547\n",
            "386.54208\n",
            "446.7381\n",
            "427.31192\n",
            "341.82904\n",
            "378.20654\n",
            "413.22958\n",
            "401.89502\n",
            "376.09677\n",
            "345.69064\n",
            "448.4047\n",
            "349.4636\n",
            "460.47205\n",
            "432.25134\n",
            "363.26556\n",
            "460.29813\n",
            "383.16815\n",
            "332.01285\n",
            "433.94318\n",
            "402.5392\n",
            "314.22464\n",
            "439.84473\n",
            "394.4199\n",
            "382.4184\n",
            "453.55817\n",
            "431.10562\n",
            "382.68912\n",
            "441.05377\n",
            "393.16064\n",
            "442.59763\n",
            "391.09103\n",
            "451.55814\n",
            "388.16116\n",
            "341.77222\n",
            "423.39026\n",
            "449.44205\n",
            "352.27066\n",
            "453.92108\n",
            "376.89816\n",
            "462.1096\n",
            "397.08572\n",
            "451.7176\n",
            "389.49973\n",
            "452.6438\n",
            "390.7538\n",
            "450.0839\n",
            "371.7535\n",
            "371.29465\n",
            "409.84863\n",
            "428.10846\n",
            "318.0745\n",
            "421.101\n",
            "341.058\n",
            "361.34567\n",
            "454.2508\n",
            "349.4962\n",
            "388.85385\n",
            "371.08038\n",
            "445.8144\n",
            "319.62317\n",
            "379.33514\n",
            "380.9063\n",
            "344.1923\n",
            "369.94464\n",
            "329.15826\n",
            "423.6709\n",
            "351.6188\n",
            "318.6128\n",
            "456.4501\n",
            "371.19458\n",
            "458.1258\n",
            "426.97778\n",
            "339.35272\n",
            "385.6688\n",
            "456.42535\n",
            "455.2145\n",
            "379.18195\n",
            "368.50198\n",
            "332.45642\n",
            "430.46457\n",
            "386.7805\n",
            "384.36823\n",
            "303.97733\n",
            "366.1425\n",
            "388.25543\n",
            "358.0125\n",
            "458.0143\n",
            "392.78217\n",
            "321.88257\n",
            "417.4168\n",
            "359.5338\n",
            "419.1041\n",
            "326.69882\n",
            "374.01462\n",
            "335.43015\n",
            "348.77472\n",
            "456.57816\n",
            "363.51105\n",
            "415.36615\n",
            "464.41174\n",
            "417.02377\n",
            "461.88913\n",
            "403.99756\n",
            "437.20667\n",
            "376.50818\n",
            "343.53735\n",
            "453.59875\n",
            "328.4914\n",
            "453.77933\n",
            "419.75085\n",
            "384.45642\n",
            "363.23657\n",
            "413.2094\n",
            "382.06967\n",
            "398.16098\n",
            "444.63147\n",
            "395.4092\n",
            "341.96832\n",
            "386.27466\n",
            "437.53024\n",
            "348.05618\n",
            "378.7345\n",
            "464.32806\n",
            "362.54453\n",
            "408.83456\n",
            "458.10388\n",
            "413.4395\n",
            "427.8831\n",
            "335.06265\n",
            "472.65283\n",
            "366.60275\n",
            "458.60544\n",
            "372.84796\n",
            "404.36777\n",
            "354.34436\n",
            "373.02728\n",
            "471.67682\n",
            "376.7394\n",
            "414.80856\n",
            "359.05136\n",
            "439.59616\n",
            "356.8235\n",
            "441.90564\n",
            "380.89993\n",
            "457.82895\n",
            "351.32645\n",
            "428.1547\n",
            "429.51767\n",
            "368.22226\n",
            "353.71182\n",
            "452.61346\n",
            "443.71332\n",
            "359.4277\n",
            "427.38208\n",
            "392.9911\n",
            "441.8185\n",
            "386.73868\n",
            "367.08295\n",
            "287.41663\n",
            "393.24136\n",
            "308.98447\n",
            "466.72784\n",
            "389.17755\n",
            "472.55557\n",
            "417.21832\n",
            "381.73257\n",
            "309.71808\n",
            "462.0717\n",
            "346.71698\n",
            "351.60532\n",
            "337.81662\n",
            "333.18124\n",
            "430.5735\n",
            "396.1718\n",
            "342.1849\n",
            "381.99182\n",
            "317.75677\n",
            "384.95044\n",
            "475.75922\n",
            "356.62234\n",
            "398.8409\n",
            "418.17514\n",
            "345.45648\n",
            "404.00693\n",
            "370.12558\n",
            "456.08426\n",
            "391.27893\n",
            "454.62427\n",
            "344.19794\n",
            "434.60614\n",
            "365.2102\n",
            "377.4948\n",
            "431.47357\n",
            "457.5891\n",
            "411.91315\n",
            "410.95715\n",
            "339.59702\n",
            "431.70312\n",
            "366.701\n",
            "391.14636\n",
            "330.096\n",
            "400.22803\n",
            "342.0769\n",
            "382.38867\n",
            "357.21204\n",
            "415.6674\n",
            "328.12167\n",
            "403.51746\n",
            "366.04553\n",
            "449.88834\n",
            "377.1684\n",
            "454.61734\n",
            "396.92334\n",
            "396.40817\n",
            "349.56332\n",
            "428.32422\n",
            "305.44662\n",
            "369.41504\n",
            "310.72797\n",
            "331.7353\n",
            "431.33786\n",
            "438.7119\n",
            "373.36014\n",
            "436.0192\n",
            "358.56357\n",
            "367.5265\n",
            "425.19943\n",
            "366.0156\n",
            "424.10178\n",
            "360.81628\n",
            "311.57755\n",
            "327.26102\n",
            "335.06\n",
            "412.76434\n",
            "325.9176\n",
            "374.47037\n",
            "334.53625\n",
            "395.72168\n",
            "348.1697\n",
            "318.3368\n",
            "382.14218\n",
            "383.91327\n",
            "447.6506\n",
            "401.74646\n",
            "458.99628\n",
            "409.19525\n",
            "350.27448\n",
            "391.38568\n",
            "351.60306\n",
            "366.2372\n",
            "445.245\n",
            "428.76694\n",
            "359.84558\n",
            "426.34372\n",
            "339.61356\n",
            "439.42648\n",
            "510.3485\n",
            "395.64935\n",
            "299.67365\n",
            "425.49252\n",
            "400.92245\n",
            "450.63376\n",
            "400.53815\n",
            "314.34805\n",
            "429.46533\n",
            "427.44452\n",
            "330.5333\n",
            "440.78293\n",
            "381.66754\n",
            "441.48584\n",
            "388.87332\n",
            "433.5424\n",
            "337.95483\n",
            "363.502\n",
            "447.70914\n",
            "349.66473\n",
            "387.43152\n",
            "414.15973\n",
            "365.56784\n",
            "460.0426\n",
            "319.88022\n",
            "350.87546\n",
            "365.5309\n",
            "404.9052\n",
            "338.47147\n",
            "377.14282\n",
            "349.55756\n",
            "394.7615\n",
            "343.34027\n",
            "422.9642\n",
            "343.06036\n",
            "313.90637\n",
            "413.47037\n",
            "322.17255\n",
            "452.60483\n",
            "404.7935\n",
            "334.65216\n",
            "399.47644\n",
            "353.22003\n",
            "328.23386\n",
            "434.3792\n",
            "430.4275\n",
            "381.13583\n",
            "346.47174\n",
            "421.29373\n",
            "437.4528\n",
            "374.9992\n",
            "390.01135\n",
            "341.35202\n",
            "439.9288\n",
            "389.53934\n",
            "423.38727\n",
            "394.1076\n",
            "391.20612\n",
            "369.2549\n",
            "434.80246\n",
            "378.27948\n",
            "410.16873\n",
            "362.5197\n",
            "357.1556\n",
            "418.93237\n",
            "432.25183\n",
            "377.6772\n",
            "302.92017\n",
            "426.37354\n",
            "436.21652\n",
            "376.92545\n",
            "355.0024\n",
            "446.15353\n",
            "318.61838\n",
            "417.81738\n",
            "340.63058\n",
            "366.5387\n",
            "356.17203\n",
            "455.0976\n",
            "437.41275\n",
            "337.99127\n",
            "492.6856\n",
            "420.3306\n",
            "459.95126\n",
            "363.26587\n",
            "367.81433\n",
            "468.3551\n",
            "359.8568\n",
            "372.9713\n",
            "505.79468\n",
            "405.86966\n",
            "482.41074\n",
            "380.79492\n",
            "351.75565\n",
            "407.27832\n",
            "443.97525\n",
            "371.94473\n",
            "375.5083\n",
            "304.00894\n",
            "330.33218\n",
            "383.64178\n",
            "465.33154\n",
            "368.59918\n",
            "331.2699\n",
            "393.09567\n",
            "416.28802\n",
            "479.44522\n",
            "396.51315\n",
            "427.2452\n",
            "425.79343\n",
            "341.4079\n",
            "428.7674\n",
            "359.9092\n",
            "383.0066\n",
            "411.93646\n",
            "352.8236\n",
            "360.31265\n",
            "426.53705\n",
            "325.64413\n",
            "396.04904\n",
            "390.7005\n",
            "461.13586\n",
            "373.80206\n",
            "406.33344\n",
            "362.69586\n",
            "426.11218\n",
            "383.6649\n",
            "436.06384\n",
            "361.36877\n",
            "420.70496\n",
            "333.5424\n",
            "406.341\n",
            "358.21896\n",
            "411.42368\n",
            "342.91168\n",
            "367.7176\n",
            "349.8016\n",
            "372.17648\n",
            "361.73587\n",
            "339.73233\n",
            "388.39688\n",
            "440.33408\n",
            "371.44232\n",
            "372.431\n",
            "438.93863\n",
            "390.7028\n",
            "414.12607\n",
            "500.06503\n",
            "385.57486\n",
            "489.57245\n",
            "375.0015\n",
            "387.35107\n",
            "365.12167\n",
            "358.56772\n",
            "432.68924\n",
            "364.2669\n",
            "426.29025\n",
            "450.1063\n",
            "387.7727\n",
            "439.8543\n",
            "373.5323\n",
            "482.45746\n",
            "395.49994\n",
            "488.5511\n",
            "410.60385\n",
            "339.93723\n",
            "402.90353\n",
            "371.68655\n",
            "404.3845\n",
            "481.32523\n",
            "362.38568\n",
            "476.88052\n",
            "389.4107\n",
            "477.44058\n",
            "361.25827\n",
            "373.95163\n",
            "430.02472\n",
            "384.57004\n",
            "433.56128\n",
            "418.3898\n",
            "470.54333\n",
            "409.05505\n",
            "456.5608\n",
            "377.16464\n",
            "414.2606\n",
            "349.08795\n",
            "439.34708\n",
            "412.05777\n",
            "342.58582\n",
            "460.2545\n",
            "383.0052\n",
            "401.7751\n",
            "476.288\n",
            "339.60645\n",
            "436.62878\n",
            "443.2927\n",
            "382.55685\n",
            "420.55063\n",
            "298.43582\n",
            "397.8941\n",
            "486.5288\n",
            "406.50372\n",
            "391.31305\n",
            "407.1767\n",
            "480.94028\n",
            "496.31445\n",
            "403.68466\n",
            "486.94812\n",
            "371.30945\n",
            "383.01862\n",
            "430.33694\n",
            "479.50787\n",
            "372.8618\n",
            "474.0418\n",
            "382.47565\n",
            "485.36017\n",
            "382.09436\n",
            "387.86902\n",
            "355.68323\n",
            "387.95752\n",
            "307.22537\n",
            "387.58084\n",
            "427.06335\n",
            "389.4123\n",
            "466.34024\n",
            "289.1851\n",
            "431.61496\n",
            "497.42725\n",
            "398.3111\n",
            "490.854\n",
            "381.6385\n",
            "399.54477\n",
            "297.43808\n",
            "495.61453\n",
            "333.39502\n",
            "465.179\n",
            "374.0855\n",
            "431.65735\n",
            "263.1874\n",
            "430.8869\n",
            "338.7577\n",
            "453.49994\n",
            "362.3336\n",
            "402.28036\n",
            "314.19354\n",
            "360.90384\n",
            "432.2401\n",
            "307.48566\n",
            "440.69174\n",
            "376.4197\n",
            "478.50903\n",
            "401.8514\n",
            "292.86255\n",
            "472.6579\n",
            "372.58682\n",
            "426.81506\n",
            "365.26712\n",
            "469.07623\n",
            "382.2561\n",
            "366.79788\n",
            "440.40637\n",
            "358.36407\n",
            "431.22928\n",
            "417.8505\n",
            "476.07993\n",
            "326.2271\n",
            "424.25342\n",
            "474.46112\n",
            "369.08688\n",
            "452.9934\n",
            "370.00394\n",
            "423.06586\n",
            "354.94254\n",
            "388.20645\n",
            "424.7669\n",
            "336.9223\n",
            "359.1664\n",
            "382.3798\n",
            "397.02103\n",
            "334.7602\n",
            "347.7906\n",
            "482.4324\n",
            "375.26782\n",
            "392.01053\n",
            "302.73367\n",
            "402.57352\n",
            "443.25314\n",
            "341.33295\n",
            "393.77536\n",
            "482.27927\n",
            "398.0343\n",
            "494.52112\n",
            "378.77466\n",
            "482.5953\n",
            "404.25684\n",
            "478.94156\n",
            "380.34003\n",
            "365.6686\n",
            "437.54163\n",
            "373.2429\n",
            "396.68008\n",
            "450.86514\n",
            "357.9138\n",
            "374.4667\n",
            "432.58835\n",
            "466.7466\n",
            "401.65707\n",
            "341.3433\n",
            "426.6167\n",
            "463.20172\n",
            "353.2742\n",
            "366.1601\n",
            "451.34177\n",
            "345.9966\n",
            "378.5729\n",
            "414.01407\n",
            "476.651\n",
            "382.4437\n",
            "357.92242\n",
            "431.35425\n",
            "452.76276\n",
            "413.5553\n",
            "355.37704\n",
            "374.34006\n",
            "330.74133\n",
            "396.88046\n",
            "460.1704\n",
            "337.64566\n",
            "432.91187\n",
            "450.9668\n",
            "386.4995\n",
            "405.4397\n",
            "444.0597\n",
            "441.62222\n",
            "371.21402\n",
            "373.02896\n",
            "365.3463\n",
            "420.10788\n",
            "390.17242\n",
            "422.54285\n",
            "356.12006\n",
            "376.64838\n",
            "479.27383\n",
            "373.38556\n",
            "396.54028\n",
            "388.69778\n",
            "341.62384\n",
            "408.09134\n",
            "373.78537\n",
            "460.74567\n",
            "378.7316\n",
            "412.6865\n",
            "318.62637\n",
            "374.03873\n",
            "396.34854\n",
            "450.4518\n",
            "382.89374\n",
            "392.29385\n",
            "351.7393\n",
            "348.15967\n",
            "457.95856\n",
            "338.51236\n",
            "440.06406\n",
            "363.47968\n",
            "462.38867\n",
            "453.26602\n",
            "408.02484\n",
            "393.11957\n",
            "305.04132\n",
            "473.09375\n",
            "387.15067\n",
            "425.6911\n",
            "345.92603\n",
            "353.4941\n",
            "452.136\n",
            "408.381\n",
            "347.6219\n",
            "468.9777\n",
            "349.25732\n",
            "419.24298\n",
            "353.82968\n",
            "418.5082\n",
            "354.44635\n",
            "366.95068\n",
            "361.0311\n",
            "423.94574\n",
            "348.55447\n",
            "396.25507\n",
            "321.46686\n",
            "418.93057\n",
            "469.57068\n",
            "389.9917\n",
            "468.73038\n",
            "385.97574\n",
            "453.13583\n",
            "352.4783\n",
            "413.90887\n",
            "358.78412\n",
            "353.25284\n",
            "457.3157\n",
            "373.9968\n",
            "394.35544\n",
            "341.4617\n",
            "485.43808\n",
            "409.05768\n",
            "435.0475\n",
            "409.13864\n",
            "455.49603\n",
            "371.85614\n",
            "452.77634\n",
            "356.9371\n",
            "398.8053\n",
            "305.1527\n",
            "447.63104\n",
            "384.36218\n",
            "430.96158\n",
            "380.31903\n",
            "458.00745\n",
            "341.2564\n",
            "379.02887\n",
            "460.1954\n",
            "432.93686\n",
            "482.67023\n",
            "381.73984\n",
            "468.6262\n",
            "360.00455\n",
            "409.77847\n",
            "433.6642\n",
            "350.13126\n",
            "432.21603\n",
            "405.55457\n",
            "357.64853\n",
            "478.23575\n",
            "322.43542\n",
            "471.09976\n",
            "381.71652\n",
            "457.00955\n"
          ]
        }
      ]
    },
    {
      "cell_type": "markdown",
      "metadata": {
        "id": "upZrfErYxMs_"
      },
      "source": [
        "3.3"
      ],
      "id": "upZrfErYxMs_"
    },
    {
      "cell_type": "code",
      "metadata": {
        "colab": {
          "base_uri": "https://localhost:8080/",
          "height": 1000
        },
        "id": "zQnNkXSvxhLs",
        "outputId": "f0d56a9a-2381-4b06-f420-e1bff74f2759"
      },
      "source": [
        "rng = np.random.RandomState(0)\n",
        "patch_size = (80, 80)\n",
        "\n",
        "#data = extract_patches_2d(set_of_dictionaries[0], patch_size, max_patches=50, random_state=rng)\n",
        "\n",
        "\n",
        "#img = Image.fromarray(x, 'L')\n",
        "\n",
        "'''\n",
        "#for x in range(len(data)):\n",
        "print(data[0])\n",
        "\n",
        "for z in range(5):\n",
        "  img = Image.fromarray(data[z], 'L')\n",
        "  name = \"lol\" + str(z) + \".png\"\n",
        "  img.save(name)\n",
        "  img.show()\n",
        "\n",
        "#img = Image.fromarray(data[z], 'L')\n",
        "#img.save(name)\n",
        "##img.show()'''\n",
        "\n",
        "kmeans = KMeans(k_array[1]).fit(desc_array[1])\n",
        "kmeans.predict(desc_array[1])\n",
        "\n",
        "c = kmeans.cluster_centers_\n",
        "\n",
        "print(len(c[0]))\n",
        "\n",
        "for haha in range(len(c[0])):\n",
        "  x = int(c[0][haha])\n",
        "  y = int(c[1][haha])\n",
        "\n",
        "  width, height = 40, 40\n",
        "  \n",
        "\n",
        "  temp_img = img_array[0]\n",
        "\n",
        "  croppedIMG = temp_img[y:y+height, x:x+width]\n",
        "\n",
        "  print(x, y)\n",
        "  cv2_imshow(croppedIMG)\n",
        "\n",
        "\n",
        "\n",
        "  #kmeans.predict(desc_array[image])\n",
        "\n",
        "  #print(\"CENTRE\")\n",
        "  #print(kmeans.cluster_centers_)\n",
        "\n"
      ],
      "id": "zQnNkXSvxhLs",
      "execution_count": 190,
      "outputs": [
        {
          "output_type": "stream",
          "name": "stdout",
          "text": [
            "128\n",
            "31 19\n"
          ]
        },
        {
          "output_type": "display_data",
          "data": {
            "image/png": "[encoded data removed]",
            "text/plain": [
              "<PIL.Image.Image image mode=L size=40x40 at 0x7FACCF235E90>"
            ]
          },
          "metadata": {}
        },
        {
          "output_type": "stream",
          "name": "stdout",
          "text": [
            "26 20\n"
          ]
        },
        {
          "output_type": "display_data",
          "data": {
            "image/png": "[encoded data removed]",
            "text/plain": [
              "<PIL.Image.Image image mode=L size=40x40 at 0x7FACCF2469D0>"
            ]
          },
          "metadata": {}
        },
        {
          "output_type": "stream",
          "name": "stdout",
          "text": [
            "22 19\n"
          ]
        },
        {
          "output_type": "display_data",
          "data": {
            "image/png": "[encoded data removed]",
            "text/plain": [
              "<PIL.Image.Image image mode=L size=40x40 at 0x7FACCF246F50>"
            ]
          },
          "metadata": {}
        },
        {
          "output_type": "stream",
          "name": "stdout",
          "text": [
            "22 13\n"
          ]
        },
        {
          "output_type": "display_data",
          "data": {
            "image/png": "[encoded data removed]",
            "text/plain": [
              "<PIL.Image.Image image mode=L size=40x40 at 0x7FACCF235FD0>"
            ]
          },
          "metadata": {}
        },
        {
          "output_type": "stream",
          "name": "stdout",
          "text": [
            "26 13\n"
          ]
        },
        {
          "output_type": "display_data",
          "data": {
            "image/png": "[encoded data removed]",
            "text/plain": [
              "<PIL.Image.Image image mode=L size=40x40 at 0x7FACCF246A50>"
            ]
          },
          "metadata": {}
        },
        {
          "output_type": "stream",
          "name": "stdout",
          "text": [
            "12 9\n"
          ]
        },
        {
          "output_type": "display_data",
          "data": {
            "image/png": "[encoded data removed]",
            "text/plain": [
              "<PIL.Image.Image image mode=L size=40x40 at 0x7FACCF246210>"
            ]
          },
          "metadata": {}
        },
        {
          "output_type": "stream",
          "name": "stdout",
          "text": [
            "8 8\n"
          ]
        },
        {
          "output_type": "display_data",
          "data": {
            "image/png": "[encoded data removed]",
            "text/plain": [
              "<PIL.Image.Image image mode=L size=40x40 at 0x7FACCF246610>"
            ]
          },
          "metadata": {}
        },
        {
          "output_type": "stream",
          "name": "stdout",
          "text": [
            "12 10\n"
          ]
        },
        {
          "output_type": "display_data",
          "data": {
            "image/png": "[encoded data removed]",
            "text/plain": [
              "<PIL.Image.Image image mode=L size=40x40 at 0x7FACCF246D50>"
            ]
          },
          "metadata": {}
        },
        {
          "output_type": "stream",
          "name": "stdout",
          "text": [
            "80 47\n"
          ]
        },
        {
          "output_type": "display_data",
          "data": {
            "image/png": "[encoded data removed]",
            "text/plain": [
              "<PIL.Image.Image image mode=L size=40x40 at 0x7FACCF2460D0>"
            ]
          },
          "metadata": {}
        },
        {
          "output_type": "stream",
          "name": "stdout",
          "text": [
            "47 33\n"
          ]
        },
        {
          "output_type": "display_data",
          "data": {
            "image/png": "[encoded data removed]",
            "text/plain": [
              "<PIL.Image.Image image mode=L size=40x40 at 0x7FACCF246790>"
            ]
          },
          "metadata": {}
        },
        {
          "output_type": "stream",
          "name": "stdout",
          "text": [
            "20 24\n"
          ]
        },
        {
          "output_type": "display_data",
          "data": {
            "image/png": "[encoded data removed]",
            "text/plain": [
              "<PIL.Image.Image image mode=L size=40x40 at 0x7FACCF246250>"
            ]
          },
          "metadata": {}
        },
        {
          "output_type": "stream",
          "name": "stdout",
          "text": [
            "12 18\n"
          ]
        },
        {
          "output_type": "display_data",
          "data": {
            "image/png": "[encoded data removed]",
            "text/plain": [
              "<PIL.Image.Image image mode=L size=40x40 at 0x7FACCF246110>"
            ]
          },
          "metadata": {}
        },
        {
          "output_type": "stream",
          "name": "stdout",
          "text": [
            "12 20\n"
          ]
        },
        {
          "output_type": "display_data",
          "data": {
            "image/png": "[encoded data removed]",
            "text/plain": [
              "<PIL.Image.Image image mode=L size=40x40 at 0x7FACCF2462D0>"
            ]
          },
          "metadata": {}
        },
        {
          "output_type": "stream",
          "name": "stdout",
          "text": [
            "11 11\n"
          ]
        },
        {
          "output_type": "display_data",
          "data": {
            "image/png": "[encoded data removed]",
            "text/plain": [
              "<PIL.Image.Image image mode=L size=40x40 at 0x7FACCF2461D0>"
            ]
          },
          "metadata": {}
        },
        {
          "output_type": "stream",
          "name": "stdout",
          "text": [
            "16 11\n"
          ]
        },
        {
          "output_type": "display_data",
          "data": {
            "image/png": "[encoded data removed]",
            "text/plain": [
              "<PIL.Image.Image image mode=L size=40x40 at 0x7FACCF246910>"
            ]
          },
          "metadata": {}
        },
        {
          "output_type": "stream",
          "name": "stdout",
          "text": [
            "28 14\n"
          ]
        },
        {
          "output_type": "display_data",
          "data": {
            "image/png": "[encoded data removed]",
            "text/plain": [
              "<PIL.Image.Image image mode=L size=40x40 at 0x7FACCF2464D0>"
            ]
          },
          "metadata": {}
        },
        {
          "output_type": "stream",
          "name": "stdout",
          "text": [
            "35 83\n"
          ]
        },
        {
          "output_type": "display_data",
          "data": {
            "image/png": "[encoded data removed]",
            "text/plain": [
              "<PIL.Image.Image image mode=L size=40x40 at 0x7FACCF246B50>"
            ]
          },
          "metadata": {}
        },
        {
          "output_type": "stream",
          "name": "stdout",
          "text": [
            "23 36\n"
          ]
        },
        {
          "output_type": "display_data",
          "data": {
            "image/png": "[encoded data removed]",
            "text/plain": [
              "<PIL.Image.Image image mode=L size=40x40 at 0x7FACCF246DD0>"
            ]
          },
          "metadata": {}
        },
        {
          "output_type": "stream",
          "name": "stdout",
          "text": [
            "22 13\n"
          ]
        },
        {
          "output_type": "display_data",
          "data": {
            "image/png": "[encoded data removed]",
            "text/plain": [
              "<PIL.Image.Image image mode=L size=40x40 at 0x7FACCF246F50>"
            ]
          },
          "metadata": {}
        },
        {
          "output_type": "stream",
          "name": "stdout",
          "text": [
            "19 8\n"
          ]
        },
        {
          "output_type": "display_data",
          "data": {
            "image/png": "[encoded data removed]",
            "text/plain": [
              "<PIL.Image.Image image mode=L size=40x40 at 0x7FACCF246B50>"
            ]
          },
          "metadata": {}
        },
        {
          "output_type": "stream",
          "name": "stdout",
          "text": [
            "26 15\n"
          ]
        },
        {
          "output_type": "display_data",
          "data": {
            "image/png": "[encoded data removed]",
            "text/plain": [
              "<PIL.Image.Image image mode=L size=40x40 at 0x7FACCF246BD0>"
            ]
          },
          "metadata": {}
        },
        {
          "output_type": "stream",
          "name": "stdout",
          "text": [
            "22 12\n"
          ]
        },
        {
          "output_type": "display_data",
          "data": {
            "image/png": "[encoded data removed]",
            "text/plain": [
              "<PIL.Image.Image image mode=L size=40x40 at 0x7FACCF22F1D0>"
            ]
          },
          "metadata": {}
        },
        {
          "output_type": "stream",
          "name": "stdout",
          "text": [
            "23 16\n"
          ]
        },
        {
          "output_type": "display_data",
          "data": {
            "image/png": "[encoded data removed]",
            "text/plain": [
              "<PIL.Image.Image image mode=L size=40x40 at 0x7FACCF22F1D0>"
            ]
          },
          "metadata": {}
        },
        {
          "output_type": "stream",
          "name": "stdout",
          "text": [
            "19 35\n"
          ]
        },
        {
          "output_type": "display_data",
          "data": {
            "image/png": "[encoded data removed]",
            "text/plain": [
              "<PIL.Image.Image image mode=L size=40x40 at 0x7FACCF22F150>"
            ]
          },
          "metadata": {}
        },
        {
          "output_type": "stream",
          "name": "stdout",
          "text": [
            "16 30\n"
          ]
        },
        {
          "output_type": "display_data",
          "data": {
            "image/png": "[encoded data removed]",
            "text/plain": [
              "<PIL.Image.Image image mode=L size=40x40 at 0x7FACCF22F1D0>"
            ]
          },
          "metadata": {}
        },
        {
          "output_type": "stream",
          "name": "stdout",
          "text": [
            "15 13\n"
          ]
        },
        {
          "output_type": "display_data",
          "data": {
            "image/png": "[encoded data removed]",
            "text/plain": [
              "<PIL.Image.Image image mode=L size=40x40 at 0x7FACCF22F150>"
            ]
          },
          "metadata": {}
        },
        {
          "output_type": "stream",
          "name": "stdout",
          "text": [
            "21 8\n"
          ]
        },
        {
          "output_type": "display_data",
          "data": {
            "image/png": "[encoded data removed]",
            "text/plain": [
              "<PIL.Image.Image image mode=L size=40x40 at 0x7FACCF22F650>"
            ]
          },
          "metadata": {}
        },
        {
          "output_type": "stream",
          "name": "stdout",
          "text": [
            "19 9\n"
          ]
        },
        {
          "output_type": "display_data",
          "data": {
            "image/png": "[encoded data removed]",
            "text/plain": [
              "<PIL.Image.Image image mode=L size=40x40 at 0x7FACCF22F150>"
            ]
          },
          "metadata": {}
        },
        {
          "output_type": "stream",
          "name": "stdout",
          "text": [
            "20 30\n"
          ]
        },
        {
          "output_type": "display_data",
          "data": {
            "image/png": "[encoded data removed]",
            "text/plain": [
              "<PIL.Image.Image image mode=L size=40x40 at 0x7FACCF22FD50>"
            ]
          },
          "metadata": {}
        },
        {
          "output_type": "stream",
          "name": "stdout",
          "text": [
            "14 21\n"
          ]
        },
        {
          "output_type": "display_data",
          "data": {
            "image/png": "[encoded data removed]",
            "text/plain": [
              "<PIL.Image.Image image mode=L size=40x40 at 0x7FACCF22F490>"
            ]
          },
          "metadata": {}
        },
        {
          "output_type": "stream",
          "name": "stdout",
          "text": [
            "17 21\n"
          ]
        },
        {
          "output_type": "display_data",
          "data": {
            "image/png": "[encoded data removed]",
            "text/plain": [
              "<PIL.Image.Image image mode=L size=40x40 at 0x7FACCF22FE50>"
            ]
          },
          "metadata": {}
        },
        {
          "output_type": "stream",
          "name": "stdout",
          "text": [
            "14 23\n"
          ]
        },
        {
          "output_type": "display_data",
          "data": {
            "image/png": "[encoded data removed]",
            "text/plain": [
              "<PIL.Image.Image image mode=L size=40x40 at 0x7FACCF22FE10>"
            ]
          },
          "metadata": {}
        },
        {
          "output_type": "stream",
          "name": "stdout",
          "text": [
            "47 25\n"
          ]
        },
        {
          "output_type": "display_data",
          "data": {
            "image/png": "[encoded data removed]",
            "text/plain": [
              "<PIL.Image.Image image mode=L size=40x40 at 0x7FACCF22F710>"
            ]
          },
          "metadata": {}
        },
        {
          "output_type": "stream",
          "name": "stdout",
          "text": [
            "19 22\n"
          ]
        },
        {
          "output_type": "display_data",
          "data": {
            "image/png": "[encoded data removed]",
            "text/plain": [
              "<PIL.Image.Image image mode=L size=40x40 at 0x7FACCF22FFD0>"
            ]
          },
          "metadata": {}
        },
        {
          "output_type": "stream",
          "name": "stdout",
          "text": [
            "16 22\n"
          ]
        },
        {
          "output_type": "display_data",
          "data": {
            "image/png": "[encoded data removed]",
            "text/plain": [
              "<PIL.Image.Image image mode=L size=40x40 at 0x7FACCF3636D0>"
            ]
          },
          "metadata": {}
        },
        {
          "output_type": "stream",
          "name": "stdout",
          "text": [
            "22 16\n"
          ]
        },
        {
          "output_type": "display_data",
          "data": {
            "image/png": "[encoded data removed]",
            "text/plain": [
              "<PIL.Image.Image image mode=L size=40x40 at 0x7FACCF363690>"
            ]
          },
          "metadata": {}
        },
        {
          "output_type": "stream",
          "name": "stdout",
          "text": [
            "41 19\n"
          ]
        },
        {
          "output_type": "display_data",
          "data": {
            "image/png": "[encoded data removed]",
            "text/plain": [
              "<PIL.Image.Image image mode=L size=40x40 at 0x7FACCF363210>"
            ]
          },
          "metadata": {}
        },
        {
          "output_type": "stream",
          "name": "stdout",
          "text": [
            "16 13\n"
          ]
        },
        {
          "output_type": "display_data",
          "data": {
            "image/png": "[encoded data removed]",
            "text/plain": [
              "<PIL.Image.Image image mode=L size=40x40 at 0x7FACCF363450>"
            ]
          },
          "metadata": {}
        },
        {
          "output_type": "stream",
          "name": "stdout",
          "text": [
            "8 11\n"
          ]
        },
        {
          "output_type": "display_data",
          "data": {
            "image/png": "[encoded data removed]",
            "text/plain": [
              "<PIL.Image.Image image mode=L size=40x40 at 0x7FACCF363750>"
            ]
          },
          "metadata": {}
        },
        {
          "output_type": "stream",
          "name": "stdout",
          "text": [
            "13 15\n"
          ]
        },
        {
          "output_type": "display_data",
          "data": {
            "image/png": "[encoded data removed]",
            "text/plain": [
              "<PIL.Image.Image image mode=L size=40x40 at 0x7FACCF363350>"
            ]
          },
          "metadata": {}
        },
        {
          "output_type": "stream",
          "name": "stdout",
          "text": [
            "129 65\n"
          ]
        },
        {
          "output_type": "display_data",
          "data": {
            "image/png": "[encoded data removed]",
            "text/plain": [
              "<PIL.Image.Image image mode=L size=40x40 at 0x7FACCF363710>"
            ]
          },
          "metadata": {}
        },
        {
          "output_type": "stream",
          "name": "stdout",
          "text": [
            "36 39\n"
          ]
        },
        {
          "output_type": "display_data",
          "data": {
            "image/png": "[encoded data removed]",
            "text/plain": [
              "<PIL.Image.Image image mode=L size=40x40 at 0x7FACCF363450>"
            ]
          },
          "metadata": {}
        },
        {
          "output_type": "stream",
          "name": "stdout",
          "text": [
            "9 38\n"
          ]
        },
        {
          "output_type": "display_data",
          "data": {
            "image/png": "[encoded data removed]",
            "text/plain": [
              "<PIL.Image.Image image mode=L size=40x40 at 0x7FACCF363050>"
            ]
          },
          "metadata": {}
        },
        {
          "output_type": "stream",
          "name": "stdout",
          "text": [
            "6 33\n"
          ]
        },
        {
          "output_type": "display_data",
          "data": {
            "image/png": "[encoded data removed]",
            "text/plain": [
              "<PIL.Image.Image image mode=L size=40x40 at 0x7FACCF363110>"
            ]
          },
          "metadata": {}
        },
        {
          "output_type": "stream",
          "name": "stdout",
          "text": [
            "12 40\n"
          ]
        },
        {
          "output_type": "display_data",
          "data": {
            "image/png": "[encoded data removed]",
            "text/plain": [
              "<PIL.Image.Image image mode=L size=40x40 at 0x7FACCF363350>"
            ]
          },
          "metadata": {}
        },
        {
          "output_type": "stream",
          "name": "stdout",
          "text": [
            "11 19\n"
          ]
        },
        {
          "output_type": "display_data",
          "data": {
            "image/png": "[encoded data removed]",
            "text/plain": [
              "<PIL.Image.Image image mode=L size=40x40 at 0x7FACCF363290>"
            ]
          },
          "metadata": {}
        },
        {
          "output_type": "stream",
          "name": "stdout",
          "text": [
            "22 12\n"
          ]
        },
        {
          "output_type": "display_data",
          "data": {
            "image/png": "[encoded data removed]",
            "text/plain": [
              "<PIL.Image.Image image mode=L size=40x40 at 0x7FACCF22FB50>"
            ]
          },
          "metadata": {}
        },
        {
          "output_type": "stream",
          "name": "stdout",
          "text": [
            "58 16\n"
          ]
        },
        {
          "output_type": "display_data",
          "data": {
            "image/png": "[encoded data removed]",
            "text/plain": [
              "<PIL.Image.Image image mode=L size=40x40 at 0x7FACCF243890>"
            ]
          },
          "metadata": {}
        },
        {
          "output_type": "stream",
          "name": "stdout",
          "text": [
            "47 134\n"
          ]
        },
        {
          "output_type": "display_data",
          "data": {
            "image/png": "[encoded data removed]",
            "text/plain": [
              "<PIL.Image.Image image mode=L size=40x40 at 0x7FACCF243E50>"
            ]
          },
          "metadata": {}
        },
        {
          "output_type": "stream",
          "name": "stdout",
          "text": [
            "14 61\n"
          ]
        },
        {
          "output_type": "display_data",
          "data": {
            "image/png": "[encoded data removed]",
            "text/plain": [
              "<PIL.Image.Image image mode=L size=40x40 at 0x7FACCF243C50>"
            ]
          },
          "metadata": {}
        },
        {
          "output_type": "stream",
          "name": "stdout",
          "text": [
            "15 20\n"
          ]
        },
        {
          "output_type": "display_data",
          "data": {
            "image/png": "[encoded data removed]",
            "text/plain": [
              "<PIL.Image.Image image mode=L size=40x40 at 0x7FACCF243890>"
            ]
          },
          "metadata": {}
        },
        {
          "output_type": "stream",
          "name": "stdout",
          "text": [
            "24 8\n"
          ]
        },
        {
          "output_type": "display_data",
          "data": {
            "image/png": "[encoded data removed]",
            "text/plain": [
              "<PIL.Image.Image image mode=L size=40x40 at 0x7FACCF243E50>"
            ]
          },
          "metadata": {}
        },
        {
          "output_type": "stream",
          "name": "stdout",
          "text": [
            "49 15\n"
          ]
        },
        {
          "output_type": "display_data",
          "data": {
            "image/png": "[encoded data removed]",
            "text/plain": [
              "<PIL.Image.Image image mode=L size=40x40 at 0x7FACCF243ED0>"
            ]
          },
          "metadata": {}
        },
        {
          "output_type": "stream",
          "name": "stdout",
          "text": [
            "44 9\n"
          ]
        },
        {
          "output_type": "display_data",
          "data": {
            "image/png": "[encoded data removed]",
            "text/plain": [
              "<PIL.Image.Image image mode=L size=40x40 at 0x7FACCF243C50>"
            ]
          },
          "metadata": {}
        },
        {
          "output_type": "stream",
          "name": "stdout",
          "text": [
            "43 11\n"
          ]
        },
        {
          "output_type": "display_data",
          "data": {
            "image/png": "[encoded data removed]",
            "text/plain": [
              "<PIL.Image.Image image mode=L size=40x40 at 0x7FACCF243890>"
            ]
          },
          "metadata": {}
        },
        {
          "output_type": "stream",
          "name": "stdout",
          "text": [
            "32 40\n"
          ]
        },
        {
          "output_type": "display_data",
          "data": {
            "image/png": "[encoded data removed]",
            "text/plain": [
              "<PIL.Image.Image image mode=L size=40x40 at 0x7FACCF243A50>"
            ]
          },
          "metadata": {}
        },
        {
          "output_type": "stream",
          "name": "stdout",
          "text": [
            "19 43\n"
          ]
        },
        {
          "output_type": "display_data",
          "data": {
            "image/png": "[encoded data removed]",
            "text/plain": [
              "<PIL.Image.Image image mode=L size=40x40 at 0x7FACCF243450>"
            ]
          },
          "metadata": {}
        },
        {
          "output_type": "stream",
          "name": "stdout",
          "text": [
            "15 15\n"
          ]
        },
        {
          "output_type": "display_data",
          "data": {
            "image/png": "[encoded data removed]",
            "text/plain": [
              "<PIL.Image.Image image mode=L size=40x40 at 0x7FACCF243C50>"
            ]
          },
          "metadata": {}
        },
        {
          "output_type": "stream",
          "name": "stdout",
          "text": [
            "20 9\n"
          ]
        },
        {
          "output_type": "display_data",
          "data": {
            "image/png": "[encoded data removed]",
            "text/plain": [
              "<PIL.Image.Image image mode=L size=40x40 at 0x7FACCF243190>"
            ]
          },
          "metadata": {}
        },
        {
          "output_type": "stream",
          "name": "stdout",
          "text": [
            "20 17\n"
          ]
        },
        {
          "output_type": "display_data",
          "data": {
            "image/png": "[encoded data removed]",
            "text/plain": [
              "<PIL.Image.Image image mode=L size=40x40 at 0x7FACCF243110>"
            ]
          },
          "metadata": {}
        },
        {
          "output_type": "stream",
          "name": "stdout",
          "text": [
            "28 41\n"
          ]
        },
        {
          "output_type": "display_data",
          "data": {
            "image/png": "[encoded data removed]",
            "text/plain": [
              "<PIL.Image.Image image mode=L size=40x40 at 0x7FACCF243ED0>"
            ]
          },
          "metadata": {}
        },
        {
          "output_type": "stream",
          "name": "stdout",
          "text": [
            "21 26\n"
          ]
        },
        {
          "output_type": "display_data",
          "data": {
            "image/png": "[encoded data removed]",
            "text/plain": [
              "<PIL.Image.Image image mode=L size=40x40 at 0x7FACCF24DE50>"
            ]
          },
          "metadata": {}
        },
        {
          "output_type": "stream",
          "name": "stdout",
          "text": [
            "25 19\n"
          ]
        },
        {
          "output_type": "display_data",
          "data": {
            "image/png": "[encoded data removed]",
            "text/plain": [
              "<PIL.Image.Image image mode=L size=40x40 at 0x7FACCF24D850>"
            ]
          },
          "metadata": {}
        },
        {
          "output_type": "stream",
          "name": "stdout",
          "text": [
            "18 21\n"
          ]
        },
        {
          "output_type": "display_data",
          "data": {
            "image/png": "[encoded data removed]",
            "text/plain": [
              "<PIL.Image.Image image mode=L size=40x40 at 0x7FACCF24DC10>"
            ]
          },
          "metadata": {}
        },
        {
          "output_type": "stream",
          "name": "stdout",
          "text": [
            "46 27\n"
          ]
        },
        {
          "output_type": "display_data",
          "data": {
            "image/png": "[encoded data removed]",
            "text/plain": [
              "<PIL.Image.Image image mode=L size=40x40 at 0x7FACCF24D3D0>"
            ]
          },
          "metadata": {}
        },
        {
          "output_type": "stream",
          "name": "stdout",
          "text": [
            "10 18\n"
          ]
        },
        {
          "output_type": "display_data",
          "data": {
            "image/png": "[encoded data removed]",
            "text/plain": [
              "<PIL.Image.Image image mode=L size=40x40 at 0x7FACCF24D7D0>"
            ]
          },
          "metadata": {}
        },
        {
          "output_type": "stream",
          "name": "stdout",
          "text": [
            "4 14\n"
          ]
        },
        {
          "output_type": "display_data",
          "data": {
            "image/png": "[encoded data removed]",
            "text/plain": [
              "<PIL.Image.Image image mode=L size=40x40 at 0x7FACCF24DA50>"
            ]
          },
          "metadata": {}
        },
        {
          "output_type": "stream",
          "name": "stdout",
          "text": [
            "13 15\n"
          ]
        },
        {
          "output_type": "display_data",
          "data": {
            "image/png": "[encoded data removed]",
            "text/plain": [
              "<PIL.Image.Image image mode=L size=40x40 at 0x7FACCF246590>"
            ]
          },
          "metadata": {}
        },
        {
          "output_type": "stream",
          "name": "stdout",
          "text": [
            "41 18\n"
          ]
        },
        {
          "output_type": "display_data",
          "data": {
            "image/png": "[encoded data removed]",
            "text/plain": [
              "<PIL.Image.Image image mode=L size=40x40 at 0x7FACCF246350>"
            ]
          },
          "metadata": {}
        },
        {
          "output_type": "stream",
          "name": "stdout",
          "text": [
            "25 13\n"
          ]
        },
        {
          "output_type": "display_data",
          "data": {
            "image/png": "[encoded data removed]",
            "text/plain": [
              "<PIL.Image.Image image mode=L size=40x40 at 0x7FACCF246150>"
            ]
          },
          "metadata": {}
        },
        {
          "output_type": "stream",
          "name": "stdout",
          "text": [
            "21 18\n"
          ]
        },
        {
          "output_type": "display_data",
          "data": {
            "image/png": "[encoded data removed]",
            "text/plain": [
              "<PIL.Image.Image image mode=L size=40x40 at 0x7FACCF246210>"
            ]
          },
          "metadata": {}
        },
        {
          "output_type": "stream",
          "name": "stdout",
          "text": [
            "21 20\n"
          ]
        },
        {
          "output_type": "display_data",
          "data": {
            "image/png": "[encoded data removed]",
            "text/plain": [
              "<PIL.Image.Image image mode=L size=40x40 at 0x7FACCF246650>"
            ]
          },
          "metadata": {}
        },
        {
          "output_type": "stream",
          "name": "stdout",
          "text": [
            "130 68\n"
          ]
        },
        {
          "output_type": "display_data",
          "data": {
            "image/png": "[encoded data removed]",
            "text/plain": [
              "<PIL.Image.Image image mode=L size=40x40 at 0x7FACCF246ED0>"
            ]
          },
          "metadata": {}
        },
        {
          "output_type": "stream",
          "name": "stdout",
          "text": [
            "54 18\n"
          ]
        },
        {
          "output_type": "display_data",
          "data": {
            "image/png": "[encoded data removed]",
            "text/plain": [
              "<PIL.Image.Image image mode=L size=40x40 at 0x7FACCF246650>"
            ]
          },
          "metadata": {}
        },
        {
          "output_type": "stream",
          "name": "stdout",
          "text": [
            "17 12\n"
          ]
        },
        {
          "output_type": "display_data",
          "data": {
            "image/png": "[encoded data removed]",
            "text/plain": [
              "<PIL.Image.Image image mode=L size=40x40 at 0x7FACCF246390>"
            ]
          },
          "metadata": {}
        },
        {
          "output_type": "stream",
          "name": "stdout",
          "text": [
            "9 22\n"
          ]
        },
        {
          "output_type": "display_data",
          "data": {
            "image/png": "[encoded data removed]",
            "text/plain": [
              "<PIL.Image.Image image mode=L size=40x40 at 0x7FACCF2464D0>"
            ]
          },
          "metadata": {}
        },
        {
          "output_type": "stream",
          "name": "stdout",
          "text": [
            "11 40\n"
          ]
        },
        {
          "output_type": "display_data",
          "data": {
            "image/png": "[encoded data removed]",
            "text/plain": [
              "<PIL.Image.Image image mode=L size=40x40 at 0x7FACCF246ED0>"
            ]
          },
          "metadata": {}
        },
        {
          "output_type": "stream",
          "name": "stdout",
          "text": [
            "8 29\n"
          ]
        },
        {
          "output_type": "display_data",
          "data": {
            "image/png": "[encoded data removed]",
            "text/plain": [
              "<PIL.Image.Image image mode=L size=40x40 at 0x7FACCF246B90>"
            ]
          },
          "metadata": {}
        },
        {
          "output_type": "stream",
          "name": "stdout",
          "text": [
            "12 35\n"
          ]
        },
        {
          "output_type": "display_data",
          "data": {
            "image/png": "[encoded data removed]",
            "text/plain": [
              "<PIL.Image.Image image mode=L size=40x40 at 0x7FACCF2461D0>"
            ]
          },
          "metadata": {}
        },
        {
          "output_type": "stream",
          "name": "stdout",
          "text": [
            "39 38\n"
          ]
        },
        {
          "output_type": "display_data",
          "data": {
            "image/png": "[encoded data removed]",
            "text/plain": [
              "<PIL.Image.Image image mode=L size=40x40 at 0x7FACCF246B10>"
            ]
          },
          "metadata": {}
        },
        {
          "output_type": "stream",
          "name": "stdout",
          "text": [
            "52 133\n"
          ]
        },
        {
          "output_type": "display_data",
          "data": {
            "image/png": "[encoded data removed]",
            "text/plain": [
              "<PIL.Image.Image image mode=L size=40x40 at 0x7FACCF246850>"
            ]
          },
          "metadata": {}
        },
        {
          "output_type": "stream",
          "name": "stdout",
          "text": [
            "29 42\n"
          ]
        },
        {
          "output_type": "display_data",
          "data": {
            "image/png": "[encoded data removed]",
            "text/plain": [
              "<PIL.Image.Image image mode=L size=40x40 at 0x7FACCF246E10>"
            ]
          },
          "metadata": {}
        },
        {
          "output_type": "stream",
          "name": "stdout",
          "text": [
            "32 13\n"
          ]
        },
        {
          "output_type": "display_data",
          "data": {
            "image/png": "[encoded data removed]",
            "text/plain": [
              "<PIL.Image.Image image mode=L size=40x40 at 0x7FACCF246810>"
            ]
          },
          "metadata": {}
        },
        {
          "output_type": "stream",
          "name": "stdout",
          "text": [
            "43 8\n"
          ]
        },
        {
          "output_type": "display_data",
          "data": {
            "image/png": "[encoded data removed]",
            "text/plain": [
              "<PIL.Image.Image image mode=L size=40x40 at 0x7FACCF246A50>"
            ]
          },
          "metadata": {}
        },
        {
          "output_type": "stream",
          "name": "stdout",
          "text": [
            "53 15\n"
          ]
        },
        {
          "output_type": "display_data",
          "data": {
            "image/png": "[encoded data removed]",
            "text/plain": [
              "<PIL.Image.Image image mode=L size=40x40 at 0x7FACCF246DD0>"
            ]
          },
          "metadata": {}
        },
        {
          "output_type": "stream",
          "name": "stdout",
          "text": [
            "25 8\n"
          ]
        },
        {
          "output_type": "display_data",
          "data": {
            "image/png": "[encoded data removed]",
            "text/plain": [
              "<PIL.Image.Image image mode=L size=40x40 at 0x7FACCF2463D0>"
            ]
          },
          "metadata": {}
        },
        {
          "output_type": "stream",
          "name": "stdout",
          "text": [
            "17 18\n"
          ]
        },
        {
          "output_type": "display_data",
          "data": {
            "image/png": "[encoded data removed]",
            "text/plain": [
              "<PIL.Image.Image image mode=L size=40x40 at 0x7FACCF246790>"
            ]
          },
          "metadata": {}
        },
        {
          "output_type": "stream",
          "name": "stdout",
          "text": [
            "17 57\n"
          ]
        },
        {
          "output_type": "display_data",
          "data": {
            "image/png": "[encoded data removed]",
            "text/plain": [
              "<PIL.Image.Image image mode=L size=40x40 at 0x7FACCF246650>"
            ]
          },
          "metadata": {}
        },
        {
          "output_type": "stream",
          "name": "stdout",
          "text": [
            "20 42\n"
          ]
        },
        {
          "output_type": "display_data",
          "data": {
            "image/png": "[encoded data removed]",
            "text/plain": [
              "<PIL.Image.Image image mode=L size=40x40 at 0x7FACCF246810>"
            ]
          },
          "metadata": {}
        },
        {
          "output_type": "stream",
          "name": "stdout",
          "text": [
            "15 21\n"
          ]
        },
        {
          "output_type": "display_data",
          "data": {
            "image/png": "[encoded data removed]",
            "text/plain": [
              "<PIL.Image.Image image mode=L size=40x40 at 0x7FACCF246210>"
            ]
          },
          "metadata": {}
        },
        {
          "output_type": "stream",
          "name": "stdout",
          "text": [
            "19 22\n"
          ]
        },
        {
          "output_type": "display_data",
          "data": {
            "image/png": "[encoded data removed]",
            "text/plain": [
              "<PIL.Image.Image image mode=L size=40x40 at 0x7FACCF246250>"
            ]
          },
          "metadata": {}
        },
        {
          "output_type": "stream",
          "name": "stdout",
          "text": [
            "20 27\n"
          ]
        },
        {
          "output_type": "display_data",
          "data": {
            "image/png": "[encoded data removed]",
            "text/plain": [
              "<PIL.Image.Image image mode=L size=40x40 at 0x7FACCF246B10>"
            ]
          },
          "metadata": {}
        },
        {
          "output_type": "stream",
          "name": "stdout",
          "text": [
            "31 41\n"
          ]
        },
        {
          "output_type": "display_data",
          "data": {
            "image/png": "[encoded data removed]",
            "text/plain": [
              "<PIL.Image.Image image mode=L size=40x40 at 0x7FACCF246850>"
            ]
          },
          "metadata": {}
        },
        {
          "output_type": "stream",
          "name": "stdout",
          "text": [
            "21 17\n"
          ]
        },
        {
          "output_type": "display_data",
          "data": {
            "image/png": "[encoded data removed]",
            "text/plain": [
              "<PIL.Image.Image image mode=L size=40x40 at 0x7FACCF246690>"
            ]
          },
          "metadata": {}
        },
        {
          "output_type": "stream",
          "name": "stdout",
          "text": [
            "21 8\n"
          ]
        },
        {
          "output_type": "display_data",
          "data": {
            "image/png": "[encoded data removed]",
            "text/plain": [
              "<PIL.Image.Image image mode=L size=40x40 at 0x7FACCF246BD0>"
            ]
          },
          "metadata": {}
        },
        {
          "output_type": "stream",
          "name": "stdout",
          "text": [
            "18 13\n"
          ]
        },
        {
          "output_type": "display_data",
          "data": {
            "image/png": "[encoded data removed]",
            "text/plain": [
              "<PIL.Image.Image image mode=L size=40x40 at 0x7FACCF246210>"
            ]
          },
          "metadata": {}
        },
        {
          "output_type": "stream",
          "name": "stdout",
          "text": [
            "29 22\n"
          ]
        },
        {
          "output_type": "display_data",
          "data": {
            "image/png": "[encoded data removed]",
            "text/plain": [
              "<PIL.Image.Image image mode=L size=40x40 at 0x7FACCF246D10>"
            ]
          },
          "metadata": {}
        },
        {
          "output_type": "stream",
          "name": "stdout",
          "text": [
            "9 13\n"
          ]
        },
        {
          "output_type": "display_data",
          "data": {
            "image/png": "[encoded data removed]",
            "text/plain": [
              "<PIL.Image.Image image mode=L size=40x40 at 0x7FACCF246AD0>"
            ]
          },
          "metadata": {}
        },
        {
          "output_type": "stream",
          "name": "stdout",
          "text": [
            "6 11\n"
          ]
        },
        {
          "output_type": "display_data",
          "data": {
            "image/png": "[encoded data removed]",
            "text/plain": [
              "<PIL.Image.Image image mode=L size=40x40 at 0x7FACCF246690>"
            ]
          },
          "metadata": {}
        },
        {
          "output_type": "stream",
          "name": "stdout",
          "text": [
            "11 10\n"
          ]
        },
        {
          "output_type": "display_data",
          "data": {
            "image/png": "[encoded data removed]",
            "text/plain": [
              "<PIL.Image.Image image mode=L size=40x40 at 0x7FACCF246650>"
            ]
          },
          "metadata": {}
        },
        {
          "output_type": "stream",
          "name": "stdout",
          "text": [
            "26 12\n"
          ]
        },
        {
          "output_type": "display_data",
          "data": {
            "image/png": "[encoded data removed]",
            "text/plain": [
              "<PIL.Image.Image image mode=L size=40x40 at 0x7FACCF246290>"
            ]
          },
          "metadata": {}
        },
        {
          "output_type": "stream",
          "name": "stdout",
          "text": [
            "24 12\n"
          ]
        },
        {
          "output_type": "display_data",
          "data": {
            "image/png": "[encoded data removed]",
            "text/plain": [
              "<PIL.Image.Image image mode=L size=40x40 at 0x7FACCF246C90>"
            ]
          },
          "metadata": {}
        },
        {
          "output_type": "stream",
          "name": "stdout",
          "text": [
            "32 19\n"
          ]
        },
        {
          "output_type": "display_data",
          "data": {
            "image/png": "[encoded data removed]",
            "text/plain": [
              "<PIL.Image.Image image mode=L size=40x40 at 0x7FACCF243ED0>"
            ]
          },
          "metadata": {}
        },
        {
          "output_type": "stream",
          "name": "stdout",
          "text": [
            "27 19\n"
          ]
        },
        {
          "output_type": "display_data",
          "data": {
            "image/png": "[encoded data removed]",
            "text/plain": [
              "<PIL.Image.Image image mode=L size=40x40 at 0x7FACCF2431D0>"
            ]
          },
          "metadata": {}
        },
        {
          "output_type": "stream",
          "name": "stdout",
          "text": [
            "76 51\n"
          ]
        },
        {
          "output_type": "display_data",
          "data": {
            "image/png": "[encoded data removed]",
            "text/plain": [
              "<PIL.Image.Image image mode=L size=40x40 at 0x7FACCF243ED0>"
            ]
          },
          "metadata": {}
        },
        {
          "output_type": "stream",
          "name": "stdout",
          "text": [
            "27 21\n"
          ]
        },
        {
          "output_type": "display_data",
          "data": {
            "image/png": "[encoded data removed]",
            "text/plain": [
              "<PIL.Image.Image image mode=L size=40x40 at 0x7FACCF243D90>"
            ]
          },
          "metadata": {}
        },
        {
          "output_type": "stream",
          "name": "stdout",
          "text": [
            "13 12\n"
          ]
        },
        {
          "output_type": "display_data",
          "data": {
            "image/png": "[encoded data removed]",
            "text/plain": [
              "<PIL.Image.Image image mode=L size=40x40 at 0x7FACCF363110>"
            ]
          },
          "metadata": {}
        },
        {
          "output_type": "stream",
          "name": "stdout",
          "text": [
            "8 10\n"
          ]
        },
        {
          "output_type": "display_data",
          "data": {
            "image/png": "[encoded data removed]",
            "text/plain": [
              "<PIL.Image.Image image mode=L size=40x40 at 0x7FACCF363290>"
            ]
          },
          "metadata": {}
        },
        {
          "output_type": "stream",
          "name": "stdout",
          "text": [
            "14 20\n"
          ]
        },
        {
          "output_type": "display_data",
          "data": {
            "image/png": "[encoded data removed]",
            "text/plain": [
              "<PIL.Image.Image image mode=L size=40x40 at 0x7FACCF2463D0>"
            ]
          },
          "metadata": {}
        },
        {
          "output_type": "stream",
          "name": "stdout",
          "text": [
            "18 17\n"
          ]
        },
        {
          "output_type": "display_data",
          "data": {
            "image/png": "[encoded data removed]",
            "text/plain": [
              "<PIL.Image.Image image mode=L size=40x40 at 0x7FACCF2357D0>"
            ]
          },
          "metadata": {}
        },
        {
          "output_type": "stream",
          "name": "stdout",
          "text": [
            "27 27\n"
          ]
        },
        {
          "output_type": "display_data",
          "data": {
            "image/png": "[encoded data removed]",
            "text/plain": [
              "<PIL.Image.Image image mode=L size=40x40 at 0x7FACCF246910>"
            ]
          },
          "metadata": {}
        },
        {
          "output_type": "stream",
          "name": "stdout",
          "text": [
            "43 31\n"
          ]
        },
        {
          "output_type": "display_data",
          "data": {
            "image/png": "[encoded data removed]",
            "text/plain": [
              "<PIL.Image.Image image mode=L size=40x40 at 0x7FACCF363250>"
            ]
          },
          "metadata": {}
        },
        {
          "output_type": "stream",
          "name": "stdout",
          "text": [
            "38 84\n"
          ]
        },
        {
          "output_type": "display_data",
          "data": {
            "image/png": "[encoded data removed]",
            "text/plain": [
              "<PIL.Image.Image image mode=L size=40x40 at 0x7FACCF246BD0>"
            ]
          },
          "metadata": {}
        },
        {
          "output_type": "stream",
          "name": "stdout",
          "text": [
            "21 36\n"
          ]
        },
        {
          "output_type": "display_data",
          "data": {
            "image/png": "[encoded data removed]",
            "text/plain": [
              "<PIL.Image.Image image mode=L size=40x40 at 0x7FACCF22F150>"
            ]
          },
          "metadata": {}
        },
        {
          "output_type": "stream",
          "name": "stdout",
          "text": [
            "21 17\n"
          ]
        },
        {
          "output_type": "display_data",
          "data": {
            "image/png": "[encoded data removed]",
            "text/plain": [
              "<PIL.Image.Image image mode=L size=40x40 at 0x7FACCF246090>"
            ]
          },
          "metadata": {}
        },
        {
          "output_type": "stream",
          "name": "stdout",
          "text": [
            "21 9\n"
          ]
        },
        {
          "output_type": "display_data",
          "data": {
            "image/png": "[encoded data removed]",
            "text/plain": [
              "<PIL.Image.Image image mode=L size=40x40 at 0x7FACCF246DD0>"
            ]
          },
          "metadata": {}
        },
        {
          "output_type": "stream",
          "name": "stdout",
          "text": [
            "31 13\n"
          ]
        },
        {
          "output_type": "display_data",
          "data": {
            "image/png": "[encoded data removed]",
            "text/plain": [
              "<PIL.Image.Image image mode=L size=40x40 at 0x7FACD443EB50>"
            ]
          },
          "metadata": {}
        },
        {
          "output_type": "stream",
          "name": "stdout",
          "text": [
            "20 9\n"
          ]
        },
        {
          "output_type": "display_data",
          "data": {
            "image/png": "[encoded data removed]",
            "text/plain": [
              "<PIL.Image.Image image mode=L size=40x40 at 0x7FACCF246E10>"
            ]
          },
          "metadata": {}
        },
        {
          "output_type": "stream",
          "name": "stdout",
          "text": [
            "18 17\n"
          ]
        },
        {
          "output_type": "display_data",
          "data": {
            "image/png": "[encoded data removed]",
            "text/plain": [
              "<PIL.Image.Image image mode=L size=40x40 at 0x7FACCF246BD0>"
            ]
          },
          "metadata": {}
        },
        {
          "output_type": "stream",
          "name": "stdout",
          "text": [
            "22 34\n"
          ]
        },
        {
          "output_type": "display_data",
          "data": {
            "image/png": "[encoded data removed]",
            "text/plain": [
              "<PIL.Image.Image image mode=L size=40x40 at 0x7FACCF246550>"
            ]
          },
          "metadata": {}
        },
        {
          "output_type": "stream",
          "name": "stdout",
          "text": [
            "15 31\n"
          ]
        },
        {
          "output_type": "display_data",
          "data": {
            "image/png": "[encoded data removed]",
            "text/plain": [
              "<PIL.Image.Image image mode=L size=40x40 at 0x7FACCF2469D0>"
            ]
          },
          "metadata": {}
        },
        {
          "output_type": "stream",
          "name": "stdout",
          "text": [
            "12 19\n"
          ]
        },
        {
          "output_type": "display_data",
          "data": {
            "image/png": "[encoded data removed]",
            "text/plain": [
              "<PIL.Image.Image image mode=L size=40x40 at 0x7FACCF246210>"
            ]
          },
          "metadata": {}
        },
        {
          "output_type": "stream",
          "name": "stdout",
          "text": [
            "20 20\n"
          ]
        },
        {
          "output_type": "display_data",
          "data": {
            "image/png": "[encoded data removed]",
            "text/plain": [
              "<PIL.Image.Image image mode=L size=40x40 at 0x7FACCF246810>"
            ]
          },
          "metadata": {}
        },
        {
          "output_type": "stream",
          "name": "stdout",
          "text": [
            "17 19\n"
          ]
        },
        {
          "output_type": "display_data",
          "data": {
            "image/png": "[encoded data removed]",
            "text/plain": [
              "<PIL.Image.Image image mode=L size=40x40 at 0x7FACCF246590>"
            ]
          },
          "metadata": {}
        },
        {
          "output_type": "stream",
          "name": "stdout",
          "text": [
            "23 30\n"
          ]
        },
        {
          "output_type": "display_data",
          "data": {
            "image/png": "[encoded data removed]",
            "text/plain": [
              "<PIL.Image.Image image mode=L size=40x40 at 0x7FACCF246390>"
            ]
          },
          "metadata": {}
        },
        {
          "output_type": "stream",
          "name": "stdout",
          "text": [
            "17 12\n"
          ]
        },
        {
          "output_type": "display_data",
          "data": {
            "image/png": "[encoded data removed]",
            "text/plain": [
              "<PIL.Image.Image image mode=L size=40x40 at 0x7FACCF246090>"
            ]
          },
          "metadata": {}
        },
        {
          "output_type": "stream",
          "name": "stdout",
          "text": [
            "19 10\n"
          ]
        },
        {
          "output_type": "display_data",
          "data": {
            "image/png": "[encoded data removed]",
            "text/plain": [
              "<PIL.Image.Image image mode=L size=40x40 at 0x7FACCF246F90>"
            ]
          },
          "metadata": {}
        },
        {
          "output_type": "stream",
          "name": "stdout",
          "text": [
            "14 12\n"
          ]
        },
        {
          "output_type": "display_data",
          "data": {
            "image/png": "[encoded data removed]",
            "text/plain": [
              "<PIL.Image.Image image mode=L size=40x40 at 0x7FACCF246890>"
            ]
          },
          "metadata": {}
        }
      ]
    },
    {
      "cell_type": "markdown",
      "metadata": {
        "id": "_E8yf1Y0tw2O"
      },
      "source": [
        "#Part 3.4 #\n",
        "##Representation of each image as a histogram ##\n"
      ],
      "id": "_E8yf1Y0tw2O"
    },
    {
      "cell_type": "code",
      "metadata": {
        "id": "zLafv11Et6WL"
      },
      "source": [
        "# Histogram of an image with gray levels\n",
        "# we have the img1 from before so we can use that\n",
        "\n",
        "import matplotlib.image as mpimg\n",
        "\n",
        "#read the image\n",
        "#img1 = mpimg.imread('deer.jpg')\n",
        "\n",
        "\n",
        "plt.title(\"Histogram for a given image\")\n",
        "plt.xlabel(\"Pixel values (gray levels)\")\n",
        "plt.ylabel(\"Prob\")\n",
        "\n",
        "hist_b, bin_edges = np.histogram(img_training, bins=256, range=[0, 256])\n",
        "\n",
        "#plot the histogram\n",
        "plt.hist(hist_b, bins=256, range =[0, 256])\n",
        "\n",
        "print(hist_b)\n",
        "plt.show()\n",
        "\n",
        "\n",
        "\n",
        "#Normalize the histogram\n",
        "hist_norm = hist_b/sum(hist_b)\n",
        "plt.hist(hist_norm)\n",
        "plt.show()\n",
        "\n"
      ],
      "id": "zLafv11Et6WL",
      "execution_count": null,
      "outputs": []
    },
    {
      "cell_type": "markdown",
      "metadata": {
        "id": "s4_hzbC-2val"
      },
      "source": [
        "##STEP 4##\n",
        "Nearest Neighbor classifier\n",
        "\n"
      ],
      "id": "s4_hzbC-2val"
    },
    {
      "cell_type": "code",
      "metadata": {
        "id": "DjMfksCvtmeJ"
      },
      "source": [
        "# L2 distance\n",
        "\n",
        "\n",
        "# calculate the Euclidean distance between two vectors\n",
        "def euclidean_distance(hist_test, hist_train):\n",
        "\tdistance = 0.0\n",
        "\tfor i in range(len(hist_test)-1):\n",
        "\t\tdistance += (hist_test[i] - hist_train[i])**2\n",
        "\treturn sqrt(distance)\n",
        " \n",
        "# Locate the most similar neighbors\n",
        "def get_neighbors(train, test_row):\n",
        "\tdistances = list()\n",
        "\tfor train_row in train:\n",
        "\t\tdist = euclidean_distance(test_row, train_row)\n",
        "\t\tdistances.append((train_row, dist))\n",
        "\tdistances.sort(key=lambda tup: tup[1])\n",
        "\tneighbors = list()\n",
        "\tfor i in range(len(train)-1):\n",
        "\t\tneighbors.append(distances[i][0])\n",
        "\treturn neighbors\n",
        "\n",
        "                          \n",
        "\n",
        "def predict_classification(train, test_row):\n",
        "\tneighbors = get_neighbors(train, test_row)\n",
        "\toutput_values = [row[-1] for row in neighbors]\n",
        "\tprediction = max(set(output_values), key=output_values.count)\n",
        "\treturn prediction\n",
        "\n",
        "\n",
        "# predict the label\n",
        "label = predict_classification(dataset)\n",
        "print('Data=%s, Predicted: %s' % (row, label))"
      ],
      "id": "DjMfksCvtmeJ",
      "execution_count": null,
      "outputs": []
    },
    {
      "cell_type": "markdown",
      "metadata": {
        "id": "JU_x2hKABZ9z"
      },
      "source": [
        "## STEP 5 ##\n"
      ],
      "id": "JU_x2hKABZ9z"
    },
    {
      "cell_type": "code",
      "metadata": {
        "id": "_rSH-_TPBdKa"
      },
      "source": [
        "\n",
        "#First we need to use a classification model to make prediction for each example in a test data\n",
        "\n",
        "def predict_classification(train, test_row):\n",
        "\tneighbors = get_neighbors(train, test_row)\n",
        "\toutput_values = [row[-1] for row in neighbors]\n",
        "\tprediction = max(set(output_values), key=output_values.count)\n",
        "\treturn prediction\n",
        "\n",
        "\n",
        "# Accuracy = Correct Predictions /  Total Predictions\n",
        "# Error = 1 - Accuracy\n",
        "\n",
        "# Calculate accuracy percentage\n",
        "def accuracy_metric(actual, predicted):\n",
        "\tcorrect = 0\n",
        "\tfor i in range(len(actual)):\n",
        "\t\tif actual[i] == predicted[i]:\n",
        "\t\t\tcorrect += 1\n",
        "\treturn correct / float(len(actual)) * 100.0\n",
        "\n",
        "\n",
        "def confusion_matrix(actual,predicted):\n",
        "\n",
        "    # extract the different classes\n",
        "    classes = np.unique(actual)\n",
        "\n",
        "    # initialize the confusion matrix\n",
        "    confusionMatrix = np.zeros((len(classes), len(classes)))\n",
        "\n",
        "    # loop across the different combinations of actual / predicted classes\n",
        "    for i in range(len(classes)):\n",
        "        for j in range(len(classes)):\n",
        "\n",
        "           # count the number of instances in each combination of actual / predicted classes\n",
        "           confusionMatrix[i, j] = np.sum((actual == classes[i]) & (predicted == classes[j]))\n",
        "\n",
        "    return confusionMatrix\n",
        "\n"
      ],
      "id": "_rSH-_TPBdKa",
      "execution_count": null,
      "outputs": []
    }
  ]
}