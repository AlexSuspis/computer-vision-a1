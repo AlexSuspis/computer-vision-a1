{
  "nbformat": 4,
  "nbformat_minor": 0,
  "metadata": {
    "colab": {
      "name": "HistogramCode.ipynb",
      "provenance": [],
      "collapsed_sections": []
    },
    "kernelspec": {
      "name": "python3",
      "display_name": "Python 3"
    },
    "language_info": {
      "name": "python"
    }
  },
  "cells": [
    {
      "cell_type": "code",
      "metadata": {
        "id": "0-KbU46FnUbt"
      },
      "source": [
        "def build_histogram(descriptor_list, cluster_alg, c_result):\n",
        "    histogram = np.zeros(len(cluster_alg.cluster_centers_))\n",
        "    cluster_result = c_result\n",
        "    for i in cluster_result:\n",
        "        histogram[i] += 1.0\n",
        "    return histogram\n",
        "  \n",
        "\n",
        "preprocessed_image = []\n",
        "for i, image in enumerate(img_array):\n",
        "      if (desc[i] is not None):\n",
        "\n",
        "          kmeans = KMeans(k_array[i])\n",
        "          kmeans.fit(desc_array[i])\n",
        "          y_kmeans = kmeans.predict(desc_array[i])\n",
        "\n",
        "          histogram = build_histogram(desc[i], kmeans, y_kmeans)\n",
        "          preprocessed_image.append(histogram)"
      ],
      "execution_count": null,
      "outputs": []
    },
    {
      "cell_type": "code",
      "metadata": {
        "id": "Fpc62-06nW9q"
      },
      "source": [
        "for x in preprocessed_image:\n",
        "  print(x)\n",
        "\n",
        "  plt.hist(x, bins=\"auto\")\n",
        "  plt.title(\"Histogram with 'auto' bins\")\n",
        "  plt.show()"
      ],
      "execution_count": null,
      "outputs": []
    }
  ]
}